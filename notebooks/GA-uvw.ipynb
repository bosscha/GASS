{
 "cells": [
  {
   "cell_type": "markdown",
   "metadata": {},
   "source": [
    "### GASS UVW\n",
    "\n",
    "Notebook to test the uv coverage computation for an observation with a radio interferometer."
   ]
  },
  {
   "cell_type": "code",
   "execution_count": 92,
   "metadata": {},
   "outputs": [],
   "source": [
    "using Distances , Random \n",
    "using PyCall\n",
    "using DataFrames\n",
    "using LinearAlgebra\n",
    "using LsqFit\n",
    "using FFTW\n",
    "\n",
    "using StatsBase\n",
    "\n",
    "import CSV \n",
    "\n",
    "rootdir = \"/home/stephane/alma/ArrayConfig/GASS\"\n",
    "#rootdir = \"/home/stephane/Science/ALMA/ArrayConfig/GASS\"\n",
    "\n",
    "push!(LOAD_PATH,\"$rootdir/master/src\")\n",
    "using GASS\n",
    "\n",
    "import PyPlot\n",
    "\n",
    "@pyimport astropy.coordinates as coord\n",
    "@pyimport astropy.modeling.models as am\n",
    "@pyimport astropy.modeling.fitting as mf\n",
    "\n",
    "@pyimport numpy as np\n",
    "\n",
    "\n",
    "## directory\n",
    "datadir = \"$rootdir/master/data\"\n",
    "wdir    = \"$rootdir/products\"\n",
    "plotdir = \"$rootdir/products/test\"\n",
    "\n",
    "cd(wdir)"
   ]
  },
  {
   "cell_type": "markdown",
   "metadata": {},
   "source": [
    "### UVW methods\n",
    "\n",
    "Several to manipulate and analyze uv-coverage in (radio) interferometry. The examples are taken from ALMA, a (sub-) millieter radio interferometer located in the desert of Atacama, Chile"
   ]
  },
  {
   "cell_type": "code",
   "execution_count": 93,
   "metadata": {},
   "outputs": [
    {
     "data": {
      "text/plain": [
       "calc_uv_coverage (generic function with 0 methods)"
      ]
     },
     "execution_count": 93,
     "metadata": {},
     "output_type": "execute_result"
    }
   ],
   "source": [
    "## baseline coordinates\n",
    "## arr: DataFrames with at least :X, :Y, :Z\n",
    "## check at https://web.njit.edu/~gary/728/Lecture6.html\n",
    "\n",
    "function calc_baselines(arr::AbstractDataFrame , lat=-23.0262015)\n",
    "    \n",
    "    coordinates= vcat(hcat(convert(Vector{Float64},arr[:X]))' ,\n",
    "        hcat(convert(Vector{Float64},arr[:Y]))' ,\n",
    "        hcat(convert(Vector{Float64},arr[:Z]))')\n",
    "    rot= [0 -sind(lat) cosd(lat) ; 1 0 0 ; 0  cosd(lat)  sind(lat)]\n",
    "    xyz= *(rot,coordinates)\n",
    "    \n",
    "    Nc= size(xyz)\n",
    "    Nbl= convert(Int64,(Nc[2]*(Nc[2]-1))/2)   \n",
    "    bl= zeros(Float64,3,2Nbl)   ## symmetry of the bl\n",
    "    \n",
    "    ibl= 1\n",
    "    for i in 1:Nc[2]\n",
    "        for j in i+1:Nc[2]\n",
    "            bl[1,ibl]= xyz[1,i]-xyz[1,j] ; bl[1,ibl+Nbl]= xyz[1,j]-xyz[1,i]\n",
    "            bl[2,ibl]= xyz[2,i]-xyz[2,j] ; bl[2,ibl+Nbl]= xyz[2,j]-xyz[2,i]\n",
    "            bl[3,ibl]= xyz[3,i]-xyz[3,j] ; bl[3,ibl+Nbl]= xyz[3,j]-xyz[3,i]\n",
    "            ibl += 1\n",
    "        end\n",
    "    end\n",
    "    return(bl)\n",
    "end\n",
    "\n",
    "####\n",
    "##  bl: baselines computed in calc_baselines\n",
    "### h0: hour angle in degrees\n",
    "### d0: source declination in degrees\n",
    "function calc_uv(bl, h0, d0)\n",
    "    \n",
    "    proj= [sind(h0) cosd(h0) 0 ; -sind(d0)cosd(h0) sind(d0)sind(h0) cosd(d0) ; cosd(d0)cosd(h0) -cosd(d0)sind(h0) sind(d0)]\n",
    "    uv= *(proj, bl)\n",
    "    return(uv)\n",
    "end\n",
    "\n",
    "function calc_uv_coverage\n",
    "    ## will compute the uv_coverage with an observing and sampling time ..\n",
    "    ## for now only a snapshot.\n",
    "end"
   ]
  },
  {
   "cell_type": "code",
   "execution_count": 94,
   "metadata": {},
   "outputs": [
    {
     "data": {
      "text/plain": [
       "pyuv_beamproperties (generic function with 1 method)"
      ]
     },
     "execution_count": 94,
     "metadata": {},
     "output_type": "execute_result"
    }
   ],
   "source": [
    "## Compute properties of a given UV coverage.\n",
    "## a first shot is by using numpy\n",
    "function mgrid(xsize, ysize)\n",
    "    xx= []\n",
    "    for i in 0:xsize\n",
    "        push!(xx,fill!(zeros(Int64,xsize+1),i))\n",
    "    end\n",
    "    \n",
    "    yy= []\n",
    "    for j in 0:ysize\n",
    "        push!(yy,collect(0:ysize))\n",
    "    end\n",
    "    \n",
    "    println(size(xx))\n",
    "    println(size(yy))\n",
    "    return(xx,yy)\n",
    "end\n",
    "\n",
    "function pyuv_beamproperties(uv; npix=512, sizefit=60)\n",
    "    lmax= maximum(abs.(uv))\n",
    "    dx= 2lmax  / npix\n",
    "    binx= range(-lmax,stop=lmax,length=npix)\n",
    "    ds = dx / (299792458.0 / (100 * 1e9))\n",
    "    dr= 180*3600/(π*npix*ds)   ## arcsec\n",
    "    gaussian_sigma_to_fwhm=2.3548200450309493\n",
    "\n",
    "    H, xd, yd = np.histogram2d(uv[1,:], uv[2,:], bins=(collect(binx), collect(binx)))\n",
    "    \n",
    "    ## appl ying Briggs weighting with a Robust parameter of 0.5\n",
    "    Hsum= sum(H)\n",
    "    H2sum= sum(1 ./ H[H.>0].^2)/Hsum\n",
    "    f2= (5*10^0.5)^2 * H2sum\n",
    "    H2 = H ./ (1 .+ f2 .* H)\n",
    "    \n",
    "    h = np.fft[:fft2](H2)\n",
    "    hshift = abs.(real.(np.fft[:fftshift](h)))\n",
    "    \n",
    "    center= npix/2\n",
    "    coord_a= convert(Int64,center-sizefit/2)\n",
    "    coord_b= convert(Int64,center+sizefit/2)\n",
    "    \n",
    "    x, y = mgrid(sizefit, sizefit)\n",
    "    hshiftcut= hshift'[coord_a:coord_b, coord_a:coord_b]\n",
    "    p_init = am.Gaussian2D(amplitude=maximum(hshiftcut),x_mean=sizefit/2, y_mean=sizefit/2,\n",
    "        x_stddev=1, y_stddev=1)\n",
    "    \n",
    "    fit_p = mf.LevMarLSQFitter()\n",
    "    p = fit_p(p_init, x, y, hshiftcut, maxiter=100)\n",
    "    println(p)\n",
    "    println(p[:x_stddev]*dr*gaussian_sigma_to_fwhm)\n",
    "    println(p[:y_stddev]*dr*gaussian_sigma_to_fwhm)\n",
    "    println(p[:theta]*180/π)\n",
    "    \n",
    "    return(hshiftcut)\n",
    "end\n",
    "\n"
   ]
  },
  {
   "cell_type": "code",
   "execution_count": 95,
   "metadata": {},
   "outputs": [
    {
     "data": {
      "text/plain": [
       "pyuv_beampropertiesTEST (generic function with 1 method)"
      ]
     },
     "execution_count": 95,
     "metadata": {},
     "output_type": "execute_result"
    }
   ],
   "source": [
    "###################################\n",
    "function pyuv_beampropertiesTEST(uv; npix=512, sizefit=60)\n",
    "    lmax= maximum(abs.(uv))\n",
    "    dx= 16lmax  / npix\n",
    "    binx= range(-8lmax,stop=8lmax,length=npix)\n",
    "    ds = dx / (299792458.0 / (100 * 1e9))\n",
    "    println(dx*npix)\n",
    "    dr= 180*3600/(π*npix*ds)   ## arcsec\n",
    "    gaussian_sigma_to_fwhm=2.3548200450309493\n",
    "\n",
    "    H, xd, yd = np.histogram2d(uv[1,:], uv[2,:], bins=(collect(binx), collect(binx)))\n",
    "    \n",
    "    ## appl ying Briggs weighting with a Robust parameter of 0.5\n",
    "    Hsum= sum(H)\n",
    "    H2sum= sum(1 ./ H[H .> 0].^2)/Hsum\n",
    "    \n",
    "    println(size(H))\n",
    "    for i in 1:252\n",
    "        for j in 1:252\n",
    "            if H[i,j] > 0\n",
    "                #H[i,j]= 1\n",
    "            end\n",
    "        end\n",
    "    end\n",
    "    \n",
    "    R= 0.5\n",
    "    f2= (5 * 10.0^(-R))^2 * H2sum \n",
    "    H2 = H ./ (1 .+ f2 .* H)\n",
    "    \n",
    "    #R= -20\n",
    "    #f2= (5 * 10.0^(-R))^2 * H2sum \n",
    "    #H3 = H ./ (1 .+ f2 .* H)\n",
    "\n",
    "    #h = np.fft[:fft2](H2)\n",
    "    h= fft(H2)\n",
    "    \n",
    "    # hshift = abs.(real.(np.fft[:fftshift](h)))\n",
    "    hshift= fftshift(abs.(real.(h)))\n",
    " \n",
    "    center= npix/2\n",
    "    coord_a= convert(Int64,center-sizefit/2)\n",
    "    coord_b= convert(Int64,center+sizefit/2)\n",
    "    \n",
    "    x, y = mgrid(sizefit, sizefit)\n",
    "    hshiftcut= hshift'[coord_a:coord_b, coord_a:coord_b]\n",
    "    p_init = am.Gaussian2D(amplitude=maximum(hshiftcut),x_mean=sizefit/2, y_mean=sizefit/2,\n",
    "        x_stddev=1, y_stddev=1)\n",
    "    \n",
    "    fit_p = mf.LevMarLSQFitter()\n",
    "    p = fit_p(p_init, x, y, hshiftcut, maxiter=100)\n",
    "    println(p)\n",
    "    println(p[:y_stddev]*dr*gaussian_sigma_to_fwhm)\n",
    "    println(p[:x_stddev]*dr*gaussian_sigma_to_fwhm)\n",
    "    println(p[:theta]*180/π)\n",
    "    \n",
    "    return(hshiftcut)\n",
    "end\n"
   ]
  },
  {
   "cell_type": "code",
   "execution_count": 96,
   "metadata": {},
   "outputs": [
    {
     "data": {
      "text/plain": [
       "calc_uvgridWeight (generic function with 3 methods)"
      ]
     },
     "execution_count": 96,
     "metadata": {},
     "output_type": "execute_result"
    }
   ],
   "source": [
    "################################\n",
    "## setup the npix,fov, freq, etc for the beam extraction from the uv\n",
    "## coverage. It is based on the uniform weighting 2/FOV for the uv-cell\n",
    "##\n",
    "function calc_uvgridWeight(uv, npix=255, sizefit=63)\n",
    "    println(\"## UV gridding and weighting...\")\n",
    "    c= 299792458.0  ; ν= 100*1e9 ; λ= c / ν\n",
    "    D= 12 ; PB= 1.13 * λ / D\n",
    "    println(PB*180*3600 / π)\n",
    "    duv= 2/PB/npix\n",
    "    lmax= maximum(abs.(uv))\n",
    "    \n",
    "    if (duv*npix/2) < lmax\n",
    "        println(\"##UV-gridding error, npix too small...\")\n",
    "    end\n",
    "    \n",
    "    binuv= range(-duv*npix/2, stop=duv*npix/2,npix, length=npix)\n",
    "    \n",
    "    Hh= fit(Histogram, (uv[1,:] , uv[2,:]) , (binuv , binuv))\n",
    "    H= Hh.weights\n",
    "    \n",
    "    ## Robust weighting R (Briggs)\n",
    "    ## R=-2 : uniform\n",
    "    ## R=2 : naturañ\n",
    "    ## R=0.5 : \"briggs\"\n",
    "    Hsum= sum(H)\n",
    "    H2sum= sum(1 ./ H[H .> 0].^2)/Hsum\n",
    "    R= 0.5\n",
    "    f2= (5 * 10.0^(-R))^2 * H2sum \n",
    "    H2 = H ./ (1 .+ f2 .* H)\n",
    " \n",
    "    h= fft(H2)\n",
    "    hshift= fftshift(abs.(real.(h)))\n",
    "    \n",
    "    center= npix/2\n",
    "    coord_a= convert(Int64,center-sizefit/2)\n",
    "    coord_b= convert(Int64,center+sizefit/2)\n",
    "    \n",
    "    x, y = mgrid(sizefit, sizefit)\n",
    "    hshiftcut= hshift'[coord_a:coord_b, coord_a:coord_b]\n",
    "    \n",
    "    println(\"###\")\n",
    "    return(hshiftcut , x, y)\n",
    "end\n"
   ]
  },
  {
   "cell_type": "code",
   "execution_count": 97,
   "metadata": {},
   "outputs": [
    {
     "data": {
      "text/plain": [
       "fit_beam (generic function with 1 method)"
      ]
     },
     "execution_count": 97,
     "metadata": {},
     "output_type": "execute_result"
    }
   ],
   "source": [
    "## fitting of the Gaussian 2D for the beam\n",
    "##\n",
    "\n",
    "function gaussian2D(x,y, amplitude, xo, yo, sigma_x, sigma_y, theta, offset)\n",
    "    a = (cosd(theta)^2)/(2*sigma_x^2) + (sind(theta)^2)/(2*sigma_y^2)\n",
    "    b = -(sind(2*theta))/(4*sigma_x^2) + (sind(2*theta))/(4*sigma_y^2)\n",
    "    c = (sind(theta)^2)/(2*sigma_x^2) + (cosd(theta)^22)/(2*sigma_y^2)\n",
    "    gauss2d= offset + amplitude*exp( -(a*((x-xo)^2) + 2*b*(x-xo)*(y-yo) + c*((y-yo)^2)))\n",
    "\n",
    "    return(gauss2d)\n",
    "end\n",
    "\n",
    "#################################\n",
    "function fit_beam(beam)\n",
    "    @. multimodel(x, p) = gaussian2D(x[:,1], x[:,2], p[1], p[2] , p[3] , p[4] , p[5], p[6] , p[7])\n",
    "    \n",
    "    bs= size(beam)\n",
    "    h= reshape(beam,(bs[1]*bs[2],))\n",
    "    println(y)\n",
    "    \n",
    "    xx= Array\n",
    "    \n",
    "    p0 = [maximum(beam) , 0 , 0 , 1, 1, 0, 0]\n",
    "    fit=0\n",
    "    #fit = curve_fit(multimodel, x, beam, p0)\n",
    "     \n",
    "    return(fit)\n",
    "end"
   ]
  },
  {
   "cell_type": "code",
   "execution_count": 98,
   "metadata": {},
   "outputs": [
    {
     "name": "stdout",
     "output_type": "stream",
     "text": [
      "## Input Parameters for GASS \n",
      "## Configuration file: ../master/data/O-3.cfg \n",
      "## Obs. Latitude: -23.026 \n",
      "## Source Declination: -50.0 \n",
      "## HA: -1.0 \n",
      "## Subarray number: 4 \n",
      "## UV gridding and weighting...\n",
      "58.22949632332764\n",
      "(6,)\n",
      "(6,)\n",
      "###\n",
      "3901.9939129599998\n",
      "(254, 254)\n",
      "(254,)\n",
      "(254,)\n",
      "PyObject <Gaussian2D(amplitude=1156.75612614, x_mean=127., y_mean=127., x_stddev=7.0230377, y_stddev=9.99443864, theta=-1.58639519)>\n",
      "PyObject 3.729712692304337\n",
      "PyObject 2.6208488353535606\n",
      "PyObject -90.8937491867379\n"
     ]
    },
    {
     "ename": "LoadError",
     "evalue": "DimensionMismatch(\"new dimensions (36,) must be consistent with array size 6\")",
     "output_type": "error",
     "traceback": [
      "DimensionMismatch(\"new dimensions (36,) must be consistent with array size 6\")",
      "",
      "Stacktrace:",
      " [1] _throw_dmrsa(::Tuple{Int64}, ::Int64) at ./array.jl:322",
      " [2] reshape at ./array.jl:304 [inlined]",
      " [3] fit_beam(::Array{Float64,2}, ::Array{Any,1}, ::Array{Any,1}) at ./In[97]:19",
      " [4] @main(::LineNumberNode, ::Module, ::Any) at ./In[98]:11"
     ]
    }
   ],
   "source": [
    "### Main\n",
    "macro main(inpfile)\n",
    "    cfg = read_cfg(inpfile , verbose=true)\n",
    "    \n",
    "    ## array test\n",
    "    bl= calc_baselines(cfg.arr)\n",
    "    # uv= calc_uv(bl, 0.0,  cfg.obs.Source_Declination)\n",
    "    uv= calc_uv(bl, 0.0, 30)\n",
    "    h , x, y=  calc_uvgridWeight(uv , 255, 5)\n",
    "    dirty= pyuv_beampropertiesTEST(uv , npix=255, sizefit=253)\n",
    "    fit= fit_beam(h, x , y)\n",
    "\n",
    "    \n",
    "    PyPlot.imshow(h)\n",
    "    PyPlot.colorbar()\n",
    "    PyPlot.show()\n",
    "    \n",
    "end\n",
    "\n",
    "@main(\"../master/data/GA_Inputs_O-3.txt.julia\")"
   ]
  }
 ],
 "metadata": {
  "kernelspec": {
   "display_name": "Julia 1.0.1",
   "language": "julia",
   "name": "julia-1.0"
  },
  "language_info": {
   "file_extension": ".jl",
   "mimetype": "application/julia",
   "name": "julia",
   "version": "1.0.1"
  }
 },
 "nbformat": 4,
 "nbformat_minor": 2
}
