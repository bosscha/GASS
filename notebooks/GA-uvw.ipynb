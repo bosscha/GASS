{
 "cells": [
  {
   "cell_type": "markdown",
   "metadata": {},
   "source": [
    "### GASS UVW\n",
    "\n",
    "Notebook to test the uv coverage computation for an observation with a radio interferometer."
   ]
  },
  {
   "cell_type": "code",
   "execution_count": 13,
   "metadata": {},
   "outputs": [],
   "source": [
    "using Distances , Random \n",
    "using PyCall\n",
    "using DataFrames\n",
    "\n",
    "import CSV \n",
    "\n",
    "rootdir = \"/home/stephane/Science/ALMA/ArrayConfig/GASS\"\n",
    "\n",
    "push!(LOAD_PATH,\"$rootdir/master/src\")\n",
    "using GASS\n",
    "\n",
    "import PyPlot\n",
    "\n",
    "@pyimport astroquery.vizier as vizier\n",
    "@pyimport astropy.units as u\n",
    "@pyimport astropy.coordinates as coord\n",
    "\n",
    "## directory\n",
    "datadir = \"$rootdir/master/data\"\n",
    "wdir    = \"$rootdir/products\"\n",
    "plotdir = \"$rootdir/products/test\"\n",
    "\n",
    "cd(wdir)"
   ]
  },
  {
   "cell_type": "markdown",
   "metadata": {},
   "source": [
    "### UVW methods\n",
    "\n",
    "Several to manipulate and analyze uv-coverage in (radio) interferometry. The examples are taken from ALMA, a (sub-) millieter radio interferometer located in the desert of Atacama, Chile"
   ]
  },
  {
   "cell_type": "code",
   "execution_count": 14,
   "metadata": {},
   "outputs": [
    {
     "data": {
      "text/plain": [
       "calc_baselines (generic function with 2 methods)"
      ]
     },
     "execution_count": 14,
     "metadata": {},
     "output_type": "execute_result"
    }
   ],
   "source": [
    "## baseline coordinates\n",
    "## arr: DataFrames with at least :X, :Y, :Z\n",
    "\n",
    "function calc_baselines(arr::AbstractDataFrame , lat=-23.0262015)\n",
    "    println(arr)\n",
    "    rot =  Matrix{Float64}(nothing,3,3)\n",
    "    rot= [0, -1 * sind(lat), cosd(lat)],\n",
    "         [1, 0, 0],\n",
    "         [0, cosd(lat), sind(lat)]\n",
    "    \n",
    "    return(rot)\n",
    "    \n",
    "end"
   ]
  },
  {
   "cell_type": "code",
   "execution_count": 15,
   "metadata": {},
   "outputs": [
    {
     "name": "stdout",
     "output_type": "stream",
     "text": [
      "50×5 DataFrame\n",
      "│ Row │ X        │ Y        │ Z          │ diam     │ name    │\n",
      "│     │ \u001b[90mFloat64⍰\u001b[39m │ \u001b[90mFloat64⍰\u001b[39m │ \u001b[90mFloat64⍰\u001b[39m   │ \u001b[90mFloat64⍰\u001b[39m │ \u001b[90mString⍰\u001b[39m │\n",
      "├─────┼──────────┼──────────┼────────────┼──────────┼─────────┤\n",
      "│ 1   │ -33.8941 │ -712.752 │ -2.33009   │ 12.0     │ A001    │\n",
      "│ 2   │ -22.5589 │ -691.984 │ -2.32374   │ 12.0     │ A003    │\n",
      "│ 3   │ -9.8351  │ -663.827 │ -2.7227    │ 12.0     │ A009    │\n",
      "│ 4   │ 10.7399  │ -659.567 │ -2.72626   │ 12.0     │ A015    │\n",
      "│ 5   │ -20.6204 │ -633.907 │ -2.52767   │ 12.0     │ A016    │\n",
      "│ 6   │ -41.2393 │ -725.978 │ -2.33663   │ 12.0     │ A018    │\n",
      "│ 7   │ -61.0568 │ -722.793 │ -1.93443   │ 12.0     │ A020    │\n",
      "│ 8   │ -86.8729 │ -732.262 │ -1.92881   │ 12.0     │ A026    │\n",
      "│ 9   │ -103.296 │ -719.779 │ -1.93063   │ 12.0     │ A032    │\n",
      "│ 10  │ -105.439 │ -755.003 │ -1.64075   │ 12.0     │ A033    │\n",
      "│ 11  │ -26.0419 │ -726.189 │ -2.33258   │ 12.0     │ A035    │\n",
      "│ 12  │ -15.3995 │ -746.359 │ -2.33188   │ 12.0     │ A036    │\n",
      "│ 13  │ 2.38262  │ -763.286 │ -2.83887   │ 12.0     │ A042    │\n",
      "│ 14  │ -1.52336 │ -788.945 │ -2.83701   │ 12.0     │ A048    │\n",
      "│ 15  │ -5.28917 │ -862.854 │ -1.54662   │ 12.0     │ A060    │\n",
      "│ 16  │ -57.3605 │ -861.945 │ -1.30276   │ 12.0     │ A061    │\n",
      "│ 17  │ -79.5438 │ -828.94  │ -1.2956    │ 12.0     │ A062    │\n",
      "│ 18  │ 27.5733  │ -827.398 │ -2.34496   │ 12.0     │ A064    │\n",
      "│ 19  │ -1.51589 │ -616.827 │ -3.32696   │ 12.0     │ A065    │\n",
      "│ 20  │ -54.7118 │ -616.689 │ -2.52118   │ 12.0     │ A066    │\n",
      "│ 21  │ 84.323   │ -698.102 │ -3.98393   │ 12.0     │ A067    │\n",
      "│ 22  │ -140.507 │ -651.164 │ -0.634931  │ 12.0     │ A068    │\n",
      "│ 23  │ -159.552 │ -789.469 │ -0.0850667 │ 12.0     │ A069    │\n",
      "│ 24  │ 108.098  │ -762.867 │ -4.09474   │ 12.0     │ A070    │\n",
      "│ 25  │ -118.867 │ -582.609 │ -0.492832  │ 12.0     │ A071    │\n",
      "│ 26  │ 89.094   │ -599.96  │ -5.66196   │ 12.0     │ A072    │\n",
      "│ 27  │ -205.149 │ -724.69  │ 0.219354   │ 12.0     │ A073    │\n",
      "│ 28  │ 103.717  │ -847.992 │ -4.49246   │ 12.0     │ A074    │\n",
      "│ 29  │ -62.6495 │ -519.066 │ -1.50652   │ 12.0     │ A075    │\n",
      "│ 30  │ -136.07  │ -902.086 │ 0.926478   │ 12.0     │ A076    │\n",
      "│ 31  │ 159.55   │ -656.92  │ -3.35097   │ 12.0     │ A077    │\n",
      "│ 32  │ -225.2   │ -626.959 │ 0.25508    │ 12.0     │ A078    │\n",
      "│ 33  │ 58.7495  │ -939.669 │ -0.925793  │ 12.0     │ A079    │\n",
      "│ 34  │ 29.3883  │ -480.594 │ -3.49825   │ 12.0     │ A080    │\n",
      "│ 35  │ -232.639 │ -862.215 │ -2.63677   │ 12.0     │ A081    │\n",
      "│ 36  │ 210.952  │ -760.34  │ -7.722     │ 12.0     │ A082    │\n",
      "│ 37  │ -201.62  │ -507.585 │ 2.95153    │ 12.0     │ A083    │\n",
      "│ 38  │ -34.1301 │ -1015.69 │ 4.27568    │ 12.0     │ A084    │\n",
      "│ 39  │ 149.605  │ -491.583 │ -7.81278   │ 12.0     │ A085    │\n",
      "│ 40  │ -320.565 │ -763.861 │ 2.92101    │ 12.0     │ A086    │\n",
      "│ 41  │ 210.998  │ -883.466 │ -6.96694   │ 12.0     │ A087    │\n",
      "│ 42  │ -71.1672 │ -427.394 │ -0.557779  │ 12.0     │ A088    │\n",
      "│ 43  │ -115.706 │ -1075.44 │ 6.89189    │ 12.0     │ A089    │\n",
      "│ 44  │ 278.417  │ -571.571 │ -11.9458   │ 12.0     │ A090    │\n",
      "│ 45  │ -370.974 │ -604.124 │ -0.592511  │ 12.0     │ A091    │\n",
      "│ 46  │ 159.506  │ -1067.09 │ -1.91465   │ 12.0     │ A092    │\n",
      "│ 47  │ 28.8995  │ -305.417 │ -2.93441   │ 12.0     │ A093    │\n",
      "│ 48  │ -322.525 │ -1004.13 │ -3.52353   │ 12.0     │ A094    │\n",
      "│ 49  │ 427.013  │ -741.484 │ -12.8576   │ 12.0     │ A095    │\n",
      "│ 50  │ -405.236 │ -342.144 │ -1.63107   │ 12.0     │ A096    │\n"
     ]
    },
    {
     "ename": "LoadError",
     "evalue": "MethodError: Cannot `convert` an object of type Nothing to an object of type Float64\nClosest candidates are:\n  convert(::Type{T<:Number}, !Matched::T<:Number) where T<:Number at number.jl:6\n  convert(::Type{T<:Number}, !Matched::Number) where T<:Number at number.jl:7\n  convert(::Type{T<:Number}, !Matched::Base.TwicePrecision) where T<:Number at twiceprecision.jl:250\n  ...",
     "output_type": "error",
     "traceback": [
      "MethodError: Cannot `convert` an object of type Nothing to an object of type Float64\nClosest candidates are:\n  convert(::Type{T<:Number}, !Matched::T<:Number) where T<:Number at number.jl:6\n  convert(::Type{T<:Number}, !Matched::Number) where T<:Number at number.jl:7\n  convert(::Type{T<:Number}, !Matched::Base.TwicePrecision) where T<:Number at twiceprecision.jl:250\n  ...",
      "",
      "Stacktrace:",
      " [1] fill!(::Array{Float64,2}, ::Nothing) at ./array.jl:386",
      " [2] Array{Float64,2}(::Nothing, ::Int64, ::Vararg{Int64,N} where N) at ./sysimg.jl:161",
      " [3] calc_baselines(::DataFrame, ::Float64) at ./In[14]:6",
      " [4] calc_baselines(::DataFrame) at ./In[14]:5",
      " [5] @main(::LineNumberNode, ::Module, ::Any) at ./In[15]:6"
     ]
    }
   ],
   "source": [
    "### Main\n",
    "macro main(inpfile)\n",
    "    cfg = read_cfg(inpfile)\n",
    "    \n",
    "    ## array test\n",
    "    calc_baselines(cfg.arr)\n",
    "end\n",
    "\n",
    "@main(\"../master/data/GA_Inputs_O-10.txt.julia\")"
   ]
  }
 ],
 "metadata": {
  "kernelspec": {
   "display_name": "Julia 1.0.1",
   "language": "julia",
   "name": "julia-1.0"
  },
  "language_info": {
   "file_extension": ".jl",
   "mimetype": "application/julia",
   "name": "julia",
   "version": "1.0.1"
  }
 },
 "nbformat": 4,
 "nbformat_minor": 2
}
