{
 "cells": [
  {
   "cell_type": "markdown",
   "metadata": {},
   "source": [
    "### GASS UVW\n",
    "\n",
    "Notebook to test the uv coverage computation for an observation with a radio interferometer."
   ]
  },
  {
   "cell_type": "code",
   "execution_count": 1,
   "metadata": {},
   "outputs": [
    {
     "name": "stderr",
     "output_type": "stream",
     "text": [
      "┌ Warning: `@pyimport foo` is deprecated in favor of `foo = pyimport(\"foo\")`.\n",
      "│   caller = _pywrap_pyimport(::PyObject) at PyCall.jl:407\n",
      "└ @ PyCall /home/stephane/.julia/packages/PyCall/ttONZ/src/PyCall.jl:407\n"
     ]
    }
   ],
   "source": [
    "using Distances , Random \n",
    "using PyCall\n",
    "using DataFrames\n",
    "using LsqFit\n",
    "using FFTW\n",
    "\n",
    "using StatsBase\n",
    "\n",
    "import CSV \n",
    "\n",
    "#rootdir = \"/home/stephane/alma/ArrayConfig/GASS\"\n",
    "rootdir = \"/home/stephane/Science/ALMA/ArrayConfig/GASS\"\n",
    "\n",
    "push!(LOAD_PATH,\"$rootdir/master/src\")\n",
    "using GASS\n",
    "\n",
    "import PyPlot\n",
    "\n",
    "@pyimport astropy.coordinates as coord\n",
    "@pyimport astropy.modeling.models as am\n",
    "@pyimport astropy.modeling.fitting as mf\n",
    "\n",
    "@pyimport numpy as np\n",
    "\n",
    "\n",
    "## directory\n",
    "datadir = \"$rootdir/master/data\"\n",
    "wdir    = \"$rootdir/products\"\n",
    "plotdir = \"$rootdir/products/test\"\n",
    "\n",
    "cd(wdir)"
   ]
  },
  {
   "cell_type": "code",
   "execution_count": 2,
   "metadata": {},
   "outputs": [],
   "source": [
    "struct _synthbeam\n",
    "    bx::Float64\n",
    "    by::Float64\n",
    "    ar::Float64\n",
    "    e::Float64\n",
    "    sidelobe::Float64\n",
    "end"
   ]
  },
  {
   "cell_type": "markdown",
   "metadata": {},
   "source": [
    "### UVW methods\n",
    "\n",
    "Several to manipulate and analyze uv-coverage in (radio) interferometry. The examples are taken from ALMA, a (sub-) millieter radio interferometer located in the desert of Atacama, Chile"
   ]
  },
  {
   "cell_type": "code",
   "execution_count": 3,
   "metadata": {},
   "outputs": [
    {
     "data": {
      "text/plain": [
       "calc_uv_coverage (generic function with 0 methods)"
      ]
     },
     "execution_count": 3,
     "metadata": {},
     "output_type": "execute_result"
    }
   ],
   "source": [
    "## baseline coordinates\n",
    "## arr: DataFrames with at least :X, :Y, :Z\n",
    "## check at https://web.njit.edu/~gary/728/Lecture6.html\n",
    "\n",
    "function _calc_baselines(arr::AbstractDataFrame , lat=-23.0262015)\n",
    "    \n",
    "    coordinates= vcat(hcat(convert(Vector{Float64},arr[:X]))' ,\n",
    "        hcat(convert(Vector{Float64},arr[:Y]))' ,\n",
    "        hcat(convert(Vector{Float64},arr[:Z]))')\n",
    "    rot= [0 -sind(lat) cosd(lat) ; 1 0 0 ; 0  cosd(lat)  sind(lat)]\n",
    "    xyz= *(rot,coordinates)\n",
    "    \n",
    "    Nc= size(xyz)\n",
    "    Nbl= convert(Int64,(Nc[2]*(Nc[2]-1))/2)   \n",
    "    bl= zeros(Float64,3,2Nbl)   ## symmetry of the bl\n",
    "    \n",
    "    ibl= 1\n",
    "    for i in 1:Nc[2]\n",
    "        for j in i+1:Nc[2]\n",
    "            bl[1,ibl]= xyz[1,i]-xyz[1,j] ; bl[1,ibl+Nbl]= xyz[1,j]-xyz[1,i]\n",
    "            bl[2,ibl]= xyz[2,i]-xyz[2,j] ; bl[2,ibl+Nbl]= xyz[2,j]-xyz[2,i]\n",
    "            bl[3,ibl]= xyz[3,i]-xyz[3,j] ; bl[3,ibl+Nbl]= xyz[3,j]-xyz[3,i]\n",
    "            ibl += 1\n",
    "        end\n",
    "    end\n",
    "    return(bl)\n",
    "end\n",
    "\n",
    "####\n",
    "##  bl: baselines computed in calc_baselines\n",
    "### h0: hour angle in degrees\n",
    "### d0: source declination in degrees\n",
    "### only snapshot still...\n",
    "function _calc_uv(bl, h0=0, d0=-50)\n",
    "    \n",
    "    h0 *= 15   #hours to degree\n",
    "    proj= [sind(h0) cosd(h0) 0 ; -sind(d0)cosd(h0) sind(d0)sind(h0) cosd(d0) ; cosd(d0)cosd(h0) -cosd(d0)sind(h0) sind(d0)]\n",
    "    uv= *(proj, bl)\n",
    "    return(uv)\n",
    "end\n",
    "\n",
    "function calc_uv_coverage\n",
    "    ## will compute the uv_coverage with an observing and sampling time ..\n",
    "    ## for now only a snapshot.\n",
    "end"
   ]
  },
  {
   "cell_type": "code",
   "execution_count": 4,
   "metadata": {},
   "outputs": [
    {
     "data": {
      "text/plain": [
       "pyuv_beamproperties (generic function with 1 method)"
      ]
     },
     "execution_count": 4,
     "metadata": {},
     "output_type": "execute_result"
    }
   ],
   "source": [
    "## Compute properties of a given UV coverage.\n",
    "## a first shot is by using numpy\n",
    "function mgrid(xsize, ysize)\n",
    "    xx= []\n",
    "    for i in 0:xsize\n",
    "        push!(xx,fill!(zeros(Int64,xsize+1),i))\n",
    "    end\n",
    "    \n",
    "    yy= []\n",
    "    for j in 0:ysize\n",
    "        push!(yy,collect(0:ysize))\n",
    "    end\n",
    "    \n",
    "    println(size(xx))\n",
    "    println(size(yy))\n",
    "    return(xx,yy)\n",
    "end\n",
    "\n",
    "function pyuv_beamproperties(uv; npix=512, sizefit=60)\n",
    "    lmax= maximum(abs.(uv))\n",
    "    dx= 2lmax  / npix\n",
    "    binx= range(-lmax,stop=lmax,length=npix)\n",
    "    ds = dx / (299792458.0 / (100 * 1e9))\n",
    "    dr= 180*3600/(π*npix*ds)   ## arcsec\n",
    "    println(dr)\n",
    "    gaussian_sigma_to_fwhm=2.3548200450309493\n",
    "\n",
    "    H, xd, yd = np.histogram2d(uv[1,:], uv[2,:], bins=(collect(binx), collect(binx)))\n",
    "    \n",
    "    ## appl ying Briggs weighting with a Robust parameter of 0.5\n",
    "    Hsum= sum(H)\n",
    "    H2sum= sum(1 ./ H[H.>0].^2)/Hsum\n",
    "    f2= (5*10^0.5)^2 * H2sum\n",
    "    H2 = H ./ (1 .+ f2 .* H)\n",
    "    \n",
    "    h = np.fft[:fft2](H2)\n",
    "    hshift = abs.(real.(np.fft[:fftshift](h)))\n",
    "    \n",
    "    center= npix/2\n",
    "    coord_a= convert(Int64,center-sizefit/2)\n",
    "    coord_b= convert(Int64,center+sizefit/2)\n",
    "    \n",
    "    x, y = mgrid(sizefit, sizefit)\n",
    "    hshiftcut= hshift'[coord_a:coord_b, coord_a:coord_b]\n",
    "    p_init = am.Gaussian2D(amplitude=maximum(hshiftcut),x_mean=sizefit/2, y_mean=sizefit/2,\n",
    "        x_stddev=1, y_stddev=1)\n",
    "    \n",
    "    fit_p = mf.LevMarLSQFitter()\n",
    "    p = fit_p(p_init, x, y, hshiftcut, maxiter=100)\n",
    "    println(p)\n",
    "    println(p[:x_stddev]*dr*gaussian_sigma_to_fwhm)\n",
    "    println(p[:y_stddev]*dr*gaussian_sigma_to_fwhm)\n",
    "    println(p[:theta]*180/π)\n",
    "    \n",
    "    return(hshiftcut)\n",
    "end\n",
    "\n"
   ]
  },
  {
   "cell_type": "code",
   "execution_count": 5,
   "metadata": {},
   "outputs": [
    {
     "data": {
      "text/plain": [
       "pyuv_beampropertiesTEST (generic function with 1 method)"
      ]
     },
     "execution_count": 5,
     "metadata": {},
     "output_type": "execute_result"
    }
   ],
   "source": [
    "###################################\n",
    "function pyuv_beampropertiesTEST(uv; npix=512, sizefit=60 , robust=2)\n",
    "    println(\"## pyuv_beampropertiesTEST\")\n",
    "    lmax= maximum(abs.(uv))\n",
    "    dx= 16lmax  / npix\n",
    "    binx= range(-8lmax,stop=8lmax,length=npix)\n",
    "    ds = dx / (299792458.0 / (100 * 1e9))\n",
    "    println(dx*npix)\n",
    "    dr= 180*3600/(π*npix*ds)   ## arcsec\n",
    "    println(dr)\n",
    "    gaussian_sigma_to_fwhm=2.3548200450309493\n",
    "\n",
    "    H, xd, yd = np.histogram2d(uv[1,:], uv[2,:], bins=(collect(binx), collect(binx)))\n",
    "    \n",
    "    ## appl ying Briggs weighting with a Robust parameter of 0.5\n",
    "    Hsum= sum(H)\n",
    "    H2sum= sum(1 ./ H[H .> 0].^2)/Hsum\n",
    "    \n",
    "    f2= (5 * 10.0^(-robust))^2 * H2sum \n",
    "    H2 = H ./ (1 .+ f2 .* H)\n",
    "\n",
    "    #h = np.fft[:fft2](H2)\n",
    "    h= fft(H2)\n",
    "    \n",
    "    # hshift = abs.(real.(np.fft[:fftshift](h)))\n",
    "    hshift= fftshift(abs.(real.(h)))\n",
    " \n",
    "    center= npix/2\n",
    "    coord_a= convert(Int64,center-sizefit/2)\n",
    "    coord_b= convert(Int64,center+sizefit/2)\n",
    "    println(coord_a)\n",
    "    \n",
    "    x, y = mgrid(sizefit, sizefit)\n",
    "    hshiftcut= hshift'[coord_a:coord_b, coord_a:coord_b]\n",
    "    p_init = am.Gaussian2D(amplitude=maximum(hshiftcut),x_mean=sizefit/2, y_mean=sizefit/2,\n",
    "        x_stddev=1, y_stddev=1)\n",
    "    \n",
    "    fit_p = mf.LevMarLSQFitter()\n",
    "    p = fit_p(p_init, x, y, hshiftcut, maxiter=100)\n",
    "\n",
    "    println(p)\n",
    "    println(p[:y_stddev]*dr*gaussian_sigma_to_fwhm)\n",
    "    println(p[:x_stddev]*dr*gaussian_sigma_to_fwhm)\n",
    "    println(p[:theta]*180/π)\n",
    "    \n",
    "    return(hshiftcut)\n",
    "end\n"
   ]
  },
  {
   "cell_type": "code",
   "execution_count": 6,
   "metadata": {},
   "outputs": [
    {
     "data": {
      "text/plain": [
       "_calc_mrs (generic function with 1 method)"
      ]
     },
     "execution_count": 6,
     "metadata": {},
     "output_type": "execute_result"
    }
   ],
   "source": [
    "################################\n",
    "## setup the npix,fov, freq, etc for the beam extraction from the uv\n",
    "## coverage. It is based on the uniform weighting 2/FOV for the uv-cell\n",
    "##\n",
    "function _calc_dirtybeam(uv, npix=511, sizefit=63 ; robust=2)\n",
    "    println(\"## calc_dirtybeam\")\n",
    "    println(\"## UV gridding and weighting...\")\n",
    "    c= 299792458.0  ; ν= 100*1e9 ; λ= c / ν\n",
    "    D= 12 ; PB= 1.13 * λ / D\n",
    "    duv= 2/(PB*npix) ; ds= duv/λ\n",
    "    dr= 180*3600/(π*ds*npix)\n",
    "    lmax= maximum(abs.(uv))\n",
    "\n",
    "    if (duv*npix/2) < lmax\n",
    "        println(\"##UV-gridding error, npix too small...\")\n",
    "    end\n",
    "    \n",
    "    binuv= range(-duv*npix/2, stop=duv*npix/2,npix, length=npix)\n",
    "    Hh= fit(Histogram, (uv[1,:] , uv[2,:]) , (binuv , binuv))\n",
    "    H= Hh.weights\n",
    "\n",
    "    ## Robust weighting R (Briggs)\n",
    "    ## R=-2 : uniform\n",
    "    ## R=2 : naturañ\n",
    "    ## R=0.5 : \"briggs\"\n",
    "    Hsum= sum(H)\n",
    "    H2sum= sum(1 ./ H[H .> 0].^2)/Hsum\n",
    "    f2= (5 * 10.0^(-robust))^2 * H2sum \n",
    "    H2 = H ./ (1 .+ f2 .* H)\n",
    " \n",
    "    h= fft(H2)\n",
    "    hshift= fftshift(abs.(real.(h)))\n",
    "\n",
    "    center= npix/2\n",
    "    coord_a= convert(Int64,center-sizefit/2)\n",
    "    coord_b= convert(Int64,center+sizefit/2)\n",
    "    println(coord_a)\n",
    "    println(coord_b)\n",
    "    \n",
    "    hshiftcut= hshift'[coord_a:coord_b, coord_a:coord_b]\n",
    "    println(\"###\")\n",
    "    return(hshiftcut , dr)\n",
    "end\n",
    "\n",
    "### MRS in arcsec\n",
    "function _calc_mrs(uv)\n",
    "    minbl = minimum(uv[:,1].^2 .+ uv[:,2].^2)\n",
    "    lmin= sqrt(minbl)\n",
    "    ν= 100\n",
    "    \n",
    "    mrs= 37100 / (lmin*ν)\n",
    "    return(mrs)\n",
    "end"
   ]
  },
  {
   "cell_type": "code",
   "execution_count": 7,
   "metadata": {},
   "outputs": [
    {
     "data": {
      "text/plain": [
       "_fit_beam (generic function with 1 method)"
      ]
     },
     "execution_count": 7,
     "metadata": {},
     "output_type": "execute_result"
    }
   ],
   "source": [
    "## fitting of the Gaussian 2D for the beam\n",
    "## assuming offset=0 for the beam\n",
    "\n",
    "function _gaussian2D(x,y, amplitude, xo, yo, σx, σy, θ)\n",
    "    \n",
    "    a = (cosd(θ)^2)/(2σx^2) + (sind(θ)^2)/(2*σy^2)\n",
    "    b = -(sind(2θ))/(2σx^2) - (sind(2θ))/(2σy^2)\n",
    "    c = (sind(θ)^2)/(2σx^2) + (cosd(θ)^2)/(2σy^2)\n",
    "    gauss2d= amplitude*exp( -( a*((x-xo)^2) + 2b*(x-xo)*(y-yo) + c*((y-yo)^2)) )\n",
    "    return(gauss2d)\n",
    "end\n",
    "\n",
    "#################################\n",
    "function _fit_beam(beam , dr)\n",
    "    println(\"## fit beam julia\")\n",
    "    bs= size(beam)\n",
    "    h= reshape(beam,(bs[1]*bs[2],))\n",
    "    \n",
    "    xy= zeros(Float64,bs[1]*bs[2], 2)\n",
    "    \n",
    "    for i in 1:bs[1]\n",
    "        for j in 1:bs[2]\n",
    "            xy[(i-1)*bs[1]+j,1]= i\n",
    "        end\n",
    "    end\n",
    "    \n",
    "    for i in 1:bs[1]\n",
    "        for j in 1:bs[2]\n",
    "            xy[(i-1)*bs[1]+j,2]= bs[2]+1-j\n",
    "        end\n",
    "    end        \n",
    "    \n",
    "    @. multimodel(x, p) = _gaussian2D(x[:,1], x[:,2], p[1], p[2] , p[3] , p[4] , p[5], p[6])\n",
    "    p0 = [maximum(beam) , bs[1]/2 , bs[2]/2 , 1, 1, 0]\n",
    "    f= curve_fit(multimodel, xy, h, p0)\n",
    "    println(f.param)\n",
    "    \n",
    "    gaussian_sigma_to_fwhm=2.3548200450309493\n",
    "    println(f.param[4]*dr*gaussian_sigma_to_fwhm)\n",
    "    println(f.param[5]*dr*gaussian_sigma_to_fwhm)\n",
    "    println(f.param[6])\n",
    "    println(\"sidelobe:\", maximum(f.resid * 100 / f.param[1]))\n",
    "    #println(f.resid)\n",
    "    \n",
    "    bx= f.param[4]*dr*gaussian_sigma_to_fwhm\n",
    "    by= f.param[5]*dr*gaussian_sigma_to_fwhm  \n",
    "    e= max(bx/by, by/bx)\n",
    "    ar= sqrt(bx*by)\n",
    "    sidelobe= maximum(abs.(f.resid * 100 / f.param[1]))\n",
    "    b = _synthbeam(bx, by,ar,e, sidelobe)\n",
    "    \n",
    "    return(fit , f.resid , b)\n",
    "end"
   ]
  },
  {
   "cell_type": "code",
   "execution_count": 8,
   "metadata": {},
   "outputs": [
    {
     "ename": "LoadError",
     "evalue": "ArgumentError: \"/home/stephane/Science/ALMA/ArrayConfig/GASS/products/test.cfg\" is not a valid file",
     "output_type": "error",
     "traceback": [
      "ArgumentError: \"/home/stephane/Science/ALMA/ArrayConfig/GASS/products/test.cfg\" is not a valid file",
      "",
      "Stacktrace:",
      " [1] #File#1(::Array{String,1}, ::Bool, ::Int64, ::Nothing, ::Int64, ::Nothing, ::Bool, ::Nothing, ::Bool, ::Array{String,1}, ::String, ::String, ::Bool, ::Char, ::Nothing, ::Nothing, ::Char, ::Nothing, ::Nothing, ::Nothing, ::Nothing, ::Nothing, ::Dict{Type,Type}, ::Symbol, ::Bool, ::Bool, ::Bool, ::Bool, ::Base.Iterators.Pairs{Union{},Union{},Tuple{},NamedTuple{(),Tuple{}}}, ::Type, ::String) at /home/stephane/.julia/packages/CSV/eWuJV/src/CSV.jl:135",
      " [2] #read#105(::Bool, ::Dict{Int64,Function}, ::Base.Iterators.Pairs{Symbol,Any,NTuple{4,Symbol},NamedTuple{(:datarow, :header, :ignorerepeated, :delim),Tuple{Int64,Array{String,1},Bool,String}}}, ::Function, ::String, ::Type) at ./none:0",
      " [3] #read at ./none:0 [inlined] (repeats 2 times)",
      " [4] parse_parameters(::Array{Any,1}) at /home/stephane/Science/ALMA/ArrayConfig/GASS/master/src/inputcfg.jl:148",
      " [5] read_cfg(::String, ::Bool) at /home/stephane/Science/ALMA/ArrayConfig/GASS/master/src/inputcfg.jl:193",
      " [6] @main(::LineNumberNode, ::Module, ::Any) at ./In[8]:4"
     ]
    }
   ],
   "source": [
    "### Main\n",
    "macro main(inpfile)\n",
    "    ## read only the cfg file w/o any check.\n",
    "    cfg = read_cfg(inpfile, false)\n",
    "    \n",
    "    ## array test\n",
    "    println(cfg.arr)\n",
    "    bl= calc_baselines(cfg.arr)\n",
    "    uv= calc_uv(bl, cfg.obs.Source_Hour_Angle ,  cfg.obs.Source_Declination)\n",
    "    #uv= _calc_uv(bl, 0.0, -50)\n",
    "\n",
    "    dirty= pyuv_beampropertiesTEST(uv , npix=1024, sizefit= 512, robust=0.5)\n",
    "    h , dr=  _calc_dirtybeam(uv , 1024, 512, robust=0.5)\n",
    "    f, residuals , b= _fit_beam(h , dr)\n",
    "    #b= fit_beam(h , dr)\n",
    "    println(b)\n",
    "    println(\"MRS:\",_calc_mrs(uv))\n",
    "    \n",
    "    PyPlot.imshow(h)\n",
    "    PyPlot.colorbar()\n",
    "    PyPlot.show()    \n",
    "    \n",
    "end\n",
    "\n",
    "@main(\"/home/stephane/Science/ALMA/ArrayConfig/GASS/products/GA-test_Parameters.txt.julia\")"
   ]
  }
 ],
 "metadata": {
  "kernelspec": {
   "display_name": "Julia 1.1.0",
   "language": "julia",
   "name": "julia-1.1"
  },
  "language_info": {
   "file_extension": ".jl",
   "mimetype": "application/julia",
   "name": "julia",
   "version": "1.1.0"
  }
 },
 "nbformat": 4,
 "nbformat_minor": 2
}
