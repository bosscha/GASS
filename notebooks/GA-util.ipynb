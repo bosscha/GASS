{
 "cells": [
  {
   "cell_type": "markdown",
   "metadata": {},
   "source": [
    "### GASS utils\n",
    "\n",
    "Misc. methods for the GASS"
   ]
  },
  {
   "cell_type": "code",
   "execution_count": null,
   "metadata": {},
   "outputs": [],
   "source": [
    "using Distances , Random \n",
    "using PyCall\n",
    "using DataFrames\n",
    "\n",
    "import CSV \n",
    "\n",
    "rootdir = \"/home/stephane/Science/ALMA/ArrayConfig/GASS\"\n",
    "\n",
    "push!(LOAD_PATH,\"$rootdir/master/src\")\n",
    "using GASS\n",
    "\n",
    "import PyPlot\n",
    "\n",
    "@pyimport astroquery.vizier as vizier\n",
    "@pyimport astropy.units as u\n",
    "@pyimport astropy.coordinates as coord\n",
    "\n",
    "## directory\n",
    "datadir = \"$rootdir/master/data\"\n",
    "wdir    = \"$rootdir/products\"\n",
    "plotdir = \"$rootdir/products/test\"\n",
    "\n",
    "cd(wdir)"
   ]
  },
  {
   "cell_type": "code",
   "execution_count": null,
   "metadata": {},
   "outputs": [],
   "source": [
    "## metatype for population\n",
    "\n",
    "struct _population\n",
    "    arr::AbstractDataFrame \n",
    "    obs::observation\n",
    "    sub::subarrayParameters\n",
    "    wei::weight\n",
    "    ga::GA\n",
    "end"
   ]
  },
  {
   "cell_type": "code",
   "execution_count": null,
   "metadata": {},
   "outputs": [],
   "source": [
    "function _read_input_cfg(inpfile)\n",
    "    res= input_parameters(inpfile)\n",
    "    inpcfg= parse_input(res)\n",
    "    println(inpcfg)\n",
    "    \n",
    "    ## parameters inputs\n",
    "    res= input_parameters(inpcfg.file_parameters)\n",
    "    paramcfg= parse_parameters(res)\n",
    "    println(paramcfg)\n",
    "    \n",
    "    return(inpcfg , paramcfg)\n",
    "end"
   ]
  },
  {
   "cell_type": "code",
   "execution_count": null,
   "metadata": {},
   "outputs": [],
   "source": [
    "## init population ...\n",
    "\n",
    "function _init_pop(obs , sub , wei , ga )\n",
    "    arrcfg = CSV.read(obs.Array_Configuration_File, datarow=4 , header=[\"X\" , \"Y\", \"Z\" , \"diam\" , \"name\"] , delim= \" \")\n",
    "    pop = population(arrcfg , obs , sub , wei , ga)\n",
    "\n",
    "    return(pop)\n",
    "end"
   ]
  },
  {
   "cell_type": "code",
   "execution_count": null,
   "metadata": {},
   "outputs": [],
   "source": [
    "macro main(inpfile)\n",
    "    inpcfg , paramcfg = read_input_cfg(inpfile)\n",
    "    pop = init_pop(paramcfg[1] , paramcfg[2], paramcfg[3], paramcfg[4])\n",
    "end\n",
    "\n",
    "@main(\"../master/data/GA_Inputs_O-10.txt.julia\")"
   ]
  }
 ],
 "metadata": {
  "kernelspec": {
   "display_name": "Julia 1.0.1",
   "language": "julia",
   "name": "julia-1.0"
  },
  "language_info": {
   "file_extension": ".jl",
   "mimetype": "application/julia",
   "name": "julia",
   "version": "1.0.1"
  }
 },
 "nbformat": 4,
 "nbformat_minor": 2
}
