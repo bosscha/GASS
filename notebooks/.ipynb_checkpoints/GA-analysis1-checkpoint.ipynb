{
 "cells": [
  {
   "cell_type": "markdown",
   "metadata": {},
   "source": [
    "### GA analysis 1\n",
    "Nb to analytze the GA results"
   ]
  },
  {
   "cell_type": "code",
   "execution_count": 67,
   "metadata": {},
   "outputs": [],
   "source": [
    "using PyCall\n",
    "using DataFrames\n",
    "using Statistics\n",
    "using Seaborn\n",
    "\n",
    "rootdir = \"/home/stephane/Science/ALMA/ArrayConfig/GASS\"\n",
    "#rootdir = \"/home/stephane/alma/ArrayConfig/GASS\"\n",
    "\n",
    "push!(LOAD_PATH,\"$rootdir/master/src\")\n",
    "using GASS\n",
    "using Printf\n",
    "\n",
    "\n",
    "import Random\n",
    "import JLD\n",
    "\n",
    "np= pyimport(\"numpy\")\n",
    "\n",
    "## directory\n",
    "datadir = \"$rootdir/master/data\"\n",
    "wdir    = \"$rootdir/products\"\n",
    "plotdir = \"$rootdir/products/test\"\n",
    "\n",
    "cd(wdir)"
   ]
  },
  {
   "cell_type": "code",
   "execution_count": 68,
   "metadata": {},
   "outputs": [
    {
     "ename": "ErrorException",
     "evalue": "File test_.jld cannot be found",
     "output_type": "error",
     "traceback": [
      "File test_.jld cannot be found",
      "",
      "Stacktrace:",
      " [1] error(::String, ::String, ::String) at ./error.jl:42",
      " [2] #jldopen#12(::Bool, ::Bool, ::Bool, ::Function, ::String, ::Bool, ::Bool, ::Bool, ::Bool, ::Bool) at /home/stephane/.julia/packages/JLD/1BoSz/src/JLD.jl:156",
      " [3] #jldopen at ./none:0 [inlined]",
      " [4] #jldopen#13(::Bool, ::Bool, ::Bool, ::Function, ::String, ::String) at /home/stephane/.julia/packages/JLD/1BoSz/src/JLD.jl:234",
      " [5] jldopen(::String, ::String) at /home/stephane/.julia/packages/JLD/1BoSz/src/JLD.jl:234",
      " [6] #jldopen#14(::Base.Iterators.Pairs{Union{},Union{},Tuple{},NamedTuple{(),Tuple{}}}, ::Function, ::getfield(JLD, Symbol(\"##38#40\")), ::String, ::Vararg{String,N} where N) at /home/stephane/.julia/packages/JLD/1BoSz/src/JLD.jl:244",
      " [7] load at /home/stephane/.julia/packages/JLD/1BoSz/src/JLD.jl:244 [inlined]",
      " [8] #load#13(::Base.Iterators.Pairs{Union{},Union{},Tuple{},NamedTuple{(),Tuple{}}}, ::Function, ::String) at /home/stephane/.julia/packages/FileIO/e8FNK/src/loadsave.jl:118",
      " [9] load(::String) at /home/stephane/.julia/packages/FileIO/e8FNK/src/loadsave.jl:118",
      " [10] top-level scope at In[68]:2"
     ]
    }
   ],
   "source": [
    "filename= \"test_.jld\"\n",
    "dat= JLD.load(filename)\n",
    "niter= length(dat[\"gass\"])\n",
    "popsize= size(dat[\"gass\"][1].score)[1]\n",
    "\n",
    "println(dat[\"evol\"][1].fitness)"
   ]
  },
  {
   "cell_type": "code",
   "execution_count": 69,
   "metadata": {},
   "outputs": [
    {
     "ename": "KeyError",
     "evalue": "KeyError: key \"gass\" not found",
     "output_type": "error",
     "traceback": [
      "KeyError: key \"gass\" not found",
      "",
      "Stacktrace:",
      " [1] getindex(::Dict{String,Any}, ::String) at ./dict.jl:478",
      " [2] top-level scope at ./In[69]:7"
     ]
    }
   ],
   "source": [
    "sc= zeros(niter)\n",
    "time= zeros(niter)\n",
    "sc_err= zeros(niter)\n",
    "\n",
    "for i in 1:niter\n",
    "    time[i]= i\n",
    "    sc[i]= mean(dat[\"gass\"][i].score[1])\n",
    "    sc_err[i]= std(dat[\"gass\"][i].score)\n",
    "end\n",
    "\n",
    "\n",
    "fig = figure(figsize=(10,8))\n",
    "\n",
    "ax = subplot(221)\n",
    "grid(\"on\") \n",
    "plot(time, sc, \".r\", markersize = 1)\n",
    "errorbar(time, sc  ,yerr=  sc_err ./ 2 , fmt = \".r\" , capsize = 2 ,elinewidth=0.5)\n",
    "ax.set_ylim([-15.0, -5.0])\n",
    "xlabel(\"Iteration\")\n",
    "ylabel(\"Score\")\n",
    "\n",
    "show()"
   ]
  }
 ],
 "metadata": {
  "kernelspec": {
   "display_name": "Julia 1.1.0",
   "language": "julia",
   "name": "julia-1.1"
  },
  "language_info": {
   "file_extension": ".jl",
   "mimetype": "application/julia",
   "name": "julia",
   "version": "1.1.0"
  }
 },
 "nbformat": 4,
 "nbformat_minor": 2
}
