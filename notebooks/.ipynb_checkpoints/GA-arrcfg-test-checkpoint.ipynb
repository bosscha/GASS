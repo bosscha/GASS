{
 "cells": [
  {
   "cell_type": "code",
   "execution_count": 11,
   "metadata": {},
   "outputs": [],
   "source": [
    "using PyCall\n",
    "\n",
    "rootdir = \"/home/stephane/Science/ALMA/ArrayConfig/GASS\"\n",
    "#rootdir = \"/home/stephane/alma/ArrayConfig/GASS\"\n",
    "\n",
    "push!(LOAD_PATH,\"$rootdir/master/src\")\n",
    "using GASS\n",
    "using Printf\n",
    "using Distances\n",
    "\n",
    "import PyPlot\n",
    "import Random\n",
    "import JLD\n",
    "\n",
    "np= pyimport(\"numpy\")\n",
    "\n",
    "## directory\n",
    "datadir = \"$rootdir/master/data\"\n",
    "wdir    = \"$rootdir/products\"\n",
    "plotdir = \"$rootdir/products/test\"\n",
    "\n",
    "cd(wdir)"
   ]
  },
  {
   "cell_type": "code",
   "execution_count": 12,
   "metadata": {},
   "outputs": [
    {
     "ename": "MethodError",
     "evalue": "MethodError: no method matching colwise(::Euclidean, ::Array{Int64,1}, ::Array{Float64,1})\nClosest candidates are:\n  colwise(::PreMetric, ::AbstractArray{T,1} where T, !Matched::AbstractArray{T,2} where T) at /home/stephane/.julia/packages/Distances/HOWRG/src/generic.jl:70\n  colwise(::PreMetric, !Matched::AbstractArray{T,2} where T, ::AbstractArray{T,1} where T) at /home/stephane/.julia/packages/Distances/HOWRG/src/generic.jl:76\n  colwise(::PreMetric, !Matched::AbstractArray{T,2} where T, !Matched::AbstractArray{T,2} where T) at /home/stephane/.julia/packages/Distances/HOWRG/src/generic.jl:64",
     "output_type": "error",
     "traceback": [
      "MethodError: no method matching colwise(::Euclidean, ::Array{Int64,1}, ::Array{Float64,1})\nClosest candidates are:\n  colwise(::PreMetric, ::AbstractArray{T,1} where T, !Matched::AbstractArray{T,2} where T) at /home/stephane/.julia/packages/Distances/HOWRG/src/generic.jl:70\n  colwise(::PreMetric, !Matched::AbstractArray{T,2} where T, ::AbstractArray{T,1} where T) at /home/stephane/.julia/packages/Distances/HOWRG/src/generic.jl:76\n  colwise(::PreMetric, !Matched::AbstractArray{T,2} where T, !Matched::AbstractArray{T,2} where T) at /home/stephane/.julia/packages/Distances/HOWRG/src/generic.jl:64",
      "",
      "Stacktrace:",
      " [1] top-level scope at ./In[12]:18"
     ]
    }
   ],
   "source": [
    "## Create a uniform random array configuration\n",
    "##\n",
    "nant= 100\n",
    "dmin= 15.0\n",
    "filecfg= \"random.cfg\"\n",
    "\n",
    "headerCasa= \"# observatory=ALMA\\n# coordsys=LOC (local tangent plane)\\n# x y z diam pad#\\n\"\n",
    "arrStr= string(headerCasa)\n",
    "\n",
    "rng = Random.MersenneTwister(1234)\n",
    "arrant= [0 ; 0 ]\n",
    "#ZZ=  Random.rand!(rng, zeros(nant)) .* 2.\n",
    "dist= Distances.Euclidean()\n",
    "\n",
    "for i in 1:nant\n",
    "    XX=  Random.rand(rng) * 500.\n",
    "    YY=  Random.rand(rng) * 500.\n",
    "    r= Distances.colwise(dist, arrant, [XX,YY])\n",
    "    println(r)\n",
    "end\n",
    "\n",
    "pt= zeros(2,nant)\n",
    "pt[1,:]= XX\n",
    "pt[2,:]= YY\n",
    "dist= Euclidean()\n",
    "r= Distances.colwise( dist, pt, [1.0 ; 1.0])\n",
    "println(r)\n",
    "\n",
    "for i in 1:nant\n",
    "    arrStr *= @sprintf(\"%f %f %f %2.1f X%d\\n\", XX[i], YY[i], ZZ[i], 12.0, i)\n",
    "end\n",
    "\n",
    "# println(arrStr)\n",
    "\n",
    "f= open(filecfg, \"w\")\n",
    "print(f,arrStr)\n",
    "close(f)\n",
    "println(\"## $filecfg written...\")"
   ]
  }
 ],
 "metadata": {
  "kernelspec": {
   "display_name": "Julia 1.1.0",
   "language": "julia",
   "name": "julia-1.1"
  },
  "language_info": {
   "file_extension": ".jl",
   "mimetype": "application/julia",
   "name": "julia",
   "version": "1.1.0"
  }
 },
 "nbformat": 4,
 "nbformat_minor": 2
}
