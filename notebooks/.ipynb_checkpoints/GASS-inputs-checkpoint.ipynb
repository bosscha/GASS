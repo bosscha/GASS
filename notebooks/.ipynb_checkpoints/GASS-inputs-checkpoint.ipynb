{
 "cells": [
  {
   "cell_type": "markdown",
   "metadata": {},
   "source": [
    "## Julia GASS\n",
    "\n",
    "Testing the GASS with Julia"
   ]
  },
  {
   "cell_type": "code",
   "execution_count": 62,
   "metadata": {},
   "outputs": [],
   "source": [
    "using PyCall\n",
    "using Distributions\n",
    "using Statistics\n",
    "\n",
    "using Distances , Random \n",
    "using AstroLib\n",
    "\n",
    "import CSV\n",
    "\n",
    "rootdir = \"/home/stephane/Science/ALMA/ArrayConfig/GASS\"\n",
    "\n",
    "push!(LOAD_PATH,\"$rootdir/master/src\")\n",
    "using GASS\n",
    "\n",
    "import PyPlot\n",
    "\n",
    "@pyimport astroquery.vizier as vizier\n",
    "@pyimport astropy.units as u\n",
    "@pyimport astropy.coordinates as coord\n",
    "\n",
    "## directory\n",
    "datadir = \"$rootdir/master/data\"\n",
    "wdir    = \"$rootdir/products\"\n",
    "plotdir = \"$rootdir/products/test\"\n",
    "\n",
    "cd(wdir)"
   ]
  },
  {
   "cell_type": "code",
   "execution_count": 63,
   "metadata": {},
   "outputs": [],
   "source": [
    "## Types ##\n",
    "\n",
    "struct InputCfg\n",
    "    file_parameters::String\n",
    "    folder_results::String\n",
    "    verbose::Bool\n",
    "end\n"
   ]
  },
  {
   "cell_type": "code",
   "execution_count": 64,
   "metadata": {},
   "outputs": [
    {
     "data": {
      "text/plain": [
       "input_parameters (generic function with 1 method)"
      ]
     },
     "execution_count": 64,
     "metadata": {},
     "output_type": "execute_result"
    }
   ],
   "source": [
    "function input_parameters(file)\n",
    "    let\n",
    "        param = []\n",
    "        open(file,\"r\") do f\n",
    "            for line in eachline(f)\n",
    "                l = lstrip(line)\n",
    "                if length(l) > 0 && l[1] != '#'\n",
    "                    res = strip.(split(l,\":\"))\n",
    "                    push!(param,res)\n",
    "                end\n",
    "            end\n",
    "        end\n",
    "        return(param)\n",
    "    end\n",
    "end"
   ]
  },
  {
   "cell_type": "code",
   "execution_count": 65,
   "metadata": {},
   "outputs": [
    {
     "data": {
      "text/plain": [
       "parse_input (generic function with 1 method)"
      ]
     },
     "execution_count": 65,
     "metadata": {},
     "output_type": "execute_result"
    }
   ],
   "source": [
    "## parse input file\n",
    "\n",
    "function parse_input(input_param)\n",
    "    let\n",
    "        fileParam= \"default.cfg\" \n",
    "        saveFold=  \"Results/\"\n",
    "        verbose= true\n",
    "        \n",
    "        for pair in input_param\n",
    "            if pair[1] == \"File_Parameters\"\n",
    "                fileParam = pair[2]\n",
    "            elseif pair[1] == \"Folder_Results\"\n",
    "                saveFold= pair[2]\n",
    "            elseif pair[1] == \"Display_Screen_Results\" && pair[2] == \"false\"\n",
    "                verbose= false\n",
    "            end\n",
    "        end\n",
    "        res= InputCfg(fileParam , saveFold , verbose)\n",
    "        return(res)    \n",
    "    end\n",
    "end"
   ]
  },
  {
   "cell_type": "code",
   "execution_count": 66,
   "metadata": {},
   "outputs": [
    {
     "data": {
      "text/plain": [
       "parse_parameter (generic function with 1 method)"
      ]
     },
     "execution_count": 66,
     "metadata": {},
     "output_type": "execute_result"
    }
   ],
   "source": [
    "## parse parameter file for the subarray constraints\n",
    "\n",
    "function parse_parameters(input_param)\n",
    "    let\n",
    "        Array_Configuration_File= \"alma.cfg\"\n",
    "        Source_Declination= -30\n",
    "        Source_Hour_Angle = -1 \n",
    "        Subarray_Number= 4\n",
    "        \n",
    "        ## array of nsubarray elements\n",
    "        Pads_Per_Subarray= []\n",
    "        Weights_Subarray= []\n",
    "        Subarray_Name= [] \n",
    "        Spatial_Resolution= []\n",
    "        Maximum_Recoverable_Scale=\n",
    "        Elongation= []\n",
    "        Sidelobe_Level= []\n",
    "        Weight_Spatial_Resolution= []\n",
    "        Weight_Maximum_Recoverable_Scale= [] \n",
    "        Weight_Elongation= []                    \n",
    "        Weight_Sidelobe_Levels= []\n",
    "        \n",
    "        ## GA parameters\n",
    "        Number_Iterations = 100\n",
    "        Population_Size= 100\n",
    "        Termination_Condition= false\n",
    "        Threshold= -0.05\n",
    "        Mutation_Rate= 0.05\n",
    "        Tournament_Size= 5\n",
    "        Number_Elitism= 5\n",
    "        \n",
    "        \n",
    "        \n",
    "    end\n",
    "end"
   ]
  },
  {
   "cell_type": "code",
   "execution_count": 67,
   "metadata": {},
   "outputs": [
    {
     "name": "stdout",
     "output_type": "stream",
     "text": [
      "InputCfg(\"/home/stephane/Science/ALMA/ArrayConfig/GASS/master/data/GA_Parameters_O-10.txt.julia\", \"/home/stephane/Science/ALMA/ArrayConfig/GASS/products/results\", true)\n",
      "Any[SubString{String}[\"Array_Configuration_File\", \"/home/stephane/Science/ALMA/ArrayConfig/GASS/products/Input_Files/O-10.cfg\"], SubString{String}[\"Source_Declination\", \"-50\"], SubString{String}[\"Source_Hour_Angle\", \"-1\"], SubString{String}[\"Number_of_Subarrays\", \"4\"], SubString{String}[\"Number_of_Pads_per_Subarray\", \"30,10,7,3\"], SubString{String}[\"Weights_for_Subarrays\", \"0.25,0.25,0.25,0.25\"], SubString{String}[\"Subarray_Name\", \"Sub_1, Sub_2 , Sub_3 , Sub_4\"], SubString{String}[\"Spatial_Resolution\", \"2.3 , 3.0 , 3.5 , 3.5\"], SubString{String}[\"Maximum_Recoverable_Scale\", \"20 , 20 , 10 , 10.0\"], SubString{String}[\"Elongation\", \"1.2 , 1.3 , 2.0 , 3.0\"], SubString{String}[\"Sidelobe_Level\", \"10 , 20 , 60 , 60\"], SubString{String}[\"Weight_Spatial_Resolution\", \"0.25 , 0.25 ,  0.25 , 0.25\"], SubString{String}[\"Weight_Maximum_Recoverable_Scale\", \"0.25 , 0.25 , 0.25 , 0.25\"], SubString{String}[\"Weight_Elongation\", \"0.25 , 0.25 , 0.25 , 0.25\"], SubString{String}[\"Weight_Sidelobe_Levels\", \"0.25 , 0.25 , 0.25 , 0.25\"], SubString{String}[\"Number_of_Iterations\", \"100\"], SubString{String}[\"Population_Size\", \"100\"], SubString{String}[\"Termination_Condition\", \"False\"], SubString{String}[\"Threshold\", \"-0.05\"], SubString{String}[\"Mutation_Rate\", \"0.05\"], SubString{String}[\"Tournament_Size\", \"5\"], SubString{String}[\"Number_for_Elitism\", \"5\"]]\n"
     ]
    },
    {
     "data": {
      "text/plain": [
       "-1"
      ]
     },
     "execution_count": 67,
     "metadata": {},
     "output_type": "execute_result"
    }
   ],
   "source": [
    "macro main(f)\n",
    "    inpfile= \"../master/data/GA_Inputs_O-10.txt.julia\"\n",
    "    res= input_parameters(inpfile)\n",
    "    inpcfg= parse_input(res)\n",
    "    println(inpcfg)\n",
    "    \n",
    "    ## parameters inputs\n",
    "    res= input_parameters(inpcfg.file_parameters)\n",
    "    paramcfg= parse_parameters(res)\n",
    "    #println(paramcfg)\n",
    "end\n",
    "\n",
    "@main(\"../master/data/GA_Inputs_O-10.txt.julia\")\n",
    "# @main(\"../master/data/GA_Parameters_O-10.txt.julia\")"
   ]
  }
 ],
 "metadata": {
  "kernelspec": {
   "display_name": "Julia 1.0.1",
   "language": "julia",
   "name": "julia-1.0"
  },
  "language_info": {
   "file_extension": ".jl",
   "mimetype": "application/julia",
   "name": "julia",
   "version": "1.0.1"
  }
 },
 "nbformat": 4,
 "nbformat_minor": 2
}
