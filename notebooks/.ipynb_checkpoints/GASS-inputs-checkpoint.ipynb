{
 "cells": [
  {
   "cell_type": "markdown",
   "metadata": {},
   "source": [
    "## Julia GASS\n",
    "\n",
    "Testing the GASS with Julia"
   ]
  },
  {
   "cell_type": "code",
   "execution_count": 29,
   "metadata": {},
   "outputs": [],
   "source": [
    "using PyCall\n",
    "using Distributions\n",
    "using Statistics\n",
    "\n",
    "using Distances , Random \n",
    "using AstroLib\n",
    "\n",
    "import CSV\n",
    "\n",
    "rootdir = \"/home/stephane/Science/ALMA/ArrayConfig/GASS\"\n",
    "\n",
    "push!(LOAD_PATH,\"$rootdir/master/GA_Subarray_Optimization/GA_Subarray_Selection/JuliaCode\")\n",
    "using GASS\n",
    "\n",
    "import PyPlot\n",
    "\n",
    "@pyimport astroquery.vizier as vizier\n",
    "@pyimport astropy.units as u\n",
    "@pyimport astropy.coordinates as coord\n",
    "\n",
    "## directory\n",
    "wdir    = \"$rootdir/products\"\n",
    "plotdir = \"$rootdir/products/test\"\n",
    "\n",
    "cd(wdir)"
   ]
  },
  {
   "cell_type": "code",
   "execution_count": 30,
   "metadata": {},
   "outputs": [
    {
     "data": {
      "text/plain": [
       "input_parameters (generic function with 1 method)"
      ]
     },
     "execution_count": 30,
     "metadata": {},
     "output_type": "execute_result"
    }
   ],
   "source": [
    "function input_parameters(file)\n",
    "    inp = CSV.read(file, delim=\":\")\n",
    "end"
   ]
  },
  {
   "cell_type": "code",
   "execution_count": 31,
   "metadata": {},
   "outputs": [
    {
     "ename": "LoadError",
     "evalue": "MethodError: no method matching Parsers.Error(::Parsers.Result{Tuple{Ptr{UInt8},Int64}})\nClosest candidates are:\n  Parsers.Error(::Any, !Matched::Any) at /home/stephane/.julia/packages/Parsers/NYYQV/src/Parsers.jl:259\n  Parsers.Error(!Matched::IO, !Matched::Parsers.Result) at /home/stephane/.julia/packages/Parsers/NYYQV/src/Parsers.jl:259",
     "output_type": "error",
     "traceback": [
      "MethodError: no method matching Parsers.Error(::Parsers.Result{Tuple{Ptr{UInt8},Int64}})\nClosest candidates are:\n  Parsers.Error(::Any, !Matched::Any) at /home/stephane/.julia/packages/Parsers/NYYQV/src/Parsers.jl:259\n  Parsers.Error(!Matched::IO, !Matched::Parsers.Result) at /home/stephane/.julia/packages/Parsers/NYYQV/src/Parsers.jl:259",
      "",
      "Stacktrace:",
      " [1] readline!(::Parsers.Delimited{false,true,Parsers.Quoted{Parsers.Strip{Parsers.Sentinel{typeof(Parsers.defaultparser),Parsers.Trie{0x00,false,missing,2,Tuple{}}}}},Parsers.Trie{0x00,false,missing,8,Tuple{Parsers.Trie{0x3a,true,missing,8,Tuple{}}}}}, ::Base.GenericIOBuffer{Array{UInt8,1}}) at /home/stephane/.julia/packages/CSV/eWuJV/src/filedetection.jl:169",
      " [2] consumecommentedline! at /home/stephane/.julia/packages/CSV/eWuJV/src/filedetection.jl:228 [inlined]",
      " [3] readsplitline(::Parsers.Delimited{false,true,Parsers.Quoted{Parsers.Strip{Parsers.Sentinel{typeof(Parsers.defaultparser),Parsers.Trie{0x00,false,missing,2,Tuple{}}}}},Parsers.Trie{0x00,false,missing,8,Tuple{Parsers.Trie{0x3a,true,missing,8,Tuple{}}}}}, ::Base.GenericIOBuffer{Array{UInt8,1}}, ::Parsers.Trie{0x00,false,missing,1,Tuple{Parsers.Trie{0x23,true,missing,1,Tuple{}}}}) at /home/stephane/.julia/packages/CSV/eWuJV/src/filedetection.jl:211",
      " [4] datalayout(::Int64, ::Parsers.Delimited{false,true,Parsers.Quoted{Parsers.Strip{Parsers.Sentinel{typeof(Parsers.defaultparser),Parsers.Trie{0x00,false,missing,2,Tuple{}}}}},Parsers.Trie{0x00,false,missing,8,Tuple{Parsers.Trie{0x3a,true,missing,8,Tuple{}}}}}, ::Base.GenericIOBuffer{Array{UInt8,1}}, ::Int64, ::Bool, ::Parsers.Trie{0x00,false,missing,1,Tuple{Parsers.Trie{0x23,true,missing,1,Tuple{}}}}) at /home/stephane/.julia/packages/CSV/eWuJV/src/filedetection.jl:124",
      " [5] #File#1(::Int64, ::Bool, ::Int64, ::Nothing, ::Int64, ::Nothing, ::Bool, ::String, ::Bool, ::Array{String,1}, ::String, ::String, ::Bool, ::Char, ::Nothing, ::Nothing, ::Char, ::Nothing, ::Nothing, ::Nothing, ::Nothing, ::Nothing, ::Dict{Type,Type}, ::Symbol, ::Bool, ::Bool, ::Bool, ::Bool, ::Base.Iterators.Pairs{Union{},Union{},Tuple{},NamedTuple{(),Tuple{}}}, ::Type, ::String) at /home/stephane/.julia/packages/CSV/eWuJV/src/CSV.jl:163",
      " [6] #read#105(::Bool, ::Dict{Int64,Function}, ::Base.Iterators.Pairs{Symbol,String,Tuple{Symbol,Symbol},NamedTuple{(:comment, :delim),Tuple{String,String}}}, ::Function, ::String, ::Type) at ./none:0",
      " [7] #read at ./none:0 [inlined] (repeats 2 times)",
      " [8] input_parameters(::String) at ./In[30]:2",
      " [9] @main(::LineNumberNode, ::Module, ::Any) at ./In[31]:2"
     ]
    }
   ],
   "source": [
    "macro main(file)\n",
    "    res = input_parameters(file)\n",
    "end\n",
    "\n",
    "@main(\"Input_Files/GA_Inputs_O-10.txt\")"
   ]
  }
 ],
 "metadata": {
  "kernelspec": {
   "display_name": "Julia 1.0.1",
   "language": "julia",
   "name": "julia-1.0"
  },
  "language_info": {
   "file_extension": ".jl",
   "mimetype": "application/julia",
   "name": "julia",
   "version": "1.0.1"
  }
 },
 "nbformat": 4,
 "nbformat_minor": 2
}
