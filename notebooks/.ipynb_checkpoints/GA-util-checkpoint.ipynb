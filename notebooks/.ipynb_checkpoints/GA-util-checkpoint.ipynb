{
 "cells": [
  {
   "cell_type": "markdown",
   "metadata": {},
   "source": [
    "### GASS utils\n",
    "\n",
    "Misc. methods for the GASS"
   ]
  },
  {
   "cell_type": "code",
   "execution_count": 16,
   "metadata": {},
   "outputs": [],
   "source": [
    "using Distances , Random \n",
    "using PyCall\n",
    "using DataFrames\n",
    "\n",
    "import CSV \n",
    "\n",
    "rootdir = \"/home/stephane/Science/ALMA/ArrayConfig/GASS\"\n",
    "\n",
    "push!(LOAD_PATH,\"$rootdir/master/src\")\n",
    "using GASS\n",
    "\n",
    "import PyPlot\n",
    "\n",
    "@pyimport astropy.units as u\n",
    "\n",
    "\n",
    "## directory\n",
    "datadir = \"$rootdir/master/data\"\n",
    "wdir    = \"$rootdir/products\"\n",
    "plotdir = \"$rootdir/products/test\"\n",
    "\n",
    "cd(wdir)"
   ]
  },
  {
   "cell_type": "code",
   "execution_count": 17,
   "metadata": {},
   "outputs": [],
   "source": [
    "## metatype for population\n",
    "\n",
    "struct _cfg\n",
    "    arr::AbstractDataFrame \n",
    "    obs::observation\n",
    "    sub::subarrayParameters\n",
    "    wei::weight\n",
    "    ga::GA\n",
    "end"
   ]
  },
  {
   "cell_type": "code",
   "execution_count": 18,
   "metadata": {},
   "outputs": [
    {
     "data": {
      "text/plain": [
       "_read_input_cfg (generic function with 1 method)"
      ]
     },
     "execution_count": 18,
     "metadata": {},
     "output_type": "execute_result"
    }
   ],
   "source": [
    "function _read_input_cfg(inpfile)\n",
    "    res= input_parameters(inpfile)\n",
    "    inpcfg= parse_input(res)\n",
    "    println(inpcfg)\n",
    "    \n",
    "    ## parameters inputs\n",
    "    res= input_parameters(inpcfg.file_parameters)\n",
    "    paramcfg= parse_parameters(res)\n",
    "    println(paramcfg)\n",
    "    \n",
    "    return(inpcfg , paramcfg)\n",
    "end"
   ]
  },
  {
   "cell_type": "code",
   "execution_count": 19,
   "metadata": {},
   "outputs": [
    {
     "data": {
      "text/plain": [
       "_init_cfg (generic function with 1 method)"
      ]
     },
     "execution_count": 19,
     "metadata": {},
     "output_type": "execute_result"
    }
   ],
   "source": [
    "## init population ...\n",
    "\n",
    "function _init_cfg(obs , sub , wei , ga )\n",
    "    arrcfg = CSV.read(obs.Array_Configuration_File, datarow=4 , header=[\"X\" , \"Y\", \"Z\" , \"diam\" , \"name\"] , delim= \" \")\n",
    "    pop = _cfg(arrcfg , obs , sub , wei , ga)\n",
    "\n",
    "    return(pop)\n",
    "end"
   ]
  },
  {
   "cell_type": "code",
   "execution_count": 20,
   "metadata": {},
   "outputs": [
    {
     "ename": "LoadError",
     "evalue": "UndefVarError: init_cfg not defined",
     "output_type": "error",
     "traceback": [
      "UndefVarError: init_cfg not defined",
      "",
      "Stacktrace:",
      " [1] @main(::LineNumberNode, ::Module, ::Any) at ./In[20]:3"
     ]
    }
   ],
   "source": [
    "macro main(inpfile)\n",
    "    inpcfg , paramcfg = read_input_cfg(inpfile)\n",
    "    cfg = _init_cfg(paramcfg[1] , paramcfg[2], paramcfg[3], paramcfg[4])\n",
    "end\n",
    "\n",
    "@main(\"../master/data/GA_Inputs_O-10.txt.julia\")"
   ]
  }
 ],
 "metadata": {
  "kernelspec": {
   "display_name": "Julia 1.0.1",
   "language": "julia",
   "name": "julia-1.0"
  },
  "language_info": {
   "file_extension": ".jl",
   "mimetype": "application/julia",
   "name": "julia",
   "version": "1.0.1"
  }
 },
 "nbformat": 4,
 "nbformat_minor": 2
}
