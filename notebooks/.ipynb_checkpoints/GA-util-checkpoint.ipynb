{
 "cells": [
  {
   "cell_type": "markdown",
   "metadata": {},
   "source": [
    "### GASS utils\n",
    "\n",
    "Misc. methods for the GASS"
   ]
  },
  {
   "cell_type": "code",
   "execution_count": 6,
   "metadata": {},
   "outputs": [],
   "source": [
    "using Distances , Random \n",
    "using PyCall\n",
    "using DataFrames\n",
    "\n",
    "import CSV \n",
    "\n",
    "rootdir = \"/home/stephane/Science/ALMA/ArrayConfig/GASS\"\n",
    "\n",
    "push!(LOAD_PATH,\"$rootdir/master/src\")\n",
    "using GASS\n",
    "\n",
    "import PyPlot\n",
    "\n",
    "@pyimport astroquery.vizier as vizier\n",
    "@pyimport astropy.units as u\n",
    "@pyimport astropy.coordinates as coord\n",
    "\n",
    "## directory\n",
    "datadir = \"$rootdir/master/data\"\n",
    "wdir    = \"$rootdir/products\"\n",
    "plotdir = \"$rootdir/products/test\"\n",
    "\n",
    "cd(wdir)"
   ]
  },
  {
   "cell_type": "code",
   "execution_count": 7,
   "metadata": {},
   "outputs": [],
   "source": [
    "## metatype for population\n",
    "\n",
    "struct population\n",
    "    arr::AbstractDataFrame \n",
    "    obs::observation\n",
    "    sub::subarrayParameters\n",
    "    wei::weight\n",
    "    ga::GA\n",
    "end"
   ]
  },
  {
   "cell_type": "code",
   "execution_count": 8,
   "metadata": {},
   "outputs": [
    {
     "data": {
      "text/plain": [
       "_read_input_cfg (generic function with 1 method)"
      ]
     },
     "execution_count": 8,
     "metadata": {},
     "output_type": "execute_result"
    }
   ],
   "source": [
    "function _read_input_cfg(inpfile)\n",
    "    res= input_parameters(inpfile)\n",
    "    inpcfg= parse_input(res)\n",
    "    println(inpcfg)\n",
    "    \n",
    "    ## parameters inputs\n",
    "    res= input_parameters(inpcfg.file_parameters)\n",
    "    paramcfg= parse_parameters(res)\n",
    "    println(paramcfg)\n",
    "    \n",
    "    return(inpcfg , paramcfg)\n",
    "end"
   ]
  },
  {
   "cell_type": "code",
   "execution_count": 9,
   "metadata": {},
   "outputs": [
    {
     "data": {
      "text/plain": [
       "init_pop (generic function with 1 method)"
      ]
     },
     "execution_count": 9,
     "metadata": {},
     "output_type": "execute_result"
    }
   ],
   "source": [
    "## init population ...\n",
    "\n",
    "function _init_pop(obs , sub , wei , ga )\n",
    "    arrcfg = CSV.read(obs.Array_Configuration_File, datarow=4 , header=[\"X\" , \"Y\", \"Z\" , \"diam\" , \"name\"] , delim= \" \")\n",
    "    pop = population(arrcfg , obs , sub , wei , ga)\n",
    "\n",
    "    return(pop)\n",
    "end"
   ]
  },
  {
   "cell_type": "code",
   "execution_count": 10,
   "metadata": {},
   "outputs": [
    {
     "data": {
      "text/plain": [
       "population(50×5 DataFrame\n",
       "│ Row │ X        │ Y        │ Z         │ diam     │ name    │\n",
       "│     │ \u001b[90mFloat64⍰\u001b[39m │ \u001b[90mFloat64⍰\u001b[39m │ \u001b[90mFloat64⍰\u001b[39m  │ \u001b[90mFloat64⍰\u001b[39m │ \u001b[90mString⍰\u001b[39m │\n",
       "├─────┼──────────┼──────────┼───────────┼──────────┼─────────┤\n",
       "│ 1   │ -33.8941 │ -712.752 │ -2.33009  │ 12.0     │ A001    │\n",
       "│ 2   │ -22.5589 │ -691.984 │ -2.32374  │ 12.0     │ A003    │\n",
       "│ 3   │ -9.8351  │ -663.827 │ -2.7227   │ 12.0     │ A009    │\n",
       "│ 4   │ 10.7399  │ -659.567 │ -2.72626  │ 12.0     │ A015    │\n",
       "│ 5   │ -20.6204 │ -633.907 │ -2.52767  │ 12.0     │ A016    │\n",
       "│ 6   │ -41.2393 │ -725.978 │ -2.33663  │ 12.0     │ A018    │\n",
       "│ 7   │ -61.0568 │ -722.793 │ -1.93443  │ 12.0     │ A020    │\n",
       "│ 8   │ -86.8729 │ -732.262 │ -1.92881  │ 12.0     │ A026    │\n",
       "│ 9   │ -103.296 │ -719.779 │ -1.93063  │ 12.0     │ A032    │\n",
       "│ 10  │ -105.439 │ -755.003 │ -1.64075  │ 12.0     │ A033    │\n",
       "⋮\n",
       "│ 40  │ -320.565 │ -763.861 │ 2.92101   │ 12.0     │ A086    │\n",
       "│ 41  │ 210.998  │ -883.466 │ -6.96694  │ 12.0     │ A087    │\n",
       "│ 42  │ -71.1672 │ -427.394 │ -0.557779 │ 12.0     │ A088    │\n",
       "│ 43  │ -115.706 │ -1075.44 │ 6.89189   │ 12.0     │ A089    │\n",
       "│ 44  │ 278.417  │ -571.571 │ -11.9458  │ 12.0     │ A090    │\n",
       "│ 45  │ -370.974 │ -604.124 │ -0.592511 │ 12.0     │ A091    │\n",
       "│ 46  │ 159.506  │ -1067.09 │ -1.91465  │ 12.0     │ A092    │\n",
       "│ 47  │ 28.8995  │ -305.417 │ -2.93441  │ 12.0     │ A093    │\n",
       "│ 48  │ -322.525 │ -1004.13 │ -3.52353  │ 12.0     │ A094    │\n",
       "│ 49  │ 427.013  │ -741.484 │ -12.8576  │ 12.0     │ A095    │\n",
       "│ 50  │ -405.236 │ -342.144 │ -1.63107  │ 12.0     │ A096    │, observation(\"../master/data/O-10.cfg\", -23.0262015, -50.0, -1.0, 4), subarrayParameters([30, 10, 7, 3], [\"Sub_1\", \" Sub_2 \", \" Sub_3 \", \" Sub_4\"], [2.3, 3.0, 3.5, 3.5], [20.0, 20.0, 10.0, 10.0], [1.2, 1.3, 2.0, 3.0], [10.0, 20.0, 60.0, 60.0]), weight([0.25, 0.25, 0.25, 0.25], [0.25, 0.25, 0.25, 0.25], [0.25, 0.25, 0.25, 0.25], [0.25, 0.25, 0.25, 0.25], [0.25, 0.25, 0.25, 0.25]), GA(100, 150, false, -0.05, 0.05, 5, 5))"
      ]
     },
     "execution_count": 10,
     "metadata": {},
     "output_type": "execute_result"
    }
   ],
   "source": [
    "macro main(inpfile)\n",
    "    inpcfg , paramcfg = read_input_cfg(inpfile)\n",
    "    pop = init_pop(paramcfg[1] , paramcfg[2], paramcfg[3], paramcfg[4])\n",
    "end\n",
    "\n",
    "@main(\"../master/data/GA_Inputs_O-10.txt.julia\")"
   ]
  }
 ],
 "metadata": {
  "kernelspec": {
   "display_name": "Julia 1.0.1",
   "language": "julia",
   "name": "julia-1.0"
  },
  "language_info": {
   "file_extension": ".jl",
   "mimetype": "application/julia",
   "name": "julia",
   "version": "1.0.1"
  }
 },
 "nbformat": 4,
 "nbformat_minor": 2
}
