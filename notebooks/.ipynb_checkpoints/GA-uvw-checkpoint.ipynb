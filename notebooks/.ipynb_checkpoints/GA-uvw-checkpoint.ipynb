{
 "cells": [
  {
   "cell_type": "markdown",
   "metadata": {},
   "source": [
    "### GASS UVW\n",
    "\n",
    "Notebook to test the uv coverage computation for an observation with a radio interferometer."
   ]
  },
  {
   "cell_type": "code",
   "execution_count": 43,
   "metadata": {},
   "outputs": [],
   "source": [
    "using Distances , Random \n",
    "using PyCall\n",
    "using DataFrames\n",
    "using LinearAlgebra\n",
    "\n",
    "import CSV \n",
    "\n",
    "rootdir = \"/home/stephane/alma/ArrayConfig/GASS\"\n",
    "\n",
    "push!(LOAD_PATH,\"$rootdir/master/src\")\n",
    "using GASS\n",
    "\n",
    "import PyPlot\n",
    "\n",
    "@pyimport astroquery.vizier as vizier\n",
    "@pyimport astropy.units as u\n",
    "@pyimport astropy.coordinates as coord\n",
    "\n",
    "## directory\n",
    "datadir = \"$rootdir/master/data\"\n",
    "wdir    = \"$rootdir/products\"\n",
    "plotdir = \"$rootdir/products/test\"\n",
    "\n",
    "cd(wdir)"
   ]
  },
  {
   "cell_type": "markdown",
   "metadata": {},
   "source": [
    "### UVW methods\n",
    "\n",
    "Several to manipulate and analyze uv-coverage in (radio) interferometry. The examples are taken from ALMA, a (sub-) millieter radio interferometer located in the desert of Atacama, Chile"
   ]
  },
  {
   "cell_type": "code",
   "execution_count": 44,
   "metadata": {},
   "outputs": [
    {
     "data": {
      "text/plain": [
       "calc_baselines (generic function with 2 methods)"
      ]
     },
     "execution_count": 44,
     "metadata": {},
     "output_type": "execute_result"
    }
   ],
   "source": [
    "## baseline coordinates\n",
    "## arr: DataFrames with at least :X, :Y, :Z\n",
    "\n",
    "function calc_baselines(arr::AbstractDataFrame , lat=-23.0262015)\n",
    "    coordinates= [hcat(convert(Vector{Float64},arr[:X])) ; \n",
    "        hcat(convert(Vector{Float64},arr[:Y])) ; \n",
    "        hcat(convert(Vector{Float64},arr[:Z]))]\n",
    "    println(coordinates')\n",
    "    rot= [0 -sind(lat) cosd(lat) ; 1 0 0 ; 0  cosd(lat)  sind(lat)]\n",
    "    \n",
    "    println(*(rot,coordinates))\n",
    "    \n",
    "end"
   ]
  },
  {
   "cell_type": "code",
   "execution_count": 45,
   "metadata": {},
   "outputs": [
    {
     "name": "stdout",
     "output_type": "stream",
     "text": [
      "[-33.8941 -22.5589 -9.8351 10.7399 -20.6204 -41.2393 -61.0568 -86.8729 -103.296 -105.439 -26.0419 -15.3995 2.38262 -1.52336 -5.28917 -57.3605 -79.5438 27.5733 -1.51589 -54.7118 84.323 -140.507 -159.552 108.098 -118.867 89.094 -205.149 103.717 -62.6495 -136.07 159.55 -225.2 58.7495 29.3883 -232.639 210.952 -201.62 -34.1301 149.605 -320.565 210.998 -71.1672 -115.706 278.417 -370.974 159.506 28.8995 -322.525 427.013 -405.236 -712.752 -691.984 -663.827 -659.567 -633.907 -725.978 -722.793 -732.262 -719.779 -755.003 -726.189 -746.359 -763.286 -788.945 -862.854 -861.945 -828.94 -827.398 -616.827 -616.689 -698.102 -651.164 -789.469 -762.867 -582.609 -599.96 -724.69 -847.992 -519.066 -902.086 -656.92 -626.959 -939.669 -480.594 -862.215 -760.34 -507.585 -1015.69 -491.583 -763.861 -883.466 -427.394 -1075.44 -571.571 -604.124 -1067.09 -305.417 -1004.13 -741.484 -342.144 -2.33009 -2.32374 -2.7227 -2.72626 -2.52767 -2.33663 -1.93443 -1.92881 -1.93063 -1.64075 -2.33258 -2.33188 -2.83887 -2.83701 -1.54662 -1.30276 -1.2956 -2.34496 -3.32696 -2.52118 -3.98393 -0.634931 -0.0850667 -4.09474 -0.492832 -5.66196 0.219354 -4.49246 -1.50652 0.926478 -3.35097 0.25508 -0.925793 -3.49825 -2.63677 -7.722 2.95153 4.27568 -7.81278 2.92101 -6.96694 -0.557779 6.89189 -11.9458 -0.592511 -1.91465 -2.93441 -3.52353 -12.8576 -1.63107]\n"
     ]
    },
    {
     "ename": "LoadError",
     "evalue": "DimensionMismatch(\"second dimension of A, 3, does not match length of x, 150\")",
     "output_type": "error",
     "traceback": [
      "DimensionMismatch(\"second dimension of A, 3, does not match length of x, 150\")",
      "",
      "Stacktrace:",
      " [1] gemv!(::Array{Float64,1}, ::Char, ::Array{Float64,2}, ::Array{Float64,1}) at /buildworker/worker/package_linux64/build/usr/share/julia/stdlib/v1.0/LinearAlgebra/src/matmul.jl:346",
      " [2] mul! at /buildworker/worker/package_linux64/build/usr/share/julia/stdlib/v1.0/LinearAlgebra/src/matmul.jl:64 [inlined]",
      " [3] *(::Array{Float64,2}, ::Array{Float64,1}) at /buildworker/worker/package_linux64/build/usr/share/julia/stdlib/v1.0/LinearAlgebra/src/matmul.jl:46",
      " [4] calc_baselines(::DataFrame, ::Float64) at ./In[44]:9",
      " [5] calc_baselines(::DataFrame) at ./In[44]:5",
      " [6] @main(::LineNumberNode, ::Module, ::Any) at ./In[45]:6"
     ]
    }
   ],
   "source": [
    "### Main\n",
    "macro main(inpfile)\n",
    "    cfg = read_cfg(inpfile)\n",
    "    \n",
    "    ## array test\n",
    "    calc_baselines(cfg.arr)\n",
    "end\n",
    "\n",
    "@main(\"../master/data/GA_Inputs_O-10.txt.julia\")"
   ]
  }
 ],
 "metadata": {
  "kernelspec": {
   "display_name": "Julia 1.0.1",
   "language": "julia",
   "name": "julia-1.0"
  },
  "language_info": {
   "file_extension": ".jl",
   "mimetype": "application/julia",
   "name": "julia",
   "version": "1.0.1"
  }
 },
 "nbformat": 4,
 "nbformat_minor": 2
}
