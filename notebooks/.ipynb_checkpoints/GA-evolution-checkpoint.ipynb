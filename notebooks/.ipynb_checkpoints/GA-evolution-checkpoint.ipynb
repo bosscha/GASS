{
 "cells": [
  {
   "cell_type": "markdown",
   "metadata": {},
   "source": [
    "### GASS evolution\n",
    "\n",
    "nb to test the evolution functions "
   ]
  },
  {
   "cell_type": "code",
   "execution_count": 8,
   "metadata": {},
   "outputs": [],
   "source": [
    "using PyCall\n",
    "using DataFrames\n",
    "using Printf\n",
    "\n",
    "rootdir = \"/home/stephane/Science/ALMA/ArrayConfig/GASS\"\n",
    "\n",
    "push!(LOAD_PATH,\"$rootdir/master/src\")\n",
    "using GASS\n",
    "using Printf\n",
    "\n",
    "import PyPlot\n",
    "import Random\n",
    "\n",
    "@pyimport astropy.coordinates as coord\n",
    "@pyimport astropy.modeling.models as am\n",
    "@pyimport astropy.modeling.fitting as mf\n",
    "\n",
    "@pyimport numpy as np\n",
    "\n",
    "\n",
    "## directory\n",
    "datadir = \"$rootdir/master/data\"\n",
    "wdir    = \"$rootdir/products\"\n",
    "plotdir = \"$rootdir/products/test\"\n",
    "\n",
    "cd(wdir)"
   ]
  },
  {
   "cell_type": "code",
   "execution_count": 9,
   "metadata": {},
   "outputs": [],
   "source": [
    "mutable struct _population\n",
    "    age::Int32                 ## age\n",
    "    subarr::Array{Array{Int,1},2}     ## {Population,Subindices}\n",
    "    fitness::Array{Float64,2}  ## fitness of each subarray\n",
    "    score::Array{Float64,1}    ## global score of each set\n",
    "    # prop::Array{Array{Float64,2},2}     ## beam and mrs for each subarray (to be confirmed)    \n",
    "end"
   ]
  },
  {
   "cell_type": "code",
   "execution_count": 10,
   "metadata": {},
   "outputs": [
    {
     "data": {
      "text/plain": [
       "_fitness_subarray (generic function with 1 method)"
      ]
     },
     "execution_count": 10,
     "metadata": {},
     "output_type": "execute_result"
    }
   ],
   "source": [
    "## fitness function for a subarray\n",
    "## cfg: GASS parameters\n",
    "## subarrid: subarray id (int)\n",
    "## subind: subarray indices in the main Arr.\n",
    "##\n",
    "function _fitness_subarray(cfg, subarrid, subind)\n",
    "    subarr = cfg.arr[subind,:]\n",
    "    \n",
    "    bl= calc_baselines(subarr)\n",
    "    uv= calc_uv(bl, cfg.obs.Source_Hour_Angle ,  cfg.obs.Source_Declination)\n",
    "    h , dr=  calc_dirtybeam(uv , 255, 127, robust=0.5)\n",
    "    b= fit_beam(h , dr)\n",
    "    mrs= calc_mrs(uv)\n",
    "    \n",
    "    #@printf(\"## subarray fitness \\n\")\n",
    "    #@printf(\"## beam:\")\n",
    "    #println(b)\n",
    "    #@printf(\"## MRS: %3.3f \\n\", mrs)\n",
    "    \n",
    "    res= 0\n",
    "    res += cfg.wei.Weight_Spatial_Resolution[subarrid]*abs(b.ar-cfg.sub.Spatial_Resolution[subarrid])\n",
    "    res += cfg.wei.Weight_Elongation[subarrid]*abs(b.e-cfg.sub.Elongation[subarrid])*sign(b.e-\n",
    "        cfg.sub.Elongation[subarrid])\n",
    "    res += cfg.wei.Weight_Sidelobe_Levels[subarrid]*abs(b.sidelobe-\n",
    "        cfg.sub.Sidelobe_Level[subarrid])*sign(b.sidelobe-cfg.sub.Sidelobe_Level[subarrid])\n",
    "    res += cfg.wei.Weight_Maximum_Recoverable_Scale[subarrid]*abs(mrs-\n",
    "        cfg.sub.Maximum_Recoverable_Scale[subarrid])*sign(cfg.sub.Maximum_Recoverable_Scale[subarrid]-mrs)\n",
    "    \n",
    "    return(res)\n",
    "end"
   ]
  },
  {
   "cell_type": "code",
   "execution_count": 11,
   "metadata": {},
   "outputs": [
    {
     "data": {
      "text/plain": [
       "_create_population (generic function with 1 method)"
      ]
     },
     "execution_count": 11,
     "metadata": {},
     "output_type": "execute_result"
    }
   ],
   "source": [
    "## Creation pf a population\n",
    "## \n",
    "\n",
    "function _create_population(cfg)\n",
    "    \n",
    "    pop= Array{Array{Int,1},2}(undef,cfg.ga.Population_Size,  cfg.obs.Subarray_Number)\n",
    "    fitness= Array{Float64,2}(undef,cfg.ga.Population_Size,  cfg.obs.Subarray_Number)\n",
    "    score=  Array{Float64,1}(undef,cfg.ga.Population_Size)\n",
    "    \n",
    "    subind= collect(1:cfg.obs.Antenna_Number)\n",
    "    \n",
    "    for i in 1:cfg.ga.Population_Size\n",
    "        Random.shuffle!(subind)\n",
    "        for j in 1:cfg.obs.Subarray_Number\n",
    "            pop[i,j]= subind[cfg.sub.Subrange[j]]\n",
    "            fitness[i,j]= _fitness_subarray(cfg, j, pop[i,j])\n",
    "            println(i,\" \",j,\" \",fitness[i,j])\n",
    "        end\n",
    "        score[i]= -sum(cfg.wei.Weight_Subarray[:] .* fitness[i,:])\n",
    "    end\n",
    "    \n",
    "    _pop= _population(0, pop, fitness, score)\n",
    "    \n",
    "    return(_pop)\n",
    "end"
   ]
  },
  {
   "cell_type": "code",
   "execution_count": 12,
   "metadata": {},
   "outputs": [
    {
     "data": {
      "text/plain": [
       "_get_parents (generic function with 1 method)"
      ]
     },
     "execution_count": 12,
     "metadata": {},
     "output_type": "execute_result"
    }
   ],
   "source": [
    "## get best parents\n",
    "##\n",
    "\n",
    "function _get_elitism(cfg, pop::_population)\n",
    "    isort= reverse(sortperm(pop.score))\n",
    "    \n",
    "    elit= []\n",
    "    for i in 1:cfg.ga.Number_Elitism\n",
    "        push!(elit, [pop.subarr[isort[i],:], pop.fitness[isort[i],:], pop.score[isort[i]]])\n",
    "    end\n",
    "    return(elit)\n",
    "end\n",
    "\n",
    "## using tournament selection\n",
    "function _get_parents(cfg, pop::_population)\n",
    "    tour= cfg.ga.Tournament_Size\n",
    "    \n",
    "    popran= Random.shuffle!(collect(1:cfg.ga.Population_Size))\n",
    "    isort= reverse(sortperm(pop.score[popran[1:tour]]))\n",
    "    iparent1= popran[isort[1]]\n",
    "  \n",
    "    iparent2= iparent1\n",
    "    while iparent1==iparent2\n",
    "        popran= Random.shuffle!(collect(1:cfg.ga.Population_Size))\n",
    "        isort= reverse(sortperm(pop.score[popran[1:tour]]))\n",
    "        iparent2= popran[isort[1]] \n",
    "    end \n",
    "    return(iparent1 , iparent2)\n",
    "end"
   ]
  },
  {
   "cell_type": "code",
   "execution_count": 13,
   "metadata": {},
   "outputs": [
    {
     "data": {
      "text/plain": [
       "_get_crossover1 (generic function with 1 method)"
      ]
     },
     "execution_count": 13,
     "metadata": {},
     "output_type": "execute_result"
    }
   ],
   "source": [
    "function _flatten_subarray(cfg, subarr)\n",
    "    subflat= zeros(Int, cfg.obs.Antenna_Number)\n",
    "    \n",
    "    counter= 1\n",
    "    for i in 1:cfg.obs.Subarray_Number\n",
    "        for j in cfg.sub.Subrange[i]\n",
    "            subflat[counter]= subarr[i][j]\n",
    "            counter +=1\n",
    "        end\n",
    "    end\n",
    "    println(subflat)\n",
    "end\n",
    "\n",
    "## crossover using the two parents\n",
    "##\n",
    "function _get_crossover1(cfg, pop::_population , parents)\n",
    "    \n",
    "    _flatten_subarray(cfg, pop.subarr[parents[1],:])\n",
    "    _flatten_subarray(cfg, pop.subarr[parents[2],:])\n",
    "    child= pop.subarr[parents[1],:]\n",
    "    return(child)\n",
    "end"
   ]
  },
  {
   "cell_type": "code",
   "execution_count": 14,
   "metadata": {},
   "outputs": [
    {
     "name": "stdout",
     "output_type": "stream",
     "text": [
      "## Input Parameters for GASS \n",
      "### Configuration file: ../master/data/O-3.cfg \n",
      "### Obs. Latitude: -23.026 \n",
      "### Source Declination: -50.0 \n",
      "### HA: 0.0 \n",
      "### Antenna number: 50 \n",
      "### Subarray number: 4 \n",
      "##\n",
      "## Subarray Parameters\n",
      "### Pads per subarray: [30, 10, 7, 3]\n",
      "### Name: [\"Sub_1\", \" Sub_2 \", \" Sub_3 \", \" Sub_4\"]\n",
      "### AR: [2.3, 3.0, 3.5, 3.5]\n",
      "### MRS: [20.0, 20.0, 10.0, 10.0]\n",
      "### elongation: [1.2, 1.3, 2.0, 3.0]\n",
      "### sidelobe: [10.0, 20.0, 60.0, 60.0]\n",
      "##\n",
      "## GA parameters\n",
      "### Iterations: 100 \n",
      "### Population size: 10 \n",
      "### Mutation rate: 0.050 \n",
      "### Tournament size: 5 \n",
      "### Elitism: 5 \n",
      "##\n",
      "## Weights\n",
      "### Subarray weights: [0.25, 0.25, 0.25, 0.25]\n",
      "### AR weights: [0.25, 0.25, 0.25, 0.25]\n",
      "### MRS weights: [0.25, 0.25, 0.25, 0.25]\n",
      "### elongation weights: [0.25, 0.25, 0.25, 0.25]\n",
      "### sidelobe weights: [0.25, 0.25, 0.25, 0.25]\n",
      "##\n",
      "##\n",
      "## Create population...\n",
      "1 1 1.3464597797854199\n",
      "1 2 1.2587608053428547\n",
      "1 3 -12.475068210103446\n",
      "1 4 14.201270171093224\n",
      "2 1 -0.7699184123305407\n",
      "2 2 1.465724465971915\n",
      "2 3 -11.540768281702698\n",
      "2 4 -5.999314506789224\n",
      "3 1 1.6405667281496905\n",
      "3 2 -0.6603084165068456\n",
      "3 3 -11.4556497793442\n",
      "3 4 -14.785048728445057\n",
      "4 1 -0.0923468966292682\n",
      "4 2 1.56302532687469\n",
      "4 3 -13.494394420909822\n",
      "4 4 3.4497215328053423\n",
      "5 1 2.4987955500470824\n",
      "5 2 1.8633432849303526\n",
      "5 3 -13.294130284714981\n",
      "5 4 82.6241306549136\n",
      "6 1 2.839369818658123\n",
      "6 2 0.4934717574472991\n",
      "6 3 -12.308003053345372\n",
      "6 4 -13.016289066502832\n",
      "7 1 2.703233527688838\n",
      "7 2 0.5089822442313472\n",
      "7 3 -13.256085408713453\n",
      "7 4 -2.037031729305051\n",
      "8 1 1.3598945895996608\n",
      "8 2 1.0581133222345935\n",
      "8 3 -11.93110964656763\n",
      "8 4 -9.345500875133478\n",
      "9 1 -4.598196229366922\n",
      "9 2 -0.7241918686475541\n",
      "9 3 -13.15397385384204\n",
      "9 4 3.1129576890619823\n",
      "10 1 0.5247933274215866\n",
      "10 2 -4.538900499500349\n",
      "10 3 -11.91115739328464\n",
      "10 4 12.79678449590761\n"
     ]
    },
    {
     "ename": "LoadError",
     "evalue": "BoundsError: attempt to access 10-element Array{Int64,1} at index [31]",
     "output_type": "error",
     "traceback": [
      "BoundsError: attempt to access 10-element Array{Int64,1} at index [31]",
      "",
      "Stacktrace:",
      " [1] getindex at ./array.jl:729 [inlined]",
      " [2] _flatten_subarray(::cfg, ::Array{Array{Int64,1},1}) at ./In[13]:7",
      " [3] _get_crossover1(::cfg, ::_population, ::Tuple{Int64,Int64}) at ./In[13]:18",
      " [4] @main(::LineNumberNode, ::Module, ::Any) at ./In[14]:9"
     ]
    }
   ],
   "source": [
    "macro main(inpfile)\n",
    "    cfg = read_cfg(inpfile , verbose=true)\n",
    "    \n",
    "    println(\"##\")\n",
    "    println(\"## Create population...\")\n",
    "    p0= _create_population(cfg)\n",
    "    pelit=  _get_elitism(cfg, p0)\n",
    "    parent= _get_parents(cfg, p0)\n",
    "    _get_crossover1(cfg, p0 , parent)\n",
    "    \n",
    "    #println(pelit)\n",
    "    \n",
    "    ## PLOT ####\n",
    "    #PyPlot.imshow(h)\n",
    "    #PyPlot.colorbar()\n",
    "    #PyPlot.show()\n",
    "    \n",
    "end\n",
    "\n",
    "@main(\"../master/data/GA_Inputs_O-3.txt.julia\")"
   ]
  }
 ],
 "metadata": {
  "kernelspec": {
   "display_name": "Julia 1.1.0",
   "language": "julia",
   "name": "julia-1.1"
  },
  "language_info": {
   "file_extension": ".jl",
   "mimetype": "application/julia",
   "name": "julia",
   "version": "1.1.0"
  }
 },
 "nbformat": 4,
 "nbformat_minor": 2
}
