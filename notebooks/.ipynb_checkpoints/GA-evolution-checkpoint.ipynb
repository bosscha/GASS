{
 "cells": [
  {
   "cell_type": "markdown",
   "metadata": {},
   "source": [
    "### GASS evolution\n",
    "\n",
    "nb to test the evolution functions "
   ]
  },
  {
   "cell_type": "code",
   "execution_count": 9,
   "metadata": {},
   "outputs": [],
   "source": [
    "using PyCall\n",
    "using DataFrames\n",
    "using Printf\n",
    "\n",
    "#rootdir = \"/home/stephane/Science/ALMA/ArrayConfig/GASS\"\n",
    "rootdir = \"/home/stephane/alma/ArrayConfig/GASS\"\n",
    "\n",
    "push!(LOAD_PATH,\"$rootdir/master/src\")\n",
    "using GASS\n",
    "using Printf\n",
    "\n",
    "import PyPlot\n",
    "import Random\n",
    "\n",
    "@pyimport astropy.coordinates as coord\n",
    "@pyimport astropy.modeling.models as am\n",
    "@pyimport astropy.modeling.fitting as mf\n",
    "\n",
    "@pyimport numpy as np\n",
    "\n",
    "\n",
    "## directory\n",
    "datadir = \"$rootdir/master/data\"\n",
    "wdir    = \"$rootdir/products\"\n",
    "plotdir = \"$rootdir/products/test\"\n",
    "\n",
    "cd(wdir)"
   ]
  },
  {
   "cell_type": "code",
   "execution_count": 10,
   "metadata": {},
   "outputs": [],
   "source": [
    "mutable struct _population\n",
    "    age::Int32                 ## age\n",
    "    subarr::Array{Array{Int,1},2}     ## {Population,Subindices}\n",
    "    fitness::Array{Float64,2}  ## fitness of each subarray\n",
    "    score::Array{Float64,1}    ## global score of each set\n",
    "    # prop::Array{Array{Float64,2},2}     ## beam and mrs for each subarray (to be confirmed)    \n",
    "end"
   ]
  },
  {
   "cell_type": "code",
   "execution_count": 11,
   "metadata": {},
   "outputs": [
    {
     "data": {
      "text/plain": [
       "_fitness_subarray (generic function with 1 method)"
      ]
     },
     "execution_count": 11,
     "metadata": {},
     "output_type": "execute_result"
    }
   ],
   "source": [
    "## fitness function for a subarray\n",
    "## cfg: GASS parameters\n",
    "## subarrid: subarray id (int)\n",
    "## subind: subarray indices in the main Arr.\n",
    "##\n",
    "function _fitness_subarray(cfg, subarrid, subind)\n",
    "    subarr = cfg.arr[subind,:]\n",
    "    \n",
    "    bl= calc_baselines(subarr)\n",
    "    uv= calc_uv(bl, cfg.obs.Source_Hour_Angle ,  cfg.obs.Source_Declination)\n",
    "    h , dr=  calc_dirtybeam(uv , 255, 127, robust=0.5)\n",
    "    b= fit_beam(h , dr)\n",
    "    mrs= calc_mrs(uv)\n",
    "    \n",
    "    #@printf(\"## subarray fitness \\n\")\n",
    "    #@printf(\"## beam:\")\n",
    "    #println(b)\n",
    "    #@printf(\"## MRS: %3.3f \\n\", mrs)\n",
    "    \n",
    "    res= 0\n",
    "    res += cfg.wei.Weight_Spatial_Resolution[subarrid]*abs(b.ar-cfg.sub.Spatial_Resolution[subarrid])\n",
    "    res += cfg.wei.Weight_Elongation[subarrid]*abs(b.e-cfg.sub.Elongation[subarrid])*sign(b.e-\n",
    "        cfg.sub.Elongation[subarrid])\n",
    "    res += cfg.wei.Weight_Sidelobe_Levels[subarrid]*abs(b.sidelobe-\n",
    "        cfg.sub.Sidelobe_Level[subarrid])*sign(b.sidelobe-cfg.sub.Sidelobe_Level[subarrid])\n",
    "    res += cfg.wei.Weight_Maximum_Recoverable_Scale[subarrid]*abs(mrs-\n",
    "        cfg.sub.Maximum_Recoverable_Scale[subarrid])*sign(cfg.sub.Maximum_Recoverable_Scale[subarrid]-mrs)\n",
    "    \n",
    "    return(res)\n",
    "end"
   ]
  },
  {
   "cell_type": "code",
   "execution_count": 12,
   "metadata": {},
   "outputs": [
    {
     "data": {
      "text/plain": [
       "_create_population (generic function with 1 method)"
      ]
     },
     "execution_count": 12,
     "metadata": {},
     "output_type": "execute_result"
    }
   ],
   "source": [
    "## Creation pf a population\n",
    "## \n",
    "\n",
    "function _create_population(cfg)\n",
    "    \n",
    "    pop= Array{Array{Int,1},2}(undef,cfg.ga.Population_Size,  cfg.obs.Subarray_Number)\n",
    "    fitness= Array{Float64,2}(undef,cfg.ga.Population_Size,  cfg.obs.Subarray_Number)\n",
    "    score=  Array{Float64,1}(undef,cfg.ga.Population_Size)\n",
    "    \n",
    "    subind= collect(1:cfg.obs.Antenna_Number)\n",
    "    \n",
    "    for i in 1:cfg.ga.Population_Size\n",
    "        Random.shuffle!(subind)\n",
    "        for j in 1:cfg.obs.Subarray_Number\n",
    "            pop[i,j]= subind[cfg.sub.Subrange[j]]\n",
    "            fitness[i,j]= _fitness_subarray(cfg, j, pop[i,j])\n",
    "            println(i,\" \",j,\" \",fitness[i,j])\n",
    "        end\n",
    "        score[i]= -sum(cfg.wei.Weight_Subarray[:] .* fitness[i,:])\n",
    "    end\n",
    "    \n",
    "    _pop= _population(0, pop, fitness, score)\n",
    "    \n",
    "    return(_pop)\n",
    "end"
   ]
  },
  {
   "cell_type": "code",
   "execution_count": 13,
   "metadata": {},
   "outputs": [
    {
     "data": {
      "text/plain": [
       "_get_parents (generic function with 1 method)"
      ]
     },
     "execution_count": 13,
     "metadata": {},
     "output_type": "execute_result"
    }
   ],
   "source": [
    "## get best parents\n",
    "##\n",
    "\n",
    "function _get_elitism(cfg, pop::_population)\n",
    "    isort= reverse(sortperm(pop.score))\n",
    "    \n",
    "    elit= []\n",
    "    for i in 1:cfg.ga.Number_Elitism\n",
    "        push!(elit, [pop.subarr[isort[i],:], pop.fitness[isort[i],:], pop.score[isort[i]]])\n",
    "    end\n",
    "    return(elit)\n",
    "end\n",
    "\n",
    "## using tournament selection\n",
    "function _get_parents(cfg, pop::_population)\n",
    "    tour= cfg.ga.Tournament_Size\n",
    "    \n",
    "    popran= Random.shuffle!(collect(1:cfg.ga.Population_Size))\n",
    "    isort= reverse(sortperm(pop.score[popran[1:tour]]))\n",
    "    iparent1= popran[isort[1]]\n",
    "  \n",
    "    iparent2= iparent1\n",
    "    while iparent1==iparent2\n",
    "        popran= Random.shuffle!(collect(1:cfg.ga.Population_Size))\n",
    "        isort= reverse(sortperm(pop.score[popran[1:tour]]))\n",
    "        iparent2= popran[isort[1]] \n",
    "    end \n",
    "    return(iparent1 , iparent2)\n",
    "end"
   ]
  },
  {
   "cell_type": "code",
   "execution_count": 14,
   "metadata": {},
   "outputs": [
    {
     "data": {
      "text/plain": [
       "_get_crossover1 (generic function with 1 method)"
      ]
     },
     "execution_count": 14,
     "metadata": {},
     "output_type": "execute_result"
    }
   ],
   "source": [
    "function _flatten_subarray(cfg, subarr)\n",
    "    subflat= zeros(Int, cfg.obs.Antenna_Number)\n",
    "    \n",
    "    counter= 1\n",
    "    for i in 1:cfg.obs.Subarray_Number\n",
    "        for j in 1:cfg.sub.Pads_Per_Subarray[i]\n",
    "            subflat[counter]= subarr[i][j]\n",
    "            counter += 1\n",
    "        end\n",
    "    end\n",
    "    return(subflat)\n",
    "end\n",
    "\n",
    "## reform the subarray array..\n",
    "function _wrap_subarray(cfg, sub)\n",
    "    subarray= Array{Array{Int,1}}(undef,0)\n",
    "\n",
    "    for i in 1:cfg.obs.Subarray_Number\n",
    "        push!(subarray, sub[cfg.sub.Subrange[i]])\n",
    "    end\n",
    "    \n",
    "    return(subarray)\n",
    "end\n",
    "\n",
    "## crossover using the two parents\n",
    "##\n",
    "function _get_crossover1(cfg, pop::_population , parents)\n",
    "    nmax= cfg.obs.Antenna_Number\n",
    "    p1= _flatten_subarray(cfg, pop.subarr[parents[1],:])\n",
    "    p2= _flatten_subarray(cfg, pop.subarr[parents[2],:])\n",
    "    child= zeros(Int, nmax)\n",
    "\n",
    "    pivot= rand(1:nmax,2)\n",
    "    pivot1= minimum(pivot) ; pivot2= maximum(pivot)\n",
    "    child[pivot1:pivot2] .= p1[pivot1:pivot2]\n",
    "\n",
    "    irange1= 1:pivot1-1 ; irange2= pivot2+1:nmax\n",
    "    \n",
    "    cnterp2= 1\n",
    "    for i in irange1\n",
    "        while (p2[cnterp2] in child)\n",
    "            cnterp2 += 1\n",
    "        end\n",
    "        child[i]= p2[cnterp2]\n",
    "    end\n",
    "    for i in irange2\n",
    "        while (p2[cnterp2] in child)\n",
    "            cnterp2 += 1\n",
    "        end\n",
    "        child[i]= p2[cnterp2]\n",
    "    end  \n",
    "    \n",
    "    println(child)\n",
    "    c= _wrap_subarray(cfg, child)\n",
    "    println(c)\n",
    "    return(child)\n",
    "end"
   ]
  },
  {
   "cell_type": "code",
   "execution_count": 15,
   "metadata": {},
   "outputs": [
    {
     "ename": "LoadError",
     "evalue": "syntax: incomplete: \"function\" at none:5 requires end",
     "output_type": "error",
     "traceback": [
      "syntax: incomplete: \"function\" at none:5 requires end",
      ""
     ]
    }
   ],
   "source": [
    "## mutation\n",
    "## loop over all alleles and swap two if p is true\n",
    "## \n",
    "\n",
    "function _get_mutation(cfg,pop::_population , indiv)\n",
    "    nmax= cfg.obs.Antenna_Number\n",
    "    si= _flatten_subarray(cfg, pop.subarr[indiv,:])\n",
    "    \n",
    "    pmutation= 1-cfg.ga.Mutation_Rate/100\n",
    "    rng = MersenneTwister(1234)\n",
    "    rd= rand(rng, nmax)\n",
    "    \n",
    "    for i in 1:nmax\n",
    "        if rd[i] > pmutation\n",
    "            print(\"mute\")\n",
    "        end\n",
    "    end\n",
    "end"
   ]
  },
  {
   "cell_type": "code",
   "execution_count": 16,
   "metadata": {},
   "outputs": [
    {
     "name": "stdout",
     "output_type": "stream",
     "text": [
      "## Input Parameters for GASS \n",
      "### Configuration file: ../master/data/O-3.cfg \n",
      "### Obs. Latitude: -23.026 \n",
      "### Source Declination: -50.0 \n",
      "### HA: 0.0 \n",
      "### Antenna number: 50 \n",
      "### Subarray number: 4 \n",
      "##\n",
      "## Subarray Parameters\n",
      "### Pads per subarray: [30, 10, 7, 3]\n",
      "### Name: [\"Sub_1\", \" Sub_2 \", \" Sub_3 \", \" Sub_4\"]\n",
      "### AR: [2.3, 3.0, 3.5, 3.5]\n",
      "### MRS: [20.0, 20.0, 10.0, 10.0]\n",
      "### elongation: [1.2, 1.3, 2.0, 3.0]\n",
      "### sidelobe: [10.0, 20.0, 60.0, 60.0]\n",
      "##\n",
      "## GA parameters\n",
      "### Iterations: 100 \n",
      "### Population size: 10 \n",
      "### Mutation rate: 0.050 \n",
      "### Tournament size: 5 \n",
      "### Elitism: 5 \n",
      "##\n",
      "## Weights\n",
      "### Subarray weights: [0.25, 0.25, 0.25, 0.25]\n",
      "### AR weights: [0.25, 0.25, 0.25, 0.25]\n",
      "### MRS weights: [0.25, 0.25, 0.25, 0.25]\n",
      "### elongation weights: [0.25, 0.25, 0.25, 0.25]\n",
      "### sidelobe weights: [0.25, 0.25, 0.25, 0.25]\n",
      "##\n",
      "##\n",
      "## Creating the population...\n",
      "1 1 2.4128107507184176\n",
      "1 2 0.9397015690851425\n",
      "1 3 -5.778709930049862\n",
      "1 4 -5.367216718174991\n",
      "2 1 -2.742062138479897\n",
      "2 2 0.6328991774330976\n",
      "2 3 -2.860703459946315\n",
      "2 4 7.443915261817903\n",
      "3 1 1.9874504151578554\n",
      "3 2 0.8754108622610564\n",
      "3 3 -12.03342964988404\n",
      "3 4 3.6543932820541034\n",
      "4 1 -0.7293339088587445\n",
      "4 2 0.8117730226259536\n",
      "4 3 -15.165413408545586\n",
      "4 4 12.512137460780142\n",
      "5 1 0.5059132234047956\n",
      "5 2 -3.499332548641034\n",
      "5 3 -15.489727311753782\n",
      "5 4 5.934532424816019\n",
      "6 1 1.8905480247836433\n",
      "6 2 -18.316965069155295\n",
      "6 3 -10.810901600874011\n",
      "6 4 9.391483418517666\n",
      "7 1 -2.533222425499838\n",
      "7 2 2.207078151641915\n",
      "7 3 -11.372930927110193\n",
      "7 4 7.8784812296503395\n",
      "8 1 1.8130943850174064\n",
      "8 2 0.5625476785045955\n",
      "8 3 -11.831432318320367\n",
      "8 4 9.81307988075766\n",
      "9 1 0.8604436203751469\n",
      "9 2 1.9032741710416967\n",
      "9 3 -5.6591281814108\n",
      "9 4 12.146990157881879\n",
      "10 1 1.6159381016080205\n",
      "10 2 0.6709609069603166\n",
      "10 3 -12.265958908570633\n",
      "10 4 7.285921696816871\n",
      "[40, 12, 41, 25, 38, 16, 20, 49, 11, 32, 45, 34, 33, 43, 8, 6, 7, 15, 19, 9, 18, 47, 2, 36, 23, 5, 3, 50, 14, 13, 22, 28, 31, 48, 35, 37, 10, 26, 21, 39, 24, 4, 42, 29, 30, 46, 17, 44, 27, 1]\n",
      "Array{Int64,1}[[40, 12, 41, 25, 38, 16, 20, 49, 11, 32, 45, 34, 33, 43, 8, 6, 7, 15, 19, 9, 18, 47, 2, 36, 23, 5, 3, 50, 14, 13], [22, 28, 31, 48, 35, 37, 10, 26, 21, 39], [24, 4, 42, 29, 30, 46, 17], [44, 27, 1]]\n"
     ]
    },
    {
     "data": {
      "text/plain": [
       "50-element Array{Int64,1}:\n",
       " 40\n",
       " 12\n",
       " 41\n",
       " 25\n",
       " 38\n",
       " 16\n",
       " 20\n",
       " 49\n",
       " 11\n",
       " 32\n",
       " 45\n",
       " 34\n",
       " 33\n",
       "  ⋮\n",
       " 21\n",
       " 39\n",
       " 24\n",
       "  4\n",
       " 42\n",
       " 29\n",
       " 30\n",
       " 46\n",
       " 17\n",
       " 44\n",
       " 27\n",
       "  1"
      ]
     },
     "execution_count": 16,
     "metadata": {},
     "output_type": "execute_result"
    }
   ],
   "source": [
    "macro main(inpfile)\n",
    "    cfg = read_cfg(inpfile , verbose=true)\n",
    "    \n",
    "    println(\"##\")\n",
    "    println(\"## Creating the population...\")\n",
    "    p0= _create_population(cfg)\n",
    "    pelit=  _get_elitism(cfg, p0)\n",
    "    parent= _get_parents(cfg, p0)\n",
    "    child=  _get_crossover1(cfg, p0 , parent)\n",
    "    \n",
    "    \n",
    "    #println(pelit)\n",
    "    \n",
    "    ## PLOT ####\n",
    "    #PyPlot.imshow(h)\n",
    "    #PyPlot.colorbar()\n",
    "    #PyPlot.show()\n",
    "    \n",
    "end\n",
    "\n",
    "@main(\"../master/data/GA_Inputs_O-3.txt.julia\")"
   ]
  }
 ],
 "metadata": {
  "kernelspec": {
   "display_name": "Julia 1.0.1",
   "language": "julia",
   "name": "julia-1.0"
  },
  "language_info": {
   "file_extension": ".jl",
   "mimetype": "application/julia",
   "name": "julia",
   "version": "1.0.1"
  }
 },
 "nbformat": 4,
 "nbformat_minor": 2
}
