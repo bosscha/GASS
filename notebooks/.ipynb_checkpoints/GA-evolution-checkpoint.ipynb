{
 "cells": [
  {
   "cell_type": "markdown",
   "metadata": {},
   "source": [
    "### GASS evolution\n",
    "\n",
    "nb to test the evolution functions "
   ]
  },
  {
   "cell_type": "code",
   "execution_count": 85,
   "metadata": {},
   "outputs": [],
   "source": [
    "using PyCall\n",
    "using DataFrames\n",
    "using Printf\n",
    "\n",
    "rootdir = \"/home/stephane/Science/ALMA/ArrayConfig/GASS\"\n",
    "\n",
    "push!(LOAD_PATH,\"$rootdir/master/src\")\n",
    "using GASS\n",
    "using Printf\n",
    "\n",
    "import PyPlot\n",
    "import Random\n",
    "\n",
    "@pyimport astropy.coordinates as coord\n",
    "@pyimport astropy.modeling.models as am\n",
    "@pyimport astropy.modeling.fitting as mf\n",
    "\n",
    "@pyimport numpy as np\n",
    "\n",
    "\n",
    "## directory\n",
    "datadir = \"$rootdir/master/data\"\n",
    "wdir    = \"$rootdir/products\"\n",
    "plotdir = \"$rootdir/products/test\"\n",
    "\n",
    "cd(wdir)"
   ]
  },
  {
   "cell_type": "code",
   "execution_count": 86,
   "metadata": {},
   "outputs": [],
   "source": [
    "mutable struct _population\n",
    "    age::Int32                 ## age\n",
    "    subarr::Array{Array{Int,1},2}     ## {Population,Subindices}\n",
    "    fitness::Array{Float64,2}  ## fitness of each subarray\n",
    "    score::Array{Float64,1}    ## global score of each set\n",
    "    # prop::Array{Array{Float64,2},2}     ## beam and mrs for each subarray (to be confirmed)    \n",
    "end"
   ]
  },
  {
   "cell_type": "code",
   "execution_count": 87,
   "metadata": {},
   "outputs": [
    {
     "data": {
      "text/plain": [
       "_fitness_subarray (generic function with 1 method)"
      ]
     },
     "execution_count": 87,
     "metadata": {},
     "output_type": "execute_result"
    }
   ],
   "source": [
    "## fitness function for a subarray\n",
    "## cfg: GASS parameters\n",
    "## subarrid: subarray id (int)\n",
    "## subind: subarray indices in the main Arr.\n",
    "##\n",
    "function _fitness_subarray(cfg, subarrid, subind)\n",
    "    subarr = cfg.arr[subind,:]\n",
    "    \n",
    "    bl= calc_baselines(subarr)\n",
    "    uv= calc_uv(bl, cfg.obs.Source_Hour_Angle ,  cfg.obs.Source_Declination)\n",
    "    h , dr=  calc_dirtybeam(uv , 255, 127, robust=0.5)\n",
    "    b= fit_beam(h , dr)\n",
    "    mrs= calc_mrs(uv)\n",
    "    \n",
    "    #@printf(\"## subarray fitness \\n\")\n",
    "    #@printf(\"## beam:\")\n",
    "    #println(b)\n",
    "    #@printf(\"## MRS: %3.3f \\n\", mrs)\n",
    "    \n",
    "    res= 0\n",
    "    res += cfg.wei.Weight_Spatial_Resolution[subarrid]*abs(b.ar-cfg.sub.Spatial_Resolution[subarrid])\n",
    "    res += cfg.wei.Weight_Elongation[subarrid]*abs(b.e-cfg.sub.Elongation[subarrid])*sign(b.e-\n",
    "        cfg.sub.Elongation[subarrid])\n",
    "    res += cfg.wei.Weight_Sidelobe_Levels[subarrid]*abs(b.sidelobe-\n",
    "        cfg.sub.Sidelobe_Level[subarrid])*sign(b.sidelobe-cfg.sub.Sidelobe_Level[subarrid])\n",
    "    res += cfg.wei.Weight_Maximum_Recoverable_Scale[subarrid]*abs(mrs-\n",
    "        cfg.sub.Maximum_Recoverable_Scale[subarrid])*sign(cfg.sub.Maximum_Recoverable_Scale[subarrid]-mrs)\n",
    "    \n",
    "    return(res)\n",
    "end"
   ]
  },
  {
   "cell_type": "code",
   "execution_count": 88,
   "metadata": {},
   "outputs": [
    {
     "data": {
      "text/plain": [
       "_create_population (generic function with 1 method)"
      ]
     },
     "execution_count": 88,
     "metadata": {},
     "output_type": "execute_result"
    }
   ],
   "source": [
    "## Creation pf a population\n",
    "## \n",
    "\n",
    "function _create_population(cfg)\n",
    "    \n",
    "    pop= Array{Array{Int,1},2}(undef,cfg.ga.Population_Size,  cfg.obs.Subarray_Number)\n",
    "    fitness= Array{Float64,2}(undef,cfg.ga.Population_Size,  cfg.obs.Subarray_Number)\n",
    "    score=  Array{Float64,1}(undef,cfg.ga.Population_Size)\n",
    "    \n",
    "    subind= collect(1:cfg.obs.Antenna_Number)\n",
    "    \n",
    "    for i in 1:cfg.ga.Population_Size\n",
    "        Random.shuffle!(subind)\n",
    "        for j in 1:cfg.obs.Subarray_Number\n",
    "            pop[i,j]= subind[cfg.sub.Subrange[j]]\n",
    "            fitness[i,j]= _fitness_subarray(cfg, j, pop[i,j])\n",
    "            println(i,\" \",j,\" \",fitness[i,j])\n",
    "        end\n",
    "        score[i]= -sum(cfg.wei.Weight_Subarray[:] .* fitness[i,:])\n",
    "    end\n",
    "    \n",
    "    _pop= _population(0, pop, fitness, score)\n",
    "    \n",
    "    return(_pop)\n",
    "end"
   ]
  },
  {
   "cell_type": "code",
   "execution_count": 89,
   "metadata": {},
   "outputs": [
    {
     "data": {
      "text/plain": [
       "_get_parents (generic function with 1 method)"
      ]
     },
     "execution_count": 89,
     "metadata": {},
     "output_type": "execute_result"
    }
   ],
   "source": [
    "## get best parents\n",
    "##\n",
    "\n",
    "function _get_elitism(cfg, pop::_population)\n",
    "    isort= reverse(sortperm(pop.score))\n",
    "    \n",
    "    elit= []\n",
    "    for i in 1:cfg.ga.Number_Elitism\n",
    "        push!(elit, [pop.subarr[isort[i],:], pop.fitness[isort[i],:], pop.score[isort[i]]])\n",
    "    end\n",
    "    return(elit)\n",
    "end\n",
    "\n",
    "## using tournament selection\n",
    "function _get_parents(cfg, pop::_population)\n",
    "    tour= cfg.ga.Tournament_Size\n",
    "    \n",
    "    popran= Random.shuffle!(collect(1:cfg.ga.Population_Size))\n",
    "    isort= reverse(sortperm(pop.score[popran[1:tour]]))\n",
    "    iparent1= popran[isort[1]]\n",
    "  \n",
    "    iparent2= iparent1\n",
    "    while iparent1==iparent2\n",
    "        popran= Random.shuffle!(collect(1:cfg.ga.Population_Size))\n",
    "        isort= reverse(sortperm(pop.score[popran[1:tour]]))\n",
    "        iparent2= popran[isort[1]] \n",
    "    end \n",
    "    return(iparent1 , iparent2)\n",
    "end"
   ]
  },
  {
   "cell_type": "code",
   "execution_count": 90,
   "metadata": {},
   "outputs": [
    {
     "data": {
      "text/plain": [
       "_get_crossover1 (generic function with 1 method)"
      ]
     },
     "execution_count": 90,
     "metadata": {},
     "output_type": "execute_result"
    }
   ],
   "source": [
    "function _flatten_subarray(cfg, subarr)\n",
    "    subflat= zeros(Int, cfg.obs.Antenna_Number)\n",
    "    \n",
    "    counter= 1\n",
    "    for i in 1:cfg.obs.Subarray_Number\n",
    "        for j in 1:cfg.sub.Pads_Per_Subarray[i]\n",
    "            subflat[counter]= subarr[i][j]\n",
    "            counter += 1\n",
    "        end\n",
    "    end\n",
    "    return(subflat)\n",
    "end\n",
    "\n",
    "## crossover using the two parents\n",
    "##\n",
    "function _get_crossover1(cfg, pop::_population , parents)\n",
    "    nmax= cfg.obs.Antenna_Number\n",
    "    p1= _flatten_subarray(cfg, pop.subarr[parents[1],:])\n",
    "    p2= _flatten_subarray(cfg, pop.subarr[parents[2],:])\n",
    "    child= zeros(Int, nmax)\n",
    "\n",
    "    pivot= rand(1:nmax,2)\n",
    "    pivot1= minimum(pivot) ; pivot2= maximum(pivot)\n",
    "    child[pivot1:pivot2] .= p1[pivot1:pivot2]\n",
    "\n",
    "    irange1= 1:pivot1-1 ; irange2= pivot2+1:nmax\n",
    "    \n",
    "    cnterp2= 1\n",
    "    for i in irange1\n",
    "        while (p2[cnterp2] in child)\n",
    "            cnterp2 += 1\n",
    "        end\n",
    "        child[i]= p2[cnterp2]\n",
    "    end\n",
    "    for i in irange2\n",
    "        while (p2[cnterp2] in child)\n",
    "            cnterp2 += 1\n",
    "        end\n",
    "        child[i]= p2[cnterp2]\n",
    "    end  \n",
    "    \n",
    "    println(child)\n",
    "    return(child)\n",
    "end"
   ]
  },
  {
   "cell_type": "code",
   "execution_count": null,
   "metadata": {},
   "outputs": [],
   "source": [
    "## mutation\n",
    "## loop over all alleles and swap two if p is true\n",
    "## \n",
    "\n",
    "function _get_mutation(cfg,pop::_population , indiv)\n",
    "    nmax= cfg.obs.Antenna_Number\n",
    "    si= _flatten_subarray(cfg, pop.subarr[indiv,:])\n",
    "    \n",
    "    pmutation= 1-cfg.ga.Mutation_Rate/100\n",
    "    rng = MersenneTwister(1234)\n",
    "    rd= rand(rng, nmax)\n",
    "    \n",
    "    for i in 1:nmax\n",
    "        if rd[i] > pmutation\n",
    "            print(\"mute\")\n",
    "        end\n",
    "    end"
   ]
  },
  {
   "cell_type": "code",
   "execution_count": 91,
   "metadata": {},
   "outputs": [
    {
     "name": "stdout",
     "output_type": "stream",
     "text": [
      "## Input Parameters for GASS \n",
      "### Configuration file: ../master/data/O-3.cfg \n",
      "### Obs. Latitude: -23.026 \n",
      "### Source Declination: -50.0 \n",
      "### HA: 0.0 \n",
      "### Antenna number: 50 \n",
      "### Subarray number: 4 \n",
      "##\n",
      "## Subarray Parameters\n",
      "### Pads per subarray: [30, 10, 7, 3]\n",
      "### Name: [\"Sub_1\", \" Sub_2 \", \" Sub_3 \", \" Sub_4\"]\n",
      "### AR: [2.3, 3.0, 3.5, 3.5]\n",
      "### MRS: [20.0, 20.0, 10.0, 10.0]\n",
      "### elongation: [1.2, 1.3, 2.0, 3.0]\n",
      "### sidelobe: [10.0, 20.0, 60.0, 60.0]\n",
      "##\n",
      "## GA parameters\n",
      "### Iterations: 100 \n",
      "### Population size: 10 \n",
      "### Mutation rate: 0.050 \n",
      "### Tournament size: 5 \n",
      "### Elitism: 5 \n",
      "##\n",
      "## Weights\n",
      "### Subarray weights: [0.25, 0.25, 0.25, 0.25]\n",
      "### AR weights: [0.25, 0.25, 0.25, 0.25]\n",
      "### MRS weights: [0.25, 0.25, 0.25, 0.25]\n",
      "### elongation weights: [0.25, 0.25, 0.25, 0.25]\n",
      "### sidelobe weights: [0.25, 0.25, 0.25, 0.25]\n",
      "##\n",
      "##\n",
      "## Creating the population...\n",
      "1 1 1.5688180374028375\n",
      "1 2 2.011866709712961\n",
      "1 3 -11.835877725550265\n",
      "1 4 12.533992720884033\n",
      "2 1 -0.04915528201290931\n",
      "2 2 0.928995822062868\n",
      "2 3 -13.29667801653314\n",
      "2 4 11.079686079934609\n",
      "3 1 -6.507236784507024\n",
      "3 2 1.040408344533386\n",
      "3 3 -11.947463903563875\n",
      "3 4 8.74550401626591\n",
      "4 1 -1.8339553856636717\n",
      "4 2 0.3484815483036736\n",
      "4 3 -11.531981579928708\n",
      "4 4 7.595145167307808\n",
      "5 1 0.03480874160122138\n",
      "5 2 -11.667512018842347\n",
      "5 3 -11.083449222596393\n",
      "5 4 -10.711867601759844\n",
      "6 1 2.3944080460315837\n",
      "6 2 0.3586817436526002\n",
      "6 3 -12.12380796463585\n",
      "6 4 14.206713633289493\n",
      "7 1 0.433326934022638\n",
      "7 2 0.9932901396702931\n",
      "7 3 -13.202373681252432\n",
      "7 4 -10.79811524516013\n",
      "8 1 1.4053701337192528\n",
      "8 2 -1.931973166206535\n",
      "8 3 -11.175202406901299\n",
      "8 4 -24.521882122617033\n",
      "9 1 0.033361516241824596\n",
      "9 2 -0.5198247986352291\n",
      "9 3 -14.337703233431832\n",
      "9 4 6.7388644009158485\n",
      "10 1 2.094951767676355\n",
      "10 2 -0.9188944059921957\n",
      "10 3 -11.631841251717363\n",
      "10 4 7.580459911973181\n",
      "[1, 2, 3, 4, 5, 6, 7, 8, 9, 10, 11, 12, 13, 14, 15, 16, 17, 18, 19, 20, 21, 22, 23, 24, 25, 26, 27, 28, 29, 30, 31, 32, 33, 34, 35, 36, 37, 38, 39, 40, 41, 42, 43, 44, 45, 46, 47, 48, 49, 50]\n"
     ]
    },
    {
     "data": {
      "text/plain": [
       "50-element Array{Int64,1}:\n",
       "  3\n",
       " 26\n",
       " 33\n",
       " 35\n",
       " 27\n",
       "  7\n",
       " 10\n",
       " 39\n",
       " 42\n",
       " 50\n",
       " 32\n",
       "  9\n",
       " 18\n",
       "  ⋮\n",
       " 28\n",
       "  6\n",
       " 14\n",
       "  1\n",
       "  2\n",
       "  8\n",
       " 24\n",
       " 30\n",
       " 11\n",
       " 48\n",
       "  4\n",
       "  5"
      ]
     },
     "execution_count": 91,
     "metadata": {},
     "output_type": "execute_result"
    }
   ],
   "source": [
    "macro main(inpfile)\n",
    "    cfg = read_cfg(inpfile , verbose=true)\n",
    "    \n",
    "    println(\"##\")\n",
    "    println(\"## Creating the population...\")\n",
    "    p0= _create_population(cfg)\n",
    "    pelit=  _get_elitism(cfg, p0)\n",
    "    parent= _get_parents(cfg, p0)\n",
    "    child=  _get_crossover1(cfg, p0 , parent)\n",
    "    \n",
    "    \n",
    "    #println(pelit)\n",
    "    \n",
    "    ## PLOT ####\n",
    "    #PyPlot.imshow(h)\n",
    "    #PyPlot.colorbar()\n",
    "    #PyPlot.show()\n",
    "    \n",
    "end\n",
    "\n",
    "@main(\"../master/data/GA_Inputs_O-3.txt.julia\")"
   ]
  }
 ],
 "metadata": {
  "kernelspec": {
   "display_name": "Julia 1.1.0",
   "language": "julia",
   "name": "julia-1.1"
  },
  "language_info": {
   "file_extension": ".jl",
   "mimetype": "application/julia",
   "name": "julia",
   "version": "1.1.0"
  }
 },
 "nbformat": 4,
 "nbformat_minor": 2
}
