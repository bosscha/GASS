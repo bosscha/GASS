{
 "cells": [
  {
   "cell_type": "markdown",
   "metadata": {},
   "source": [
    "### GASS evolution\n",
    "\n",
    "nb to test the evolution functions "
   ]
  },
  {
   "cell_type": "code",
   "execution_count": 7,
   "metadata": {},
   "outputs": [],
   "source": [
    "using PyCall\n",
    "using DataFrames\n",
    "using Printf\n",
    "\n",
    "rootdir = \"/home/stephane/Science/ALMA/ArrayConfig/GASS\"\n",
    "\n",
    "push!(LOAD_PATH,\"$rootdir/master/src\")\n",
    "using GASS\n",
    "using Printf\n",
    "\n",
    "import PyPlot\n",
    "import Random\n",
    "\n",
    "@pyimport astropy.coordinates as coord\n",
    "@pyimport astropy.modeling.models as am\n",
    "@pyimport astropy.modeling.fitting as mf\n",
    "\n",
    "@pyimport numpy as np\n",
    "\n",
    "\n",
    "## directory\n",
    "datadir = \"$rootdir/master/data\"\n",
    "wdir    = \"$rootdir/products\"\n",
    "plotdir = \"$rootdir/products/test\"\n",
    "\n",
    "cd(wdir)"
   ]
  },
  {
   "cell_type": "code",
   "execution_count": 8,
   "metadata": {},
   "outputs": [],
   "source": [
    "mutable struct _population\n",
    "    age::Int32                 ## age\n",
    "    subarr::Array{Array{Int,1},2}     ## {Population,Subindices}\n",
    "    fitness::Array{Float64,2}  ## fitness of each subarray\n",
    "    score::Array{Float64,1}    ## global score of each set\n",
    "    # prop::Array{Array{Float64,2},2}     ## beam and mrs for each subarray (to be confirmed)    \n",
    "end"
   ]
  },
  {
   "cell_type": "code",
   "execution_count": 9,
   "metadata": {},
   "outputs": [
    {
     "data": {
      "text/plain": [
       "_fitness_subarray (generic function with 1 method)"
      ]
     },
     "execution_count": 9,
     "metadata": {},
     "output_type": "execute_result"
    }
   ],
   "source": [
    "## fitness function for a subarray\n",
    "## cfg: GASS parameters\n",
    "## subarrid: subarray id (int)\n",
    "## subind: subarray indices in the main Arr.\n",
    "##\n",
    "function _fitness_subarray(cfg, subarrid, subind)\n",
    "    subarr = cfg.arr[subind,:]\n",
    "    \n",
    "    bl= calc_baselines(subarr)\n",
    "    uv= calc_uv(bl, cfg.obs.Source_Hour_Angle ,  cfg.obs.Source_Declination)\n",
    "    h , dr=  calc_dirtybeam(uv , 255, 127, robust=0.5)\n",
    "    b= fit_beam(h , dr)\n",
    "    mrs= calc_mrs(uv)\n",
    "    \n",
    "    #@printf(\"## subarray fitness \\n\")\n",
    "    #@printf(\"## beam:\")\n",
    "    #println(b)\n",
    "    #@printf(\"## MRS: %3.3f \\n\", mrs)\n",
    "    \n",
    "    res= 0\n",
    "    res += cfg.wei.Weight_Spatial_Resolution[subarrid]*abs(b.ar-cfg.sub.Spatial_Resolution[subarrid])\n",
    "    res += cfg.wei.Weight_Elongation[subarrid]*abs(b.e-cfg.sub.Elongation[subarrid])*sign(b.e-\n",
    "        cfg.sub.Elongation[subarrid])\n",
    "    res += cfg.wei.Weight_Sidelobe_Levels[subarrid]*abs(b.sidelobe-\n",
    "        cfg.sub.Sidelobe_Level[subarrid])*sign(b.sidelobe-cfg.sub.Sidelobe_Level[subarrid])\n",
    "    res += cfg.wei.Weight_Maximum_Recoverable_Scale[subarrid]*abs(mrs-\n",
    "        cfg.sub.Maximum_Recoverable_Scale[subarrid])*sign(cfg.sub.Maximum_Recoverable_Scale[subarrid]-mrs)\n",
    "    \n",
    "    return(res)\n",
    "end"
   ]
  },
  {
   "cell_type": "code",
   "execution_count": 10,
   "metadata": {},
   "outputs": [
    {
     "data": {
      "text/plain": [
       "_create_population (generic function with 1 method)"
      ]
     },
     "execution_count": 10,
     "metadata": {},
     "output_type": "execute_result"
    }
   ],
   "source": [
    "## Creation pf a population\n",
    "## \n",
    "\n",
    "function _create_population(cfg)\n",
    "    \n",
    "    pop= Array{Array{Int,1},2}(undef,cfg.ga.Population_Size,  cfg.obs.Subarray_Number)\n",
    "    fitness= Array{Float64,2}(undef,cfg.ga.Population_Size,  cfg.obs.Subarray_Number)\n",
    "    score=  Array{Float64,1}(undef,cfg.ga.Population_Size)\n",
    "    \n",
    "    subind= collect(1:cfg.obs.Antenna_Number)\n",
    "    \n",
    "    for i in 1:cfg.ga.Population_Size\n",
    "        Random.shuffle!(subind)\n",
    "        for j in 1:cfg.obs.Subarray_Number\n",
    "            pop[i,j]= subind[cfg.sub.Subrange[j]]\n",
    "            fitness[i,j]= _fitness_subarray(cfg, j, pop[i,j])\n",
    "            println(i,\" \",j,\" \",fitness[i,j])\n",
    "        end\n",
    "        score[i]= -sum(cfg.wei.Weight_Subarray[:] .* fitness[i,:])\n",
    "    end\n",
    "    \n",
    "    _pop= _population(0, pop, fitness, score)\n",
    "    \n",
    "    return(_pop)\n",
    "end"
   ]
  },
  {
   "cell_type": "code",
   "execution_count": 11,
   "metadata": {},
   "outputs": [
    {
     "data": {
      "text/plain": [
       "_get_elitism (generic function with 1 method)"
      ]
     },
     "execution_count": 11,
     "metadata": {},
     "output_type": "execute_result"
    }
   ],
   "source": [
    "## get best parents\n",
    "##\n",
    "\n",
    "function _get_elitism(cfg, pop::_population)\n",
    "    isort= sortperm(pop.score)\n",
    "    \n",
    "    elit= []\n",
    "    for i in 1:cfg.ga.Number_Elitism\n",
    "        push!(elit, [pop.subarr[isort[i],:], pop.fitness[isort[i],:], pop.score[isort[i]]])\n",
    "    end\n",
    "    return(elit)\n",
    "end"
   ]
  },
  {
   "cell_type": "code",
   "execution_count": 12,
   "metadata": {},
   "outputs": [
    {
     "name": "stdout",
     "output_type": "stream",
     "text": [
      "## Input Parameters for GASS \n",
      "### Configuration file: ../master/data/O-3.cfg \n",
      "### Obs. Latitude: -23.026 \n",
      "### Source Declination: -50.0 \n",
      "### HA: 0.0 \n",
      "### Antenna number: 50 \n",
      "### Subarray number: 4 \n",
      "##\n",
      "## Subarray Parameters\n",
      "### Pads per subarray: [30, 10, 7, 3]\n",
      "### Name: [\"Sub_1\", \" Sub_2 \", \" Sub_3 \", \" Sub_4\"]\n",
      "### AR: [2.3, 3.0, 3.5, 3.5]\n",
      "### MRS: [20.0, 20.0, 10.0, 10.0]\n",
      "### elongation: [1.2, 1.3, 2.0, 3.0]\n",
      "### sidelobe: [10.0, 20.0, 60.0, 60.0]\n",
      "##\n",
      "## GA parameters\n",
      "### Iterations: 100 \n",
      "### Population size: 10 \n",
      "### Mutation rate: 0.050 \n",
      "### Tournament size: 5 \n",
      "### Elitism: 5 \n",
      "##\n",
      "## Weights\n",
      "### Subarray weights: [0.25, 0.25, 0.25, 0.25]\n",
      "### AR weights: [0.25, 0.25, 0.25, 0.25]\n",
      "### MRS weights: [0.25, 0.25, 0.25, 0.25]\n",
      "### elongation weights: [0.25, 0.25, 0.25, 0.25]\n",
      "### sidelobe weights: [0.25, 0.25, 0.25, 0.25]\n",
      "##\n",
      "##\n",
      "## Create population...\n",
      "1 1 2.915641480695924\n",
      "1 2 1.404088762558895\n",
      "1 3 -27.88693989183685\n",
      "1 4 27.528075764485195\n",
      "2 1 -0.41342415421787004\n",
      "2 2 -12.340771838620984\n",
      "2 3 -13.44584801721752\n",
      "2 4 -13.02943718150587\n",
      "3 1 -0.4353290164047148\n",
      "3 2 -4.34503388521927\n",
      "3 3 -15.520090810182495\n",
      "3 4 6.732773782569685\n",
      "4 1 -2.6812946516626472\n",
      "4 2 -0.2281451534331973\n",
      "4 3 -11.317681086149669\n",
      "4 4 15.04342276469248\n",
      "5 1 -0.16285754880634729\n",
      "5 2 2.155313698245666\n",
      "5 3 -15.974240373912075\n",
      "5 4 12.751250621973284\n",
      "6 1 1.5996297641649329\n",
      "6 2 -6.6952058754284876\n",
      "6 3 -10.8137673130788\n",
      "6 4 -12.655641226317597\n",
      "7 1 0.8580276719506845\n",
      "7 2 1.237374403443897\n",
      "7 3 -7.9595838913354235\n",
      "7 4 12.419291110688453\n",
      "8 1 1.789530484242931\n",
      "8 2 -1.6570335593757708\n",
      "8 3 -10.64501523667609\n",
      "8 4 3.7489779087648496\n",
      "9 1 1.1663499175494998\n",
      "9 2 -2.9810629452726443\n",
      "9 3 -22.001981082259263\n",
      "9 4 10.187279611202534\n",
      "10 1 2.8535659687411976\n",
      "10 2 -0.9737595732494864\n",
      "10 3 -10.453365216766317\n",
      "10 4 108925.55869416847\n",
      "Any[Any[Array{Int64,1}[[14, 5, 42, 6, 40, 19, 27, 12, 2, 48, 30, 23, 18, 21, 1, 37, 26, 13, 44, 20, 31, 4, 36, 9, 25, 50, 33, 17, 22, 15], [39, 46, 38, 7, 49, 3, 29, 45, 11, 43], [28, 35, 32, 24, 8, 41, 34], [47, 16, 10]], [2.91564, 1.40409, -27.8869, 27.5281], -0.990217], Any[Array{Int64,1}[[2, 7, 43, 49, 13, 8, 6, 25, 44, 10, 34, 39, 31, 33, 32, 24, 42, 26, 5, 9, 35, 30, 47, 48, 38, 17, 11, 21, 28, 14], [40, 37, 41, 18, 16, 4, 29, 23, 46, 50], [36, 45, 3, 20, 12, 19, 15], [1, 27, 22]], [-0.413424, -12.3408, -13.4458, -13.0294], 9.80737], Any[Array{Int64,1}[[21, 25, 44, 20, 16, 49, 39, 46, 29, 33, 1, 3, 11, 47, 9, 43, 22, 7, 19, 34, 37, 27, 26, 30, 36, 4, 28, 17, 42, 12], [35, 38, 31, 23, 45, 50, 40, 6, 10, 32], [13, 24, 48, 18, 14, 8, 5], [15, 2, 41]], [-0.435329, -4.34503, -15.5201, 6.73277], 3.39192], Any[Array{Int64,1}[[32, 4, 41, 24, 1, 38, 19, 25, 33, 49, 5, 16, 10, 9, 14, 42, 2, 18, 34, 36, 23, 30, 43, 7, 6, 48, 20, 21, 35, 15], [31, 13, 37, 45, 17, 3, 46, 29, 39, 27], [28, 47, 44, 50, 22, 40, 8], [12, 11, 26]], [-2.68129, -0.228145, -11.3177, 15.0434], -0.204075], Any[Array{Int64,1}[[42, 32, 16, 5, 37, 20, 2, 48, 1, 10, 31, 12, 29, 14, 38, 8, 9, 27, 19, 22, 41, 15, 17, 18, 36, 44, 26, 30, 45, 28], [25, 46, 33, 50, 3, 13, 24, 6, 11, 47], [35, 40, 4, 34, 7, 21, 23], [49, 43, 39]], [-0.162858, 2.15531, -15.9742, 12.7513], 0.307633]]\n"
     ]
    }
   ],
   "source": [
    "macro main(inpfile)\n",
    "    cfg = read_cfg(inpfile , verbose=true)\n",
    "    \n",
    "    println(\"##\")\n",
    "    println(\"## Create population...\")\n",
    "    p0= _create_population(cfg)\n",
    "    pelit= _get_elitism(cfg, p0)\n",
    "    println(pelit)\n",
    "    \n",
    "    ## PLOT ####\n",
    "    #PyPlot.imshow(h)\n",
    "    #PyPlot.colorbar()\n",
    "    #PyPlot.show()\n",
    "    \n",
    "end\n",
    "\n",
    "@main(\"../master/data/GA_Inputs_O-3.txt.julia\")"
   ]
  }
 ],
 "metadata": {
  "kernelspec": {
   "display_name": "Julia 1.1.0",
   "language": "julia",
   "name": "julia-1.1"
  },
  "language_info": {
   "file_extension": ".jl",
   "mimetype": "application/julia",
   "name": "julia",
   "version": "1.1.0"
  }
 },
 "nbformat": 4,
 "nbformat_minor": 2
}
