{
 "cells": [
  {
   "cell_type": "markdown",
   "metadata": {},
   "source": [
    "## GA-parameters\n",
    "\n",
    "Nb to test the GA parameters "
   ]
  },
  {
   "cell_type": "code",
   "execution_count": null,
   "metadata": {},
   "outputs": [],
   "source": [
    "using PyCall\n",
    "using DataFrames\n",
    "\n",
    "rootdir = \"/home/stephane/Science/ALMA/ArrayConfig/GASS\"\n",
    "#rootdir = \"/home/stephane/alma/ArrayConfig/GASS\"\n",
    "\n",
    "push!(LOAD_PATH,\"$rootdir/master/src\")\n",
    "using GASS\n",
    "using Printf\n",
    "\n",
    "import PyPlot\n",
    "import Random\n",
    "import JLD\n",
    "\n",
    "np= pyimport(\"numpy\")\n",
    "\n",
    "\n",
    "## directory\n",
    "datadir = \"$rootdir/master/data\"\n",
    "wdir    = \"$rootdir/products\"\n",
    "plotdir = \"$rootdir/products/test\"\n",
    "\n",
    "cd(wdir)"
   ]
  },
  {
   "cell_type": "code",
   "execution_count": null,
   "metadata": {},
   "outputs": [],
   "source": [
    "## full run with JLD output ..\n",
    "##\n",
    "function _full_run(fileprefix::String, cfg::cfg, jld= false)\n",
    "    println(fileprefix)\n",
    "    res= gass_optimization(cfg)\n",
    "\n",
    "    lastPopulation= cfg.ga.Number_Iterations\n",
    "    psort= sort_population(res[lastPopulation])\n",
    "    save_CASAarr(fileprefix, cfg, psort.subarr[1,:])\n",
    "    \n",
    "    if jld\n",
    "       JLD.save(fileprefix*\".jld\", \"evol\", res)\n",
    "       println(\"## $fileprefix.jld written..\")\n",
    "    end\n",
    "    \n",
    "    return(res)\n",
    "end"
   ]
  },
  {
   "cell_type": "code",
   "execution_count": null,
   "metadata": {},
   "outputs": [],
   "source": [
    "## testing the number of iteration parameter\n",
    "\n",
    "function _param_iteration(filepref::String, iteration::Vector{Int64} , cfg::cfg)\n",
    "    for iter in iteration\n",
    "        println(\"## Number of iterations: $iter\")\n",
    "        cfg.ga.Number_Iterations= iter\n",
    "        \n",
    "        filename= @sprintf(\"%s-iter%d_\", filepref, iter)\n",
    "        res= _full_run(filename, cfg, false)\n",
    "    end\n",
    "end"
   ]
  },
  {
   "cell_type": "code",
   "execution_count": null,
   "metadata": {},
   "outputs": [],
   "source": [
    "## compute the GASS with different iterations\n",
    "\n",
    "iteration= [10,20,30,40,50,100,150]\n",
    "inpfile= \"../master/data/GA_Parameter_O-3.txt.julia\"\n",
    "cfg1 = read_cfg(inpfile )\n",
    "t= @time _param_iteration(\"test\",iteration , cfg1)"
   ]
  }
 ],
 "metadata": {
  "kernelspec": {
   "display_name": "Julia 1.1.0",
   "language": "julia",
   "name": "julia-1.1"
  },
  "language_info": {
   "file_extension": ".jl",
   "mimetype": "application/julia",
   "name": "julia",
   "version": "1.1.0"
  }
 },
 "nbformat": 4,
 "nbformat_minor": 2
}
