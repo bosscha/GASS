{
 "cells": [
  {
   "cell_type": "markdown",
   "metadata": {},
   "source": [
    "### GA Subarray Selection\n",
    "\n",
    "Tutorial to use GASS </br>\n",
    "The package was initially written by R. Lassis (INSA, France) and S. Leon (ALMA). </br>\n",
    "\n",
    "The main goal is to select a set of subarray with constraint from a parent array, The optimization process is performed using a Genetic Algorithm (GA) as explained in Leon et al. (2019). <br>\n",
    "\n",
    "Basics for Radio Interferometry can be found at https://web.njit.edu/~gary/728/Lecture6.html"
   ]
  },
  {
   "cell_type": "code",
   "execution_count": null,
   "metadata": {},
   "outputs": [],
   "source": []
  }
 ],
 "metadata": {
  "kernelspec": {
   "display_name": "Python 3",
   "language": "python",
   "name": "python3"
  },
  "language_info": {
   "codemirror_mode": {
    "name": "ipython",
    "version": 3
   },
   "file_extension": ".py",
   "mimetype": "text/x-python",
   "name": "python",
   "nbconvert_exporter": "python",
   "pygments_lexer": "ipython3",
   "version": "3.6.7"
  }
 },
 "nbformat": 4,
 "nbformat_minor": 2
}
