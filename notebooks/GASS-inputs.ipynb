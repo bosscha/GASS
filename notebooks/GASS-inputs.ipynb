{
 "cells": [
  {
   "cell_type": "markdown",
   "metadata": {},
   "source": [
    "## Julia GASS\n",
    "\n",
    "Testing the GASS with Julia"
   ]
  },
  {
   "cell_type": "code",
   "execution_count": 4,
   "metadata": {},
   "outputs": [
    {
     "name": "stderr",
     "output_type": "stream",
     "text": [
      "┌ Info: Precompiling GASS [top-level]\n",
      "└ @ Base loading.jl:1189\n"
     ]
    }
   ],
   "source": [
    "using PyCall\n",
    "using Distributions\n",
    "using Statistics\n",
    "\n",
    "using Distances , Random \n",
    "using AstroLib\n",
    "\n",
    "import CSV\n",
    "\n",
    "rootdir = \"/home/stephane/alma/ArrayConfig/GASS\"\n",
    "\n",
    "push!(LOAD_PATH,\"$rootdir/master/src\")\n",
    "using GASS\n",
    "\n",
    "import PyPlot\n",
    "\n",
    "@pyimport astroquery.vizier as vizier\n",
    "@pyimport astropy.units as u\n",
    "@pyimport astropy.coordinates as coord\n",
    "\n",
    "## directory\n",
    "datadir = \"$rootdir/master/data\"\n",
    "wdir    = \"$rootdir/products\"\n",
    "plotdir = \"$rootdir/products/test\"\n",
    "\n",
    "cd(wdir)"
   ]
  },
  {
   "cell_type": "code",
   "execution_count": 5,
   "metadata": {},
   "outputs": [
    {
     "data": {
      "text/plain": [
       "input_parameters (generic function with 1 method)"
      ]
     },
     "execution_count": 5,
     "metadata": {},
     "output_type": "execute_result"
    }
   ],
   "source": [
    "function input_parameters(file)\n",
    "    open(file,\"r\") do f\n",
    "        for line in eachline(f)\n",
    "            l = lstrip(line)\n",
    "            if length(l) > 0 && l[1] != '#'\n",
    "                res = strip.(split(l,\":\"))\n",
    "                println(res)\n",
    "            end\n",
    "        end\n",
    "    end\n",
    "end"
   ]
  },
  {
   "cell_type": "code",
   "execution_count": 6,
   "metadata": {},
   "outputs": [
    {
     "ename": "LoadError",
     "evalue": "SystemError: opening file Input_Files/GA_Inputs_O-10.txt.julia: No such file or directory",
     "output_type": "error",
     "traceback": [
      "SystemError: opening file Input_Files/GA_Inputs_O-10.txt.julia: No such file or directory",
      "",
      "Stacktrace:",
      " [1] #systemerror#39(::Nothing, ::Function, ::String, ::Bool) at ./error.jl:106",
      " [2] systemerror at ./error.jl:106 [inlined]",
      " [3] #open#293(::Bool, ::Nothing, ::Nothing, ::Nothing, ::Nothing, ::Function, ::String) at ./iostream.jl:283",
      " [4] #open at ./iostream.jl:0 [inlined]",
      " [5] open(::String, ::String) at ./iostream.jl:339",
      " [6] #open#294(::Base.Iterators.Pairs{Union{},Union{},Tuple{},NamedTuple{(),Tuple{}}}, ::Function, ::getfield(Main, Symbol(\"##5#6\")), ::String, ::Vararg{String,N} where N) at ./iostream.jl:367",
      " [7] open at ./iostream.jl:367 [inlined]",
      " [8] input_parameters(::String) at ./In[5]:2",
      " [9] @main(::LineNumberNode, ::Module, ::Any) at ./In[6]:2"
     ]
    }
   ],
   "source": [
    "macro main(file)\n",
    "    res = input_parameters(file)\n",
    "end\n",
    "\n",
    "@main(\"datadir/GA_Inputs_O-10.txt.julia\")\n",
    "@main(\"datadir/GA_Parameters_O-10.txt.julia\")"
   ]
  }
 ],
 "metadata": {
  "kernelspec": {
   "display_name": "Julia 1.0.1",
   "language": "julia",
   "name": "julia-1.0"
  },
  "language_info": {
   "file_extension": ".jl",
   "mimetype": "application/julia",
   "name": "julia",
   "version": "1.0.1"
  }
 },
 "nbformat": 4,
 "nbformat_minor": 2
}
