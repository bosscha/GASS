{
 "cells": [
  {
   "cell_type": "markdown",
   "metadata": {},
   "source": [
    "## Julia GASS\n",
    "\n",
    "Testing the GASS with Julia"
   ]
  },
  {
   "cell_type": "code",
   "execution_count": 1,
   "metadata": {},
   "outputs": [
    {
     "name": "stderr",
     "output_type": "stream",
     "text": [
      "┌ Info: Precompiling Distances [b4f34e82-e78d-54a5-968a-f98e89d6e8f7]\n",
      "└ @ Base loading.jl:1186\n",
      "┌ Info: Precompiling DataFrames [a93c6f00-e57d-5684-b7b6-d8193f3e46c0]\n",
      "└ @ Base loading.jl:1186\n",
      "┌ Info: Precompiling CSV [336ed68f-0bac-5ca0-87d4-7b16caf5d00b]\n",
      "└ @ Base loading.jl:1186\n",
      "┌ Info: Precompiling PyPlot [d330b81b-6aea-500a-939a-2ce795aea3ee]\n",
      "└ @ Base loading.jl:1186\n"
     ]
    },
    {
     "ename": "PyCall.PyError",
     "evalue": "PyError (PyImport_ImportModule\n\nThe Python package astroquery.vizier could not be found by pyimport. Usually this means\nthat you did not install astroquery.vizier in the Python version being used by PyCall.\n\nPyCall is currently configured to use the Python version at:\n\n/usr/bin/python3\n\nand you should use whatever mechanism you usually use (apt-get, pip, conda,\netcetera) to install the Python package containing the astroquery.vizier module.\n\nOne alternative is to re-configure PyCall to use a different Python\nversion on your system: set ENV[\"PYTHON\"] to the path/name of the python\nexecutable you want to use, run Pkg.build(\"PyCall\"), and re-launch Julia.\n\nAnother alternative is to configure PyCall to use a Julia-specific Python\ndistribution via the Conda.jl package (which installs a private Anaconda\nPython distribution), which has the advantage that packages can be installed\nand kept up-to-date via Julia.  As explained in the PyCall documentation,\nset ENV[\"PYTHON\"]=\"\", run Pkg.build(\"PyCall\"), and re-launch Julia. Then,\nTo install the astroquery.vizier module, you can use `pyimport_conda(\"astroquery.vizier\", PKG)`,\nwhere PKG is the Anaconda package the contains the module astroquery.vizier,\nor alternatively you can use the Conda package directly (via\n`using Conda` followed by `Conda.add` etcetera).\n\n) <class 'ModuleNotFoundError'>\nModuleNotFoundError(\"No module named 'astroquery'\")\n",
     "output_type": "error",
     "traceback": [
      "PyError (PyImport_ImportModule\n\nThe Python package astroquery.vizier could not be found by pyimport. Usually this means\nthat you did not install astroquery.vizier in the Python version being used by PyCall.\n\nPyCall is currently configured to use the Python version at:\n\n/usr/bin/python3\n\nand you should use whatever mechanism you usually use (apt-get, pip, conda,\netcetera) to install the Python package containing the astroquery.vizier module.\n\nOne alternative is to re-configure PyCall to use a different Python\nversion on your system: set ENV[\"PYTHON\"] to the path/name of the python\nexecutable you want to use, run Pkg.build(\"PyCall\"), and re-launch Julia.\n\nAnother alternative is to configure PyCall to use a Julia-specific Python\ndistribution via the Conda.jl package (which installs a private Anaconda\nPython distribution), which has the advantage that packages can be installed\nand kept up-to-date via Julia.  As explained in the PyCall documentation,\nset ENV[\"PYTHON\"]=\"\", run Pkg.build(\"PyCall\"), and re-launch Julia. Then,\nTo install the astroquery.vizier module, you can use `pyimport_conda(\"astroquery.vizier\", PKG)`,\nwhere PKG is the Anaconda package the contains the module astroquery.vizier,\nor alternatively you can use the Conda package directly (via\n`using Conda` followed by `Conda.add` etcetera).\n\n) <class 'ModuleNotFoundError'>\nModuleNotFoundError(\"No module named 'astroquery'\")\n",
      "",
      "Stacktrace:",
      " [1] pyimport(::String) at /home/stephane/.julia/packages/PyCall/ttONZ/src/PyCall.jl:544",
      " [2] top-level scope at /home/stephane/.julia/packages/PyCall/ttONZ/src/PyCall.jl:588",
      " [3] top-level scope at In[1]:17"
     ]
    }
   ],
   "source": [
    "using PyCall\n",
    "using Distributions\n",
    "using Statistics\n",
    "\n",
    "using Distances , Random \n",
    "using DataFrames\n",
    "using Printf\n",
    "\n",
    "import CSV\n",
    "\n",
    "rootdir = \"/home/stephane/Science/ALMA/ArrayConfig/GASS\"\n",
    "\n",
    "#push!(LOAD_PATH,\"$rootdir/master/src\")\n",
    "#using GASS\n",
    "\n",
    "import PyPlot\n",
    "\n",
    "@pyimport astroquery.vizier as vizier\n",
    "@pyimport astropy.units as u\n",
    "@pyimport astropy.coordinates as coord\n",
    "\n",
    "## directory\n",
    "datadir = \"$rootdir/master/data\"\n",
    "wdir    = \"$rootdir/products\"\n",
    "plotdir = \"$rootdir/products/test\"\n",
    "\n",
    "cd(wdir)"
   ]
  },
  {
   "cell_type": "code",
   "execution_count": 2,
   "metadata": {},
   "outputs": [],
   "source": [
    "## Types ##\n",
    "\n",
    "struct _observation\n",
    "    Array_Configuration_File::String\n",
    "    Folder_Results::String\n",
    "    Display_Verbose::Bool\n",
    "    Observatory_Latitude::Float64\n",
    "    Source_Declination::Float64\n",
    "    Source_Hour_Angle::Float64\n",
    "    Subarray_Number::Int\n",
    "    folder_results::String\n",
    "    verbose::Bool\n",
    "end\n",
    "\n",
    "struct _subarrayParameters\n",
    "        Pads_Per_Subarray::Vector{Int}\n",
    "        Subarray_Name::Vector{String}\n",
    "        Subrange::Array{UnitRange{Int64},1}\n",
    "        Spatial_Resolution::Vector{Float64}\n",
    "        Maximum_Recoverable_Scale::Vector{Float64}\n",
    "        Elongation::Vector{Float64}\n",
    "        Sidelobe_Level::Vector{Float64}\n",
    "end\n",
    "\n",
    "struct _weight\n",
    "    Weight_Subarray::Vector{Float64}\n",
    "    Weight_Spatial_Resolution::Vector{Float64}\n",
    "    Weight_Maximum_Recoverable_Scale::Vector{Float64}\n",
    "    Weight_Elongation::Vector{Float64}                  \n",
    "    Weight_Sidelobe_Levels::Vector{Float64}\n",
    "end\n",
    "\n",
    "struct _GA\n",
    "    Number_Iterations::Int\n",
    "    Population_Size::Int\n",
    "    Termination_Condition::Bool\n",
    "    Threshold::Float64\n",
    "    Mutation_Rate::Float64\n",
    "    Tournament_Size::Int\n",
    "    Number_Elitism::Int\n",
    "end\n",
    "\n",
    "struct _cfg\n",
    "    arr::AbstractDataFrame \n",
    "    obs::_observation\n",
    "    sub::_subarrayParameters\n",
    "    wei::_weight\n",
    "    ga::_GA\n",
    "end"
   ]
  },
  {
   "cell_type": "code",
   "execution_count": 3,
   "metadata": {},
   "outputs": [
    {
     "data": {
      "text/plain": [
       "_input_parameters (generic function with 1 method)"
      ]
     },
     "execution_count": 3,
     "metadata": {},
     "output_type": "execute_result"
    }
   ],
   "source": [
    "function _input_parameters(file)\n",
    "    let\n",
    "        param = []\n",
    "        open(file,\"r\") do f\n",
    "            for line in eachline(f)\n",
    "                l = lstrip(line)\n",
    "                if length(l) > 0 && l[1] != '#'\n",
    "                    res = strip.(split(l,\":\"))\n",
    "                    push!(param,res)\n",
    "                end\n",
    "            end\n",
    "        end\n",
    "        return(param)\n",
    "    end\n",
    "end"
   ]
  },
  {
   "cell_type": "code",
   "execution_count": 4,
   "metadata": {},
   "outputs": [
    {
     "data": {
      "text/plain": [
       "_parse_input (generic function with 1 method)"
      ]
     },
     "execution_count": 4,
     "metadata": {},
     "output_type": "execute_result"
    }
   ],
   "source": [
    "## parse input file\n",
    "\n",
    "function _parse_input(input_param)\n",
    "    let\n",
    "        fileParam= \"default.cfg\" \n",
    "        saveFold=  \"Results/\"\n",
    "        verbose= true\n",
    "        \n",
    "        for pair in input_param\n",
    "            if pair[1] == \"File_Parameters\"\n",
    "                fileParam = pair[2]\n",
    "            elseif pair[1] == \"Folder_Results\"\n",
    "                saveFold= pair[2]\n",
    "            elseif pair[1] == \"Display_Screen_Results\" && pair[2] == \"false\"\n",
    "                verbose= false\n",
    "            end\n",
    "        end\n",
    "        res= _inputCfg(fileParam , saveFold , verbose)\n",
    "        return(res)    \n",
    "    end\n",
    "end"
   ]
  },
  {
   "cell_type": "code",
   "execution_count": 5,
   "metadata": {},
   "outputs": [
    {
     "data": {
      "text/plain": [
       "_parse_parameters (generic function with 1 method)"
      ]
     },
     "execution_count": 5,
     "metadata": {},
     "output_type": "execute_result"
    }
   ],
   "source": [
    "## parse parameter file for the subarray constraints\n",
    "\n",
    "function _parse_parameters(input_param)\n",
    "    let\n",
    "        arraycfg= 0 \n",
    "        obs= 0\n",
    "        sub= 0\n",
    "        wei= 0\n",
    "        ga= 0\n",
    "        \n",
    "        Array_Configuration_File= \"alma.cfg\"\n",
    "        Folder_Results= \".\"\n",
    "        Display_Verbose= true\n",
    "        Observatory_Latitude= -23.0262015\n",
    "        Source_Declination= -30\n",
    "        Source_Hour_Angle = -1 \n",
    "        Subarray_Number= 4\n",
    "        \n",
    "        ## array of nsubarray elements\n",
    "        Pads_Per_Subarray= []\n",
    "        Weight_Subarray= []\n",
    "        Subarray_Name= [] \n",
    "        Spatial_Resolution= []\n",
    "        Maximum_Recoverable_Scale=\n",
    "        Elongation= []\n",
    "        Sidelobe_Level= []\n",
    "        Weight_Spatial_Resolution= []\n",
    "        Weight_Maximum_Recoverable_Scale= [] \n",
    "        Weight_Elongation= []                    \n",
    "        Weight_Sidelobe_Levels= []\n",
    "        \n",
    "        ## GA parameters\n",
    "        Number_Iterations = 100\n",
    "        Population_Size= 100\n",
    "        Termination_Condition= false\n",
    "        Threshold= -0.05\n",
    "        Mutation_Rate= 0.05\n",
    "        Tournament_Size= 5\n",
    "        Number_Elitism= 5\n",
    "        \n",
    "        for pair in input_param\n",
    "            println(pair)\n",
    "            if pair[1] == \"Array_Configuration_File\"\n",
    "                Array_Configuration_File= pair[2]\n",
    "            elseif pair[1] == \"Folder_Results\"\n",
    "                Folder_Results= pair[2]\n",
    "            elseif pair[1] == \"Display_Verbose\"\n",
    "                Display_Verbose=  pair[2]==\"true\" ? true : false\n",
    "            elseif pair[1] == \"Observatory_Latitude\"\n",
    "                Observatory_Latitude= parse(Float64, pair[2])    \n",
    "            elseif pair[1] == \"Source_Declination\"\n",
    "                Source_Declination= parse(Float64, pair[2])\n",
    "            elseif pair[1] == \"Source_Hour_Angle\"\n",
    "                Source_Hour_Angle= parse(Float64, pair[2])\n",
    "            elseif pair[1] == Subarray_Number\n",
    "                Subarray_Number= parse(Int, pair[2])\n",
    "            elseif pair[1] == \"Number_Iterations\"\n",
    "                Number_Iterations= parse(Int, pair[2])\n",
    "            elseif pair[1] == \"Population_Size\"\n",
    "                Population_Size= parse(Int, pair[2])\n",
    "            elseif pair[1] == \"Termination_Condition\"\n",
    "                Termination_Condition= pair[2]==\"true\" ? true : false\n",
    "            elseif pair[1] == \"Threshold\"\n",
    "                Threshold=parse(Float64, pair[2]) \n",
    "            elseif pair[1] == \"Mutation_Rate\"\n",
    "                Mutation_Rate=parse(Float64, pair[2])\n",
    "            elseif pair[1] == \"Tournament_Size\"\n",
    "                Tournament_Size= parse(Int, pair[2])\n",
    "            elseif pair[1] == \"Number_Elitism\"\n",
    "                Number_Elitism= parse(Int, pair[2])  \n",
    "            elseif pair[1] == \"Pads_Per_Subarray\"\n",
    "                Pads_Per_Subarray= map(x->(v = tryparse(Int,x); \n",
    "                        v==nothing ? 0.0 : v),split(pair[2],\",\"))\n",
    "            elseif pair[1] == \"Weights_Subarray\"\n",
    "                  Weight_Subarray= map(x->(v = tryparse(Float64,x);\n",
    "                        v==nothing ? 0.0 : v),split(pair[2],\",\"))  \n",
    "            elseif pair[1] == \"Subarray_Name\" \n",
    "                Subarray_Name= split(pair[2],\",\")\n",
    "            elseif pair[1] == \"Spatial_Resolution\"\n",
    "                Spatial_Resolution= map(x->(v = tryparse(Float64,x); \n",
    "                        v==nothing ? 0.0 : v),split(pair[2],\",\"))\n",
    "            elseif pair[1] == \"Maximum_Recoverable_Scale\"\n",
    "                Maximum_Recoverable_Scale= map(x->(v = tryparse(Float64,x); \n",
    "                        v==nothing ? 0.0 : v),split(pair[2],\",\"))       \n",
    "            elseif pair[1] == \"Elongation\"\n",
    "                Elongation= map(x->(v = tryparse(Float64,x);\n",
    "                        v==nothing ? 0.0 : v),split(pair[2],\",\"))\n",
    "            elseif pair[1] == \"Sidelobe_Level\"\n",
    "               Sidelobe_Level= map(x->(v = tryparse(Float64,x);\n",
    "                        v==nothing ? 0.0 : v),split(pair[2],\",\")) \n",
    "            elseif pair[1] == \"Weight_Spatial_Resolution\"\n",
    "                Weight_Spatial_Resolution= map(x->(v = tryparse(Float64,x);\n",
    "                        v==nothing ? 0.0 : v),split(pair[2],\",\"))\n",
    "            elseif pair[1] == \"Weight_Maximum_Recoverable_Scale\" \n",
    "                Weight_Maximum_Recoverable_Scale= map(x->(v = tryparse(Float64,x);\n",
    "                        v==nothing ? 0.0 : v),split(pair[2],\",\"))\n",
    "            elseif pair[1] == \"Weight_Elongation\" \n",
    "                Weight_Elongation= map(x->(v = tryparse(Float64,x);\n",
    "                        v==nothing ? 0.0 : v),split(pair[2],\",\"))\n",
    "            elseif pair[1] == \"Weight_Sidelobe_Levels\"\n",
    "                Weight_Sidelobe_Levels=map(x->(v = tryparse(Float64,x);\n",
    "                        v==nothing ? 0.0 : v),split(pair[2],\",\"))\n",
    "            end\n",
    "        end\n",
    "        \n",
    "        ###\n",
    "        println(typeof(Array_Configuration_File))\n",
    "        \n",
    "        arrcfg = CSV.read(convert(String,Array_Configuration_File), datarow=4 , header=[\"X\" , \"Y\", \"Z\" , \"diam\" , \"name\"] , delim= \" \")\n",
    "           \n",
    "        subrange = []\n",
    "        start= 1\n",
    "            for npad in Pads_Per_Subarray\n",
    "                push!(subrange,start:start+npad-1)\n",
    "                start= start+npad\n",
    "            end\n",
    "        \n",
    "        ### setting the struct.\n",
    "        \n",
    "        obs= _observation(Array_Configuration_File, Folder_Results, Display_Verbose, Observatory_Latitude , Source_Declination,Source_Hour_Angle,\n",
    "            Subarray_Number)\n",
    "        sub= _subarrayParameters(Pads_Per_Subarray, Subarray_Name , subrange, Spatial_Resolution,\n",
    "            Maximum_Recoverable_Scale , Elongation, Sidelobe_Level)\n",
    "        wei= _weight(Weight_Subarray,Weight_Spatial_Resolution,Weight_Maximum_Recoverable_Scale, \n",
    "            Weight_Elongation,Weight_Sidelobe_Levels)\n",
    "        ga= _GA(Number_Iterations , Population_Size,Termination_Condition ,Threshold ,\n",
    "            Mutation_Rate , Tournament_Size ,Number_Elitism)\n",
    "        \n",
    "        \n",
    "        ### population setting\n",
    "        pop =_cfg(arrcfg , obs , sub , wei , ga)\n",
    "        \n",
    "   return(pop)     \n",
    "end\n",
    "end\n",
    "\n"
   ]
  },
  {
   "cell_type": "code",
   "execution_count": 6,
   "metadata": {},
   "outputs": [
    {
     "data": {
      "text/plain": [
       "_read_cfg (generic function with 2 methods)"
      ]
     },
     "execution_count": 6,
     "metadata": {},
     "output_type": "execute_result"
    }
   ],
   "source": [
    "function _check_consistency(pop::_cfg)\n",
    "    nsubpads= sum(pop.sub.Pads_Per_Subarray)\n",
    "    npads= nrow(pop.arr)\n",
    "    if nsubpads != npads\n",
    "        error(\"##Error: Number of pads per subarray is not equal to the total of pads.\")\n",
    "    end\n",
    "    return(true)\n",
    "end\n",
    "\n",
    "## main function to read the cfg and check it.\n",
    "function _read_cfg(inpfile, verbose=true)\n",
    "    # res= _input_parameters(inpfile)\n",
    "    # inpcfg= _parse_input(res)\n",
    "    ## parameters inputs\n",
    "    res= _input_parameters(inpfile)\n",
    "    cfg= _parse_parameters(res)\n",
    "    if verbose\n",
    "        @printf(\"%3.3f\", cfg.obs.Source_Declination)\n",
    "    end\n",
    "    _check_consistency(cfg)\n",
    "    return(cfg)\n",
    "end\n"
   ]
  },
  {
   "cell_type": "code",
   "execution_count": 7,
   "metadata": {},
   "outputs": [
    {
     "ename": "LoadError",
     "evalue": "SystemError: opening file \"../master/data/GA_Parameters_O-1.txt.julia\": No such file or directory",
     "output_type": "error",
     "traceback": [
      "SystemError: opening file \"../master/data/GA_Parameters_O-1.txt.julia\": No such file or directory",
      "",
      "Stacktrace:",
      " [1] #systemerror#43(::Nothing, ::Function, ::String, ::Bool) at ./error.jl:134",
      " [2] systemerror at ./error.jl:134 [inlined]",
      " [3] #open#309(::Bool, ::Nothing, ::Nothing, ::Nothing, ::Nothing, ::Function, ::String) at ./iostream.jl:283",
      " [4] #open at ./none:0 [inlined]",
      " [5] open(::String, ::String) at ./iostream.jl:339",
      " [6] #open#310(::Base.Iterators.Pairs{Union{},Union{},Tuple{},NamedTuple{(),Tuple{}}}, ::Function, ::getfield(Main, Symbol(\"##3#4\")){Array{Any,1}}, ::String, ::Vararg{String,N} where N) at ./iostream.jl:367",
      " [7] open at ./iostream.jl:367 [inlined]",
      " [8] _input_parameters at ./In[3]:4 [inlined]",
      " [9] _read_cfg(::String, ::Bool) at ./In[6]:15 (repeats 2 times)",
      " [10] @main(::LineNumberNode, ::Module, ::Any) at ./In[7]:2"
     ]
    }
   ],
   "source": [
    "macro main(inpfile)\n",
    "    cfg= _read_cfg(inpfile)\n",
    "end\n",
    "\n",
    "@main(\"../master/data/GA_Parameters_O-1.txt.julia\")\n",
    "# @main(\"../master/data/GA_Parameters_O-10.txt.julia\")"
   ]
  }
 ],
 "metadata": {
  "kernelspec": {
   "display_name": "Julia 1.1.0",
   "language": "julia",
   "name": "julia-1.1"
  },
  "language_info": {
   "file_extension": ".jl",
   "mimetype": "application/julia",
   "name": "julia",
   "version": "1.1.0"
  }
 },
 "nbformat": 4,
 "nbformat_minor": 2
}
