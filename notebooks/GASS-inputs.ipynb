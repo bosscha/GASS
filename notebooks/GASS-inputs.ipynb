{
 "cells": [
  {
   "cell_type": "markdown",
   "metadata": {},
   "source": [
    "## Julia GASS\n",
    "\n",
    "Testing the GASS with Julia"
   ]
  },
  {
   "cell_type": "code",
   "execution_count": 8,
   "metadata": {},
   "outputs": [],
   "source": [
    "using PyCall\n",
    "using Distributions\n",
    "using Statistics\n",
    "\n",
    "using Distances , Random \n",
    "using DataFrames\n",
    "\n",
    "import CSV\n",
    "\n",
    "rootdir = \"/home/stephane/Science/ALMA/ArrayConfig/GASS\"\n",
    "\n",
    "#push!(LOAD_PATH,\"$rootdir/master/src\")\n",
    "#using GASS\n",
    "\n",
    "import PyPlot\n",
    "\n",
    "@pyimport astroquery.vizier as vizier\n",
    "@pyimport astropy.units as u\n",
    "@pyimport astropy.coordinates as coord\n",
    "\n",
    "## directory\n",
    "datadir = \"$rootdir/master/data\"\n",
    "wdir    = \"$rootdir/products\"\n",
    "plotdir = \"$rootdir/products/test\"\n",
    "\n",
    "cd(wdir)"
   ]
  },
  {
   "cell_type": "code",
   "execution_count": 9,
   "metadata": {},
   "outputs": [],
   "source": [
    "## Types ##\n",
    "\n",
    "struct _inputCfg\n",
    "    file_parameters::String\n",
    "    folder_results::String\n",
    "    verbose::Bool\n",
    "end\n",
    "\n",
    "struct _observation\n",
    "    Array_Configuration_File::String\n",
    "    Observatory_Latitude::Float64\n",
    "    Source_Declination::Float64\n",
    "    Source_Hour_Angle::Float64\n",
    "    Subarray_Number::Int\n",
    "end\n",
    "\n",
    "struct _subarrayParameters\n",
    "        Pads_Per_Subarray::Vector{Int}\n",
    "        Subarray_Name::Vector{String}\n",
    "        Subrange::Array{UnitRange{Int64},1}\n",
    "        Spatial_Resolution::Vector{Float64}\n",
    "        Maximum_Recoverable_Scale::Vector{Float64}\n",
    "        Elongation::Vector{Float64}\n",
    "        Sidelobe_Level::Vector{Float64}\n",
    "end\n",
    "\n",
    "struct _weight\n",
    "    Weight_Subarray::Vector{Float64}\n",
    "    Weight_Spatial_Resolution::Vector{Float64}\n",
    "    Weight_Maximum_Recoverable_Scale::Vector{Float64}\n",
    "    Weight_Elongation::Vector{Float64}                  \n",
    "    Weight_Sidelobe_Levels::Vector{Float64}\n",
    "end\n",
    "\n",
    "struct _GA\n",
    "    Number_Iterations::Int\n",
    "    Population_Size::Int\n",
    "    Termination_Condition::Bool\n",
    "    Threshold::Float64\n",
    "    Mutation_Rate::Float64\n",
    "    Tournament_Size::Int\n",
    "    Number_Elitism::Int\n",
    "end\n",
    "\n",
    "struct _cfg\n",
    "    arr::AbstractDataFrame \n",
    "    obs::_observation\n",
    "    sub::_subarrayParameters\n",
    "    wei::_weight\n",
    "    ga::_GA\n",
    "    inp::_inputCfg\n",
    "end"
   ]
  },
  {
   "cell_type": "code",
   "execution_count": 10,
   "metadata": {},
   "outputs": [
    {
     "data": {
      "text/plain": [
       "_input_parameters (generic function with 1 method)"
      ]
     },
     "execution_count": 10,
     "metadata": {},
     "output_type": "execute_result"
    }
   ],
   "source": [
    "function _input_parameters(file)\n",
    "    let\n",
    "        param = []\n",
    "        open(file,\"r\") do f\n",
    "            for line in eachline(f)\n",
    "                l = lstrip(line)\n",
    "                if length(l) > 0 && l[1] != '#'\n",
    "                    res = strip.(split(l,\":\"))\n",
    "                    push!(param,res)\n",
    "                end\n",
    "            end\n",
    "        end\n",
    "        return(param)\n",
    "    end\n",
    "end"
   ]
  },
  {
   "cell_type": "code",
   "execution_count": 11,
   "metadata": {},
   "outputs": [
    {
     "data": {
      "text/plain": [
       "_parse_input (generic function with 1 method)"
      ]
     },
     "execution_count": 11,
     "metadata": {},
     "output_type": "execute_result"
    }
   ],
   "source": [
    "## parse input file\n",
    "\n",
    "function _parse_input(input_param)\n",
    "    let\n",
    "        fileParam= \"default.cfg\" \n",
    "        saveFold=  \"Results/\"\n",
    "        verbose= true\n",
    "        \n",
    "        for pair in input_param\n",
    "            if pair[1] == \"File_Parameters\"\n",
    "                fileParam = pair[2]\n",
    "            elseif pair[1] == \"Folder_Results\"\n",
    "                saveFold= pair[2]\n",
    "            elseif pair[1] == \"Display_Screen_Results\" && pair[2] == \"false\"\n",
    "                verbose= false\n",
    "            end\n",
    "        end\n",
    "        res= _inputCfg(fileParam , saveFold , verbose)\n",
    "        return(res)    \n",
    "    end\n",
    "end"
   ]
  },
  {
   "cell_type": "code",
   "execution_count": 12,
   "metadata": {},
   "outputs": [
    {
     "data": {
      "text/plain": [
       "_parse_parameters (generic function with 1 method)"
      ]
     },
     "execution_count": 12,
     "metadata": {},
     "output_type": "execute_result"
    }
   ],
   "source": [
    "## parse parameter file for the subarray constraints\n",
    "\n",
    "function _parse_parameters(input_param , inpcfg)\n",
    "    let\n",
    "        arraycfg= 0 \n",
    "        obs= 0\n",
    "        sub= 0\n",
    "        wei= 0\n",
    "        ga= 0\n",
    "        \n",
    "        Array_Configuration_File= \"alma.cfg\"\n",
    "        Observatory_Latitude= -23.0262015\n",
    "        Source_Declination= -30\n",
    "        Source_Hour_Angle = -1 \n",
    "        Subarray_Number= 4\n",
    "        \n",
    "        ## array of nsubarray elements\n",
    "        Pads_Per_Subarray= []\n",
    "        Weight_Subarray= []\n",
    "        Subarray_Name= [] \n",
    "        Spatial_Resolution= []\n",
    "        Maximum_Recoverable_Scale=\n",
    "        Elongation= []\n",
    "        Sidelobe_Level= []\n",
    "        Weight_Spatial_Resolution= []\n",
    "        Weight_Maximum_Recoverable_Scale= [] \n",
    "        Weight_Elongation= []                    \n",
    "        Weight_Sidelobe_Levels= []\n",
    "        \n",
    "        ## GA parameters\n",
    "        Number_Iterations = 100\n",
    "        Population_Size= 100\n",
    "        Termination_Condition= false\n",
    "        Threshold= -0.05\n",
    "        Mutation_Rate= 0.05\n",
    "        Tournament_Size= 5\n",
    "        Number_Elitism= 5\n",
    "        \n",
    "        for pair in input_param\n",
    "            if pair[1] == \"Array_Configuration_File\"\n",
    "                Array_Configuration_File= pair[2]\n",
    "            elseif pair[1] == \"Observatory_Latitude\"\n",
    "                Observatory_Latitude= parse(Float64, pair[2])    \n",
    "            elseif pair[1] == \"Source_Declination\"\n",
    "                Source_Declination= parse(Float64, pair[2])\n",
    "            elseif pair[1] == \"Source_Hour_Angle\"\n",
    "                Source_Hour_Angle= parse(Float64, pair[2])\n",
    "            elseif pair[1] == Subarray_Number\n",
    "                Subarray_Number= parse(Int, pair[2])\n",
    "            elseif pair[1] == \"Number_Iterations\"\n",
    "                Number_Iterations= parse(Int, pair[2])\n",
    "            elseif pair[1] == \"Population_Size\"\n",
    "                Population_Size= parse(Int, pair[2])\n",
    "            elseif pair[1] == \"Termination_Condition\"\n",
    "                Termination_Condition= pair[2]==\"true\" ? true : false\n",
    "            elseif pair[1] == \"Threshold\"\n",
    "                Threshold=parse(Float64, pair[2]) \n",
    "            elseif pair[1] == \"Mutation_Rate\"\n",
    "                Mutation_Rate=parse(Float64, pair[2])\n",
    "            elseif pair[1] == \"Tournament_Size\"\n",
    "                Tournament_Size= parse(Int, pair[2])\n",
    "            elseif pair[1] == \"Number_Elitism\"\n",
    "                Number_Elitism= parse(Int, pair[2])  \n",
    "            elseif pair[1] == \"Pads_Per_Subarray\"\n",
    "                Pads_Per_Subarray= map(x->(v = tryparse(Int,x); \n",
    "                        v==nothing ? 0.0 : v),split(pair[2],\",\"))\n",
    "            elseif pair[1] == \"Weights_Subarray\"\n",
    "                  Weight_Subarray= map(x->(v = tryparse(Float64,x);\n",
    "                        v==nothing ? 0.0 : v),split(pair[2],\",\"))  \n",
    "            elseif pair[1] == \"Subarray_Name\" \n",
    "                Subarray_Name= split(pair[2],\",\")\n",
    "            elseif pair[1] == \"Spatial_Resolution\"\n",
    "                Spatial_Resolution= map(x->(v = tryparse(Float64,x); \n",
    "                        v==nothing ? 0.0 : v),split(pair[2],\",\"))\n",
    "            elseif pair[1] == \"Maximum_Recoverable_Scale\"\n",
    "                Maximum_Recoverable_Scale= map(x->(v = tryparse(Float64,x); \n",
    "                        v==nothing ? 0.0 : v),split(pair[2],\",\"))       \n",
    "            elseif pair[1] == \"Elongation\"\n",
    "                Elongation= map(x->(v = tryparse(Float64,x);\n",
    "                        v==nothing ? 0.0 : v),split(pair[2],\",\"))\n",
    "            elseif pair[1] == \"Sidelobe_Level\"\n",
    "               Sidelobe_Level= map(x->(v = tryparse(Float64,x);\n",
    "                        v==nothing ? 0.0 : v),split(pair[2],\",\")) \n",
    "            elseif pair[1] == \"Weight_Spatial_Resolution\"\n",
    "                Weight_Spatial_Resolution= map(x->(v = tryparse(Float64,x);\n",
    "                        v==nothing ? 0.0 : v),split(pair[2],\",\"))\n",
    "            elseif pair[1] == \"Weight_Maximum_Recoverable_Scale\" \n",
    "                Weight_Maximum_Recoverable_Scale= map(x->(v = tryparse(Float64,x);\n",
    "                        v==nothing ? 0.0 : v),split(pair[2],\",\"))\n",
    "            elseif pair[1] == \"Weight_Elongation\" \n",
    "                Weight_Elongation= map(x->(v = tryparse(Float64,x);\n",
    "                        v==nothing ? 0.0 : v),split(pair[2],\",\"))\n",
    "            elseif pair[1] == \"Weight_Sidelobe_Levels\"\n",
    "                Weight_Sidelobe_Levels=map(x->(v = tryparse(Float64,x);\n",
    "                        v==nothing ? 0.0 : v),split(pair[2],\",\"))\n",
    "            end\n",
    "        end\n",
    "        \n",
    "        ###\n",
    "        println(typeof(Array_Configuration_File))\n",
    "        \n",
    "        arrcfg = CSV.read(convert(String,Array_Configuration_File), datarow=4 , header=[\"X\" , \"Y\", \"Z\" , \"diam\" , \"name\"] , delim= \" \")\n",
    "           \n",
    "        subrange = []\n",
    "        start= 1\n",
    "            for npad in Pads_Per_Subarray\n",
    "                push!(subrange,start:start+npad-1)\n",
    "                start= start+npad\n",
    "            end\n",
    "        \n",
    "        ### setting the struct.\n",
    "        obs= _observation(Array_Configuration_File, Observatory_Latitude , Source_Declination,Source_Hour_Angle,\n",
    "            Subarray_Number)\n",
    "        sub= _subarrayParameters(Pads_Per_Subarray, Subarray_Name , subrange, Spatial_Resolution,\n",
    "            Maximum_Recoverable_Scale , Elongation, Sidelobe_Level)\n",
    "        wei= _weight(Weight_Subarray,Weight_Spatial_Resolution,Weight_Maximum_Recoverable_Scale, \n",
    "            Weight_Elongation,Weight_Sidelobe_Levels)\n",
    "        ga= _GA(Number_Iterations , Population_Size,Termination_Condition ,Threshold ,\n",
    "            Mutation_Rate , Tournament_Size ,Number_Elitism)\n",
    "        \n",
    "        \n",
    "        ### population setting\n",
    "        pop =_cfg(arrcfg , obs , sub , wei , ga , inpcfg)\n",
    "        \n",
    "   return(pop)     \n",
    "end\n",
    "end\n",
    "\n"
   ]
  },
  {
   "cell_type": "code",
   "execution_count": 13,
   "metadata": {},
   "outputs": [
    {
     "data": {
      "text/plain": [
       "_read_cfg (generic function with 1 method)"
      ]
     },
     "execution_count": 13,
     "metadata": {},
     "output_type": "execute_result"
    }
   ],
   "source": [
    "function _check_consistency(pop::_cfg)\n",
    "    nsubpads= sum(pop.sub.Pads_Per_Subarray)\n",
    "    npads= nrow(pop.arr)\n",
    "    if nsubpads != npads\n",
    "        error(\"##Error: Number of pads per subarray is not equal to the total of pads.\")\n",
    "    end\n",
    "    return(true)\n",
    "end\n",
    "\n",
    "## main function to read the cfg and check it.\n",
    "function _read_cfg(inpfile)\n",
    "    res= _input_parameters(inpfile)\n",
    "    inpcfg= _parse_input(res)\n",
    "    ## parameters inputs\n",
    "    res= _input_parameters(inpcfg.file_parameters)\n",
    "    cfg= _parse_parameters(res, inpcfg)\n",
    "    _check_consistency(cfg)\n",
    "    return(cfg)\n",
    "end\n"
   ]
  },
  {
   "cell_type": "code",
   "execution_count": 14,
   "metadata": {},
   "outputs": [
    {
     "name": "stdout",
     "output_type": "stream",
     "text": [
      "SubString{String}\n"
     ]
    },
    {
     "data": {
      "text/plain": [
       "_cfg(50×5 DataFrame\n",
       "│ Row │ X        │ Y        │ Z         │ diam     │ name    │\n",
       "│     │ \u001b[90mFloat64⍰\u001b[39m │ \u001b[90mFloat64⍰\u001b[39m │ \u001b[90mFloat64⍰\u001b[39m  │ \u001b[90mFloat64⍰\u001b[39m │ \u001b[90mString⍰\u001b[39m │\n",
       "├─────┼──────────┼──────────┼───────────┼──────────┼─────────┤\n",
       "│ 1   │ -33.8941 │ -712.752 │ -2.33009  │ 12.0     │ A001    │\n",
       "│ 2   │ -22.5589 │ -691.984 │ -2.32374  │ 12.0     │ A003    │\n",
       "│ 3   │ -9.8351  │ -663.827 │ -2.7227   │ 12.0     │ A009    │\n",
       "│ 4   │ 10.7399  │ -659.567 │ -2.72626  │ 12.0     │ A015    │\n",
       "│ 5   │ -20.6204 │ -633.907 │ -2.52767  │ 12.0     │ A016    │\n",
       "│ 6   │ -41.2393 │ -725.978 │ -2.33663  │ 12.0     │ A018    │\n",
       "│ 7   │ -61.0568 │ -722.793 │ -1.93443  │ 12.0     │ A020    │\n",
       "│ 8   │ -86.8729 │ -732.262 │ -1.92881  │ 12.0     │ A026    │\n",
       "│ 9   │ -103.296 │ -719.779 │ -1.93063  │ 12.0     │ A032    │\n",
       "│ 10  │ -105.439 │ -755.003 │ -1.64075  │ 12.0     │ A033    │\n",
       "⋮\n",
       "│ 40  │ -320.565 │ -763.861 │ 2.92101   │ 12.0     │ A086    │\n",
       "│ 41  │ 210.998  │ -883.466 │ -6.96694  │ 12.0     │ A087    │\n",
       "│ 42  │ -71.1672 │ -427.394 │ -0.557779 │ 12.0     │ A088    │\n",
       "│ 43  │ -115.706 │ -1075.44 │ 6.89189   │ 12.0     │ A089    │\n",
       "│ 44  │ 278.417  │ -571.571 │ -11.9458  │ 12.0     │ A090    │\n",
       "│ 45  │ -370.974 │ -604.124 │ -0.592511 │ 12.0     │ A091    │\n",
       "│ 46  │ 159.506  │ -1067.09 │ -1.91465  │ 12.0     │ A092    │\n",
       "│ 47  │ 28.8995  │ -305.417 │ -2.93441  │ 12.0     │ A093    │\n",
       "│ 48  │ -322.525 │ -1004.13 │ -3.52353  │ 12.0     │ A094    │\n",
       "│ 49  │ 427.013  │ -741.484 │ -12.8576  │ 12.0     │ A095    │\n",
       "│ 50  │ -405.236 │ -342.144 │ -1.63107  │ 12.0     │ A096    │, _observation(\"../master/data/O-10.cfg\", -23.0262015, -50.0, -1.0, 4), _subarrayParameters([30, 10, 7, 3], [\"Sub_1\", \" Sub_2 \", \" Sub_3 \", \" Sub_4\"], UnitRange{Int64}[1:30, 31:40, 41:47, 48:50], [2.3, 3.0, 3.5, 3.5], [20.0, 20.0, 10.0, 10.0], [1.2, 1.3, 2.0, 3.0], [10.0, 20.0, 60.0, 60.0]), _weight([0.25, 0.25, 0.25, 0.25], [0.25, 0.25, 0.25, 0.25], [0.25, 0.25, 0.25, 0.25], [0.25, 0.25, 0.25, 0.25], [0.25, 0.25, 0.25, 0.25]), _GA(100, 150, false, -0.05, 0.05, 5, 5), _inputCfg(\"../master/data/GA_Parameters_O-10.txt.julia\", \"/home/stephane/Science/ALMA/ArrayConfig/GASS/products/results\", true))"
      ]
     },
     "execution_count": 14,
     "metadata": {},
     "output_type": "execute_result"
    }
   ],
   "source": [
    "macro main(inpfile)\n",
    "    cfg= _read_cfg(inpfile)\n",
    "end\n",
    "\n",
    "@main(\"../master/data/GA_Inputs_O-10.txt.julia\")\n",
    "# @main(\"../master/data/GA_Parameters_O-10.txt.julia\")"
   ]
  }
 ],
 "metadata": {
  "kernelspec": {
   "display_name": "Julia 1.0.1",
   "language": "julia",
   "name": "julia-1.0"
  },
  "language_info": {
   "file_extension": ".jl",
   "mimetype": "application/julia",
   "name": "julia",
   "version": "1.0.1"
  }
 },
 "nbformat": 4,
 "nbformat_minor": 2
}
