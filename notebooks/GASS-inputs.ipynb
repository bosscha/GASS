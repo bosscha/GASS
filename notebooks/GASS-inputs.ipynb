{
 "cells": [
  {
   "cell_type": "markdown",
   "metadata": {},
   "source": [
    "## Julia GASS\n",
    "\n",
    "Testing the GASS with Julia"
   ]
  },
  {
   "cell_type": "code",
   "execution_count": 1,
   "metadata": {},
   "outputs": [],
   "source": [
    "using PyCall\n",
    "using Distributions\n",
    "using Statistics\n",
    "\n",
    "using Distances , Random \n",
    "using AstroLib\n",
    "\n",
    "import CSV\n",
    "\n",
    "rootdir = \"/home/stephane/Science/ALMA/ArrayConfig/GASS\"\n",
    "\n",
    "#push!(LOAD_PATH,\"$rootdir/master/src\")\n",
    "#using GASS\n",
    "\n",
    "import PyPlot\n",
    "\n",
    "@pyimport astroquery.vizier as vizier\n",
    "@pyimport astropy.units as u\n",
    "@pyimport astropy.coordinates as coord\n",
    "\n",
    "## directory\n",
    "datadir = \"$rootdir/master/data\"\n",
    "wdir    = \"$rootdir/products\"\n",
    "plotdir = \"$rootdir/products/test\"\n",
    "\n",
    "cd(wdir)"
   ]
  },
  {
   "cell_type": "code",
   "execution_count": 2,
   "metadata": {},
   "outputs": [],
   "source": [
    "## Types ##\n",
    "\n",
    "struct inputCfg\n",
    "    file_parameters::String\n",
    "    folder_results::String\n",
    "    verbose::Bool\n",
    "end\n",
    "\n",
    "struct observation\n",
    "    Array_Configuration_File::String\n",
    "    Observatory_Latitude::Float64\n",
    "    Source_Declination::Float64\n",
    "    Source_Hour_Angle::Float64\n",
    "    Subarray_Number::Int\n",
    "end\n",
    "\n",
    "struct subarrayParameters\n",
    "        Pads_Per_Subarray::Vector{Int}\n",
    "        Subarray_Name::Vector{String}\n",
    "        Spatial_Resolution::Vector{Float64}\n",
    "        Maximum_Recoverable_Scale::Vector{Float64}\n",
    "        Elongation::Vector{Float64}\n",
    "        Sidelobe_Level::Vector{Float64}\n",
    "end\n",
    "\n",
    "struct weight\n",
    "    Weight_Subarray::Vector{Float64}\n",
    "    Weight_Spatial_Resolution::Vector{Float64}\n",
    "    Weight_Maximum_Recoverable_Scale::Vector{Float64}\n",
    "    Weight_Elongation::Vector{Float64}                  \n",
    "    Weight_Sidelobe_Levels::Vector{Float64}\n",
    "end\n",
    "\n",
    "struct GA\n",
    "    Number_Iterations::Int\n",
    "    Population_Size::Int\n",
    "    Termination_Condition::Bool\n",
    "    Threshold::Float64\n",
    "    Mutation_Rate::Float64\n",
    "    Tournament_Size::Int\n",
    "    Number_Elitism::Int\n",
    "end"
   ]
  },
  {
   "cell_type": "code",
   "execution_count": 3,
   "metadata": {},
   "outputs": [
    {
     "data": {
      "text/plain": [
       "input_parameters (generic function with 1 method)"
      ]
     },
     "execution_count": 3,
     "metadata": {},
     "output_type": "execute_result"
    }
   ],
   "source": [
    "function input_parameters(file)\n",
    "    let\n",
    "        param = []\n",
    "        open(file,\"r\") do f\n",
    "            for line in eachline(f)\n",
    "                l = lstrip(line)\n",
    "                if length(l) > 0 && l[1] != '#'\n",
    "                    res = strip.(split(l,\":\"))\n",
    "                    push!(param,res)\n",
    "                end\n",
    "            end\n",
    "        end\n",
    "        return(param)\n",
    "    end\n",
    "end"
   ]
  },
  {
   "cell_type": "code",
   "execution_count": 4,
   "metadata": {},
   "outputs": [
    {
     "data": {
      "text/plain": [
       "parse_input (generic function with 1 method)"
      ]
     },
     "execution_count": 4,
     "metadata": {},
     "output_type": "execute_result"
    }
   ],
   "source": [
    "## parse input file\n",
    "\n",
    "function parse_input(input_param)\n",
    "    let\n",
    "        fileParam= \"default.cfg\" \n",
    "        saveFold=  \"Results/\"\n",
    "        verbose= true\n",
    "        \n",
    "        for pair in input_param\n",
    "            if pair[1] == \"File_Parameters\"\n",
    "                fileParam = pair[2]\n",
    "            elseif pair[1] == \"Folder_Results\"\n",
    "                saveFold= pair[2]\n",
    "            elseif pair[1] == \"Display_Screen_Results\" && pair[2] == \"false\"\n",
    "                verbose= false\n",
    "            end\n",
    "        end\n",
    "        res= inputCfg(fileParam , saveFold , verbose)\n",
    "        return(res)    \n",
    "    end\n",
    "end"
   ]
  },
  {
   "cell_type": "code",
   "execution_count": 5,
   "metadata": {},
   "outputs": [
    {
     "data": {
      "text/plain": [
       "parse_parameters (generic function with 1 method)"
      ]
     },
     "execution_count": 5,
     "metadata": {},
     "output_type": "execute_result"
    }
   ],
   "source": [
    "## parse parameter file for the subarray constraints\n",
    "\n",
    "function parse_parameters(input_param)\n",
    "    let\n",
    "        obs= 0\n",
    "        sub= 0\n",
    "        wei= 0\n",
    "        ga= 0\n",
    "        \n",
    "        Array_Configuration_File= \"alma.cfg\"\n",
    "        Observatory_Latitude= -23.0262015\n",
    "        Source_Declination= -30\n",
    "        Source_Hour_Angle = -1 \n",
    "        Subarray_Number= 4\n",
    "        \n",
    "        ## array of nsubarray elements\n",
    "        Pads_Per_Subarray= []\n",
    "        Weight_Subarray= []\n",
    "        Subarray_Name= [] \n",
    "        Spatial_Resolution= []\n",
    "        Maximum_Recoverable_Scale=\n",
    "        Elongation= []\n",
    "        Sidelobe_Level= []\n",
    "        Weight_Spatial_Resolution= []\n",
    "        Weight_Maximum_Recoverable_Scale= [] \n",
    "        Weight_Elongation= []                    \n",
    "        Weight_Sidelobe_Levels= []\n",
    "        \n",
    "        ## GA parameters\n",
    "        Number_Iterations = 100\n",
    "        Population_Size= 100\n",
    "        Termination_Condition= false\n",
    "        Threshold= -0.05\n",
    "        Mutation_Rate= 0.05\n",
    "        Tournament_Size= 5\n",
    "        Number_Elitism= 5\n",
    "        \n",
    "        for pair in input_param\n",
    "            if pair[1] == \"Array_Configuration_File\"\n",
    "                Array_Configuration_File= pair[2]\n",
    "            elseif pair[1] == \"Observatory_Latitude\"\n",
    "                Observatory_Latitude= parse(Float64, pair[2])    \n",
    "            elseif pair[1] == \"Source_Declination\"\n",
    "                Source_Declination= parse(Float64, pair[2])\n",
    "            elseif pair[1] == \"Source_Hour_Angle\"\n",
    "                Source_Hour_Angle= parse(Float64, pair[2])\n",
    "            elseif pair[1] == Subarray_Number\n",
    "                Subarray_Number= parse(Int, pair[2])\n",
    "            elseif pair[1] == \"Number_Iterations\"\n",
    "                Number_Iterations= parse(Int, pair[2])\n",
    "            elseif pair[1] == \"Population_Size\"\n",
    "                Population_Size= parse(Int, pair[2])\n",
    "            elseif pair[1] == \"Termination_Condition\"\n",
    "                Termination_Condition= pair[2]==\"true\" ? true : false\n",
    "            elseif pair[1] == \"Threshold\"\n",
    "                Threshold=parse(Float64, pair[2]) \n",
    "            elseif pair[1] == \"Mutation_Rate\"\n",
    "                Mutation_Rate=parse(Float64, pair[2])\n",
    "            elseif pair[1] == \"Tournament_Size\"\n",
    "                Tournament_Size= parse(Int, pair[2])\n",
    "            elseif pair[1] == \"Number_Elitism\"\n",
    "                Number_Elitism= parse(Int, pair[2])  \n",
    "            elseif pair[1] == \"Pads_Per_Subarray\"\n",
    "                Pads_Per_Subarray= map(x->(v = tryparse(Int,x); \n",
    "                        v==nothing ? 0.0 : v),split(pair[2],\",\"))\n",
    "            elseif pair[1] == \"Weights_Subarray\"\n",
    "                  Weight_Subarray= map(x->(v = tryparse(Float64,x);\n",
    "                        v==nothing ? 0.0 : v),split(pair[2],\",\"))  \n",
    "            elseif pair[1] == \"Subarray_Name\" \n",
    "                Subarray_Name= split(pair[2],\",\")\n",
    "            elseif pair[1] == \"Spatial_Resolution\"\n",
    "                Spatial_Resolution= map(x->(v = tryparse(Float64,x); \n",
    "                        v==nothing ? 0.0 : v),split(pair[2],\",\"))\n",
    "            elseif pair[1] == \"Maximum_Recoverable_Scale\"\n",
    "                Maximum_Recoverable_Scale= map(x->(v = tryparse(Float64,x); \n",
    "                        v==nothing ? 0.0 : v),split(pair[2],\",\"))       \n",
    "            elseif pair[1] == \"Elongation\"\n",
    "                Elongation= map(x->(v = tryparse(Float64,x);\n",
    "                        v==nothing ? 0.0 : v),split(pair[2],\",\"))\n",
    "            elseif pair[1] == \"Sidelobe_Level\"\n",
    "               Sidelobe_Level= map(x->(v = tryparse(Float64,x);\n",
    "                        v==nothing ? 0.0 : v),split(pair[2],\",\")) \n",
    "            elseif pair[1] == \"Weight_Spatial_Resolution\"\n",
    "                Weight_Spatial_Resolution= map(x->(v = tryparse(Float64,x);\n",
    "                        v==nothing ? 0.0 : v),split(pair[2],\",\"))\n",
    "            elseif pair[1] == \"Weight_Maximum_Recoverable_Scale\" \n",
    "                Weight_Maximum_Recoverable_Scale= map(x->(v = tryparse(Float64,x);\n",
    "                        v==nothing ? 0.0 : v),split(pair[2],\",\"))\n",
    "            elseif pair[1] == \"Weight_Elongation\" \n",
    "                Weight_Elongation= map(x->(v = tryparse(Float64,x);\n",
    "                        v==nothing ? 0.0 : v),split(pair[2],\",\"))\n",
    "            elseif pair[1] == \"Weight_Sidelobe_Levels\"\n",
    "                Weight_Sidelobe_Levels=map(x->(v = tryparse(Float64,x);\n",
    "                        v==nothing ? 0.0 : v),split(pair[2],\",\"))\n",
    "            end\n",
    "        end\n",
    "        ### setting the struct.\n",
    "        obs= observation(Array_Configuration_File, Observatory_Latitude , Source_Declination,Source_Hour_Angle,\n",
    "            Subarray_Number)\n",
    "        sub= subarrayParameters(Pads_Per_Subarray, Subarray_Name , Spatial_Resolution,\n",
    "            Maximum_Recoverable_Scale , Elongation, Sidelobe_Level)\n",
    "        wei= weight(Weight_Subarray,Weight_Spatial_Resolution,Weight_Maximum_Recoverable_Scale, \n",
    "            Weight_Elongation,Weight_Sidelobe_Levels)\n",
    "        ga= GA(Number_Iterations , Population_Size,Termination_Condition ,Threshold ,\n",
    "            Mutation_Rate , Tournament_Size ,Number_Elitism)\n",
    "        \n",
    "   return(obs, sub , wei , ga)     \n",
    "end\n",
    "end\n",
    "\n"
   ]
  },
  {
   "cell_type": "code",
   "execution_count": 6,
   "metadata": {},
   "outputs": [
    {
     "name": "stdout",
     "output_type": "stream",
     "text": [
      "inputCfg(\"../master/data/GA_Parameters_O-10.txt.julia\", \"/home/stephane/Science/ALMA/ArrayConfig/GASS/products/results\", true)\n",
      "(observation(\"../master/data/O-10.cfg\", -23.0262015, -50.0, -1.0, 4), subarrayParameters([30, 10, 7, 3], [\"Sub_1\", \" Sub_2 \", \" Sub_3 \", \" Sub_4\"], [2.3, 3.0, 3.5, 3.5], [20.0, 20.0, 10.0, 10.0], [1.2, 1.3, 2.0, 3.0], [10.0, 20.0, 60.0, 60.0]), weight([0.25, 0.25, 0.25, 0.25], [0.25, 0.25, 0.25, 0.25], [0.25, 0.25, 0.25, 0.25], [0.25, 0.25, 0.25, 0.25], [0.25, 0.25, 0.25, 0.25]), GA(100, 150, false, -0.05, 0.05, 5, 5))\n"
     ]
    }
   ],
   "source": [
    "macro main(inpfile)\n",
    "    res= input_parameters(inpfile)\n",
    "    inpcfg= parse_input(res)\n",
    "    println(inpcfg)\n",
    "    \n",
    "    ## parameters inputs\n",
    "    res= input_parameters(inpcfg.file_parameters)\n",
    "    paramcfg= parse_parameters(res)\n",
    "    println(paramcfg)\n",
    "end\n",
    "\n",
    "@main(\"../master/data/GA_Inputs_O-10.txt.julia\")\n",
    "# @main(\"../master/data/GA_Parameters_O-10.txt.julia\")"
   ]
  }
 ],
 "metadata": {
  "kernelspec": {
   "display_name": "Julia 1.0.1",
   "language": "julia",
   "name": "julia-1.0"
  },
  "language_info": {
   "file_extension": ".jl",
   "mimetype": "application/julia",
   "name": "julia",
   "version": "1.0.1"
  }
 },
 "nbformat": 4,
 "nbformat_minor": 2
}
