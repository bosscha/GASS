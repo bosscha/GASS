{
 "cells": [
  {
   "cell_type": "markdown",
   "metadata": {},
   "source": [
    "## Julia GASS\n",
    "\n",
    "Testing the GASS with Julia"
   ]
  },
  {
   "cell_type": "code",
   "execution_count": 99,
   "metadata": {},
   "outputs": [],
   "source": [
    "using PyCall\n",
    "using Distributions\n",
    "using Statistics\n",
    "\n",
    "using Distances , Random \n",
    "using AstroLib\n",
    "\n",
    "import CSV\n",
    "\n",
    "rootdir = \"/home/stephane/Science/ALMA/ArrayConfig/GASS\"\n",
    "\n",
    "push!(LOAD_PATH,\"$rootdir/master/GA_Subarray_Optimization/GA_Subarray_Selection/JuliaCode\")\n",
    "using GASS\n",
    "\n",
    "import PyPlot\n",
    "\n",
    "@pyimport astroquery.vizier as vizier\n",
    "@pyimport astropy.units as u\n",
    "@pyimport astropy.coordinates as coord\n",
    "\n",
    "## directory\n",
    "wdir    = \"$rootdir/products\"\n",
    "plotdir = \"$rootdir/products/test\"\n",
    "\n",
    "cd(wdir)"
   ]
  },
  {
   "cell_type": "code",
   "execution_count": 100,
   "metadata": {},
   "outputs": [
    {
     "data": {
      "text/plain": [
       "input_parameters (generic function with 1 method)"
      ]
     },
     "execution_count": 100,
     "metadata": {},
     "output_type": "execute_result"
    }
   ],
   "source": [
    "function input_parameters(file)\n",
    "    open(file,\"r\") do f\n",
    "        for line in eachline(f)\n",
    "            l = lstrip(line)\n",
    "            if length(l) > 0 && l[1] != '#'\n",
    "                res = strip.(split(l,\":\"))\n",
    "                println(res)\n",
    "            end\n",
    "        end\n",
    "    end\n",
    "end"
   ]
  },
  {
   "cell_type": "code",
   "execution_count": 101,
   "metadata": {},
   "outputs": [
    {
     "name": "stdout",
     "output_type": "stream",
     "text": [
      "SubString{String}[\"File_Parameters\", \"/home/stephane/Science/ALMA/ArrayConfig/GASS/products/Input_Files/GA_Parameters_O-10.txt\"]\n",
      "SubString{String}[\"Display_Screen_Results\", \"True\"]\n",
      "SubString{String}[\"Save_Folder_Results\", \"True\"]\n",
      "SubString{String}[\"Launch_CASA_Simulation\", \"False\"]\n",
      "SubString{String}[\"Display_Figure_Score_Evolution\", \"False\"]\n",
      "SubString{String}[\"Configuration_Input_File\", \"/home/stephane/Science/ALMA/ArrayConfig/GASS/products/Input_Files/O-10.cfg\"]\n",
      "SubString{String}[\"Source_Declination\", \"-50\"]\n",
      "SubString{String}[\"Source_Hour_Angle\", \"-1\"]\n",
      "SubString{String}[\"Number_of_Subarrays\", \"4\"]\n",
      "SubString{String}[\"Number_of_Pads_per_Subarray\", \"30,10,7,3\"]\n",
      "SubString{String}[\"Weights_for_Subarrays\", \"0.25,0.25,0.25,0.25\"]\n",
      "SubString{String}[\"Subarray\", \"Sub_1, Sub_2 , Sub_3 , Sub_4\"]\n",
      "SubString{String}[\"Spatial_Resolution\", \"2.3 , 3.0 , 3.5 , 3.5\"]\n",
      "SubString{String}[\"Maximum_Recoverable_Scale\", \"20 , 20 , 10 , 10.0\"]\n",
      "SubString{String}[\"Elongation\", \"1.2 , 1.3 , 2.0 , 3.0\"]\n",
      "SubString{String}[\"Percentage_of_Sidelobes\", \"10 , 20 , 60 , 60\"]\n",
      "SubString{String}[\"Weight_for_Spatial_Resolution\", \"0.25 , 0.25 ,  0.25 , 0.25\"]\n",
      "SubString{String}[\"Weight_for_Maximum_Recoverable_Scale\", \"0.25 , 0.25 , 0.25 , 0.25\"]\n",
      "SubString{String}[\"Weight_for_Elongation\", \"0.25 , 0.25 , 0.25 , 0.25\"]\n",
      "SubString{String}[\"Weight_for_Percentage_of_Sidelobes\", \"0.25 , 0.25 , 0.25 , 0.25\"]\n",
      "SubString{String}[\"Number_of_Iterations\", \"100\"]\n",
      "SubString{String}[\"Population_Size\", \"100\"]\n",
      "SubString{String}[\"Termination_Condition\", \"False\"]\n",
      "SubString{String}[\"Threshold\", \"-0.05\"]\n",
      "SubString{String}[\"Mutation_Rate\", \"0.05\"]\n",
      "SubString{String}[\"Tournament_Size\", \"5\"]\n",
      "SubString{String}[\"Number_for_Elitism\", \"5\"]\n"
     ]
    }
   ],
   "source": [
    "macro main(file)\n",
    "    res = input_parameters(file)\n",
    "end\n",
    "\n",
    "@main(\"Input_Files/GA_Inputs_O-10.txt.julia\")\n",
    "@main(\"Input_Files/GA_Parameters_O-10.txt.julia\")"
   ]
  }
 ],
 "metadata": {
  "kernelspec": {
   "display_name": "Julia 1.0.1",
   "language": "julia",
   "name": "julia-1.0"
  },
  "language_info": {
   "file_extension": ".jl",
   "mimetype": "application/julia",
   "name": "julia",
   "version": "1.0.1"
  }
 },
 "nbformat": 4,
 "nbformat_minor": 2
}
