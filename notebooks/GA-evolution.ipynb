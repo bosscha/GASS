{
 "cells": [
  {
   "cell_type": "markdown",
   "metadata": {},
   "source": [
    "### GASS evolution\n",
    "\n",
    "nb to test the evolution functions "
   ]
  },
  {
   "cell_type": "code",
   "execution_count": 13,
   "metadata": {},
   "outputs": [],
   "source": [
    "using PyCall\n",
    "using DataFrames\n",
    "using Printf\n",
    "\n",
    "rootdir = \"/home/stephane/Science/ALMA/ArrayConfig/GASS\"\n",
    "\n",
    "push!(LOAD_PATH,\"$rootdir/master/src\")\n",
    "using GASS\n",
    "using Printf\n",
    "\n",
    "import PyPlot\n",
    "import Random\n",
    "\n",
    "@pyimport astropy.coordinates as coord\n",
    "@pyimport astropy.modeling.models as am\n",
    "@pyimport astropy.modeling.fitting as mf\n",
    "\n",
    "@pyimport numpy as np\n",
    "\n",
    "\n",
    "## directory\n",
    "datadir = \"$rootdir/master/data\"\n",
    "wdir    = \"$rootdir/products\"\n",
    "plotdir = \"$rootdir/products/test\"\n",
    "\n",
    "cd(wdir)"
   ]
  },
  {
   "cell_type": "code",
   "execution_count": 14,
   "metadata": {},
   "outputs": [],
   "source": [
    "mutable struct _population\n",
    "    age::Int32                 ## age\n",
    "    subarr::Array{Array{Int,1},2}     ## {Population,Subindices}\n",
    "    fitness::Array{Float64,2}  ## fitness of each subarray\n",
    "    score::Array{Float64,1}    ## global score of each set\n",
    "    # prop::Array{Array{Float64,2},2}     ## beam and mrs for each subarray (to be confirmed)    \n",
    "end"
   ]
  },
  {
   "cell_type": "code",
   "execution_count": 15,
   "metadata": {},
   "outputs": [
    {
     "data": {
      "text/plain": [
       "_fitness_subarray (generic function with 1 method)"
      ]
     },
     "execution_count": 15,
     "metadata": {},
     "output_type": "execute_result"
    }
   ],
   "source": [
    "## fitness function for a subarray\n",
    "## cfg: GASS parameters\n",
    "## subarrid: subarray id (int)\n",
    "## subind: subarray indices in the main Arr.\n",
    "##\n",
    "function _fitness_subarray(cfg, subarrid, subind)\n",
    "    subarr = cfg.arr[subind,:]\n",
    "    \n",
    "    bl= calc_baselines(subarr)\n",
    "    uv= calc_uv(bl, cfg.obs.Source_Hour_Angle ,  cfg.obs.Source_Declination)\n",
    "    h , dr=  calc_dirtybeam(uv , 255, 127, robust=0.5)\n",
    "    b= fit_beam(h , dr)\n",
    "    mrs= calc_mrs(uv)\n",
    "    \n",
    "    #@printf(\"## subarray fitness \\n\")\n",
    "    #@printf(\"## beam:\")\n",
    "    #println(b)\n",
    "    #@printf(\"## MRS: %3.3f \\n\", mrs)\n",
    "    \n",
    "    res= 0\n",
    "    res += cfg.wei.Weight_Spatial_Resolution[subarrid]*abs(b.ar-cfg.sub.Spatial_Resolution[subarrid])\n",
    "    res += cfg.wei.Weight_Elongation[subarrid]*abs(b.e-cfg.sub.Elongation[subarrid])*sign(b.e-\n",
    "        cfg.sub.Elongation[subarrid])\n",
    "    res += cfg.wei.Weight_Sidelobe_Levels[subarrid]*abs(b.sidelobe-\n",
    "        cfg.sub.Sidelobe_Level[subarrid])*sign(b.sidelobe-cfg.sub.Sidelobe_Level[subarrid])\n",
    "    res += cfg.wei.Weight_Maximum_Recoverable_Scale[subarrid]*abs(mrs-\n",
    "        cfg.sub.Maximum_Recoverable_Scale[subarrid])*sign(cfg.sub.Maximum_Recoverable_Scale[subarrid]-mrs)\n",
    "    \n",
    "    return(res)\n",
    "end"
   ]
  },
  {
   "cell_type": "code",
   "execution_count": 16,
   "metadata": {},
   "outputs": [
    {
     "data": {
      "text/plain": [
       "_create_population (generic function with 1 method)"
      ]
     },
     "execution_count": 16,
     "metadata": {},
     "output_type": "execute_result"
    }
   ],
   "source": [
    "## Creation pf a population\n",
    "## \n",
    "\n",
    "function _create_population(cfg)\n",
    "    \n",
    "    pop= Array{Array{Int,1},2}(undef,cfg.ga.Population_Size,  cfg.obs.Subarray_Number)\n",
    "    fitness= Array{Float64,2}(undef,cfg.ga.Population_Size,  cfg.obs.Subarray_Number)\n",
    "    score=  Array{Float64,1}(undef,cfg.ga.Population_Size)\n",
    "    \n",
    "    subind= collect(1:cfg.obs.Antenna_Number)\n",
    "    \n",
    "    for i in 1:cfg.ga.Population_Size\n",
    "        Random.shuffle!(subind)\n",
    "        for j in 1:cfg.obs.Subarray_Number\n",
    "            pop[i,j]= subind[cfg.sub.Subrange[j]]\n",
    "            fitness[i,j]= _fitness_subarray(cfg, j, pop[i,j])\n",
    "            println(i,\" \",j,\" \",fitness[i,j])\n",
    "        end\n",
    "        score[i]= -sum(cfg.wei.Weight_Subarray[:] .* fitness[i,:])\n",
    "    end\n",
    "    \n",
    "    _pop= _population(0, pop, fitness, score)\n",
    "    \n",
    "    return(_pop)\n",
    "end"
   ]
  },
  {
   "cell_type": "code",
   "execution_count": 17,
   "metadata": {},
   "outputs": [
    {
     "data": {
      "text/plain": [
       "_get_elitism (generic function with 1 method)"
      ]
     },
     "execution_count": 17,
     "metadata": {},
     "output_type": "execute_result"
    }
   ],
   "source": [
    "## get best parents\n",
    "##\n",
    "\n",
    "function _get_elitism(cfg, pop::_population)\n",
    "    isort= reverse(sortperm(pop.score))\n",
    "    \n",
    "    elit= []\n",
    "    for i in 1:cfg.ga.Number_Elitism\n",
    "        push!(elit, [pop.subarr[isort[i],:], pop.fitness[isort[i],:], pop.score[isort[i]]])\n",
    "    end\n",
    "    return(elit)\n",
    "end"
   ]
  },
  {
   "cell_type": "code",
   "execution_count": 18,
   "metadata": {},
   "outputs": [
    {
     "name": "stdout",
     "output_type": "stream",
     "text": [
      "## Input Parameters for GASS \n",
      "### Configuration file: ../master/data/O-3.cfg \n",
      "### Obs. Latitude: -23.026 \n",
      "### Source Declination: -50.0 \n",
      "### HA: 0.0 \n",
      "### Antenna number: 50 \n",
      "### Subarray number: 4 \n",
      "##\n",
      "## Subarray Parameters\n",
      "### Pads per subarray: [30, 10, 7, 3]\n",
      "### Name: [\"Sub_1\", \" Sub_2 \", \" Sub_3 \", \" Sub_4\"]\n",
      "### AR: [2.3, 3.0, 3.5, 3.5]\n",
      "### MRS: [20.0, 20.0, 10.0, 10.0]\n",
      "### elongation: [1.2, 1.3, 2.0, 3.0]\n",
      "### sidelobe: [10.0, 20.0, 60.0, 60.0]\n",
      "##\n",
      "## GA parameters\n",
      "### Iterations: 100 \n",
      "### Population size: 10 \n",
      "### Mutation rate: 0.050 \n",
      "### Tournament size: 5 \n",
      "### Elitism: 5 \n",
      "##\n",
      "## Weights\n",
      "### Subarray weights: [0.25, 0.25, 0.25, 0.25]\n",
      "### AR weights: [0.25, 0.25, 0.25, 0.25]\n",
      "### MRS weights: [0.25, 0.25, 0.25, 0.25]\n",
      "### elongation weights: [0.25, 0.25, 0.25, 0.25]\n",
      "### sidelobe weights: [0.25, 0.25, 0.25, 0.25]\n",
      "##\n",
      "##\n",
      "## Create population...\n",
      "1 1 1.0798583652788207\n",
      "1 2 -1.0752942394539526\n",
      "1 3 -11.172047282389977\n",
      "1 4 -13.39543048749709\n",
      "2 1 1.4879708249623822\n",
      "2 2 1.3298344414035719\n",
      "2 3 -14.258430478765058\n",
      "2 4 -11.582610866138952\n",
      "3 1 1.1315686774415132\n",
      "3 2 -1.6112835705931565\n",
      "3 3 -14.517847402166328\n",
      "3 4 -7.711613971023517\n",
      "4 1 1.8945688727254848\n",
      "4 2 -0.4997438405198664\n",
      "4 3 -10.77222525969615\n",
      "4 4 3.2715768853066916\n",
      "5 1 -0.7005285885822428\n",
      "5 2 0.5323524023903903\n",
      "5 3 -12.09319966852706\n",
      "5 4 3.730027357444021\n",
      "6 1 2.516244171935248\n",
      "6 2 -5.4876455265541955\n",
      "6 3 -8.525962416959626\n",
      "6 4 3.921814096568383\n",
      "7 1 1.9655224475101214\n",
      "7 2 -0.30467116898423496\n",
      "7 3 -8.887066107422552\n",
      "7 4 13.156536036482105\n",
      "8 1 2.5047922604447863\n",
      "8 2 0.45092177602742556\n",
      "8 3 -11.884009827030091\n",
      "8 4 12.479230571700317\n",
      "9 1 2.406461853614536\n",
      "9 2 -4.226031556875315\n",
      "9 3 -10.686297044076502\n",
      "9 4 -13.833134461994284\n",
      "10 1 2.446663652651261\n",
      "10 2 -0.035064063511727195\n",
      "10 3 -12.95352416857287\n",
      "10 4 6.256064458690405\n",
      "Any[Any[Array{Int64,1}[[31, 47, 11, 34, 13, 44, 38, 24, 18, 49, 41, 36, 23, 21, 32, 33, 20, 4, 43, 6, 7, 27, 10, 50, 37, 9, 1, 12, 19, 40], [17, 2, 3, 45, 28, 30, 14, 39, 22, 16], [29, 42, 46, 26, 8, 48, 35], [25, 5, 15]], [2.40646, -4.22603, -10.6863, -13.8331], 6.58475], Any[Array{Int64,1}[[49, 23, 29, 38, 27, 2, 19, 50, 7, 37, 28, 41, 20, 46, 22, 34, 40, 15, 17, 25, 9, 21, 13, 30, 39, 43, 45, 6, 35, 10], [1, 42, 11, 44, 8, 31, 26, 48, 4, 33], [16, 12, 14, 5, 36, 3, 32], [47, 24, 18]], [1.07986, -1.07529, -11.172, -13.3954], 6.14073], Any[Array{Int64,1}[[5, 26, 40, 49, 4, 6, 50, 1, 7, 23, 37, 33, 2, 28, 9, 20, 12, 16, 22, 8, 18, 31, 34, 47, 19, 43, 11, 35, 29, 27], [45, 25, 17, 44, 42, 10, 46, 14, 36, 48], [38, 21, 41, 15, 30, 13, 24], [39, 32, 3]], [1.48797, 1.32983, -14.2584, -11.5826], 5.75581], Any[Array{Int64,1}[[9, 12, 25, 43, 21, 30, 19, 5, 41, 14, 2, 26, 8, 39, 11, 27, 37, 20, 7, 40, 49, 31, 50, 46, 3, 34, 29, 1, 18, 13], [38, 44, 28, 47, 16, 45, 33, 23, 35, 6], [15, 4, 36, 22, 32, 24, 48], [42, 10, 17]], [1.13157, -1.61128, -14.5178, -7.71161], 5.67729], Any[Array{Int64,1}[[26, 20, 18, 35, 6, 44, 39, 24, 28, 31, 30, 14, 17, 49, 16, 38, 43, 2, 42, 36, 48, 7, 33, 34, 29, 1, 46, 8, 21, 12], [5, 13, 23, 3, 22, 47, 45, 40, 41, 9], [25, 50, 4, 19, 32, 27, 11], [37, 15, 10]], [-0.700529, 0.532352, -12.0932, 3.73003], 2.13284]]\n"
     ]
    }
   ],
   "source": [
    "macro main(inpfile)\n",
    "    cfg = read_cfg(inpfile , verbose=true)\n",
    "    \n",
    "    println(\"##\")\n",
    "    println(\"## Create population...\")\n",
    "    p0= _create_population(cfg)\n",
    "    pelit= _get_elitism(cfg, p0)\n",
    "    println(pelit)\n",
    "    \n",
    "    ## PLOT ####\n",
    "    #PyPlot.imshow(h)\n",
    "    #PyPlot.colorbar()\n",
    "    #PyPlot.show()\n",
    "    \n",
    "end\n",
    "\n",
    "@main(\"../master/data/GA_Inputs_O-3.txt.julia\")"
   ]
  }
 ],
 "metadata": {
  "kernelspec": {
   "display_name": "Julia 1.1.0",
   "language": "julia",
   "name": "julia-1.1"
  },
  "language_info": {
   "file_extension": ".jl",
   "mimetype": "application/julia",
   "name": "julia",
   "version": "1.1.0"
  }
 },
 "nbformat": 4,
 "nbformat_minor": 2
}
