{
 "cells": [
  {
   "cell_type": "markdown",
   "metadata": {},
   "source": [
    "### GASS evolution\n",
    "\n",
    "nb to test the evolution functions "
   ]
  },
  {
   "cell_type": "code",
   "execution_count": 16,
   "metadata": {},
   "outputs": [],
   "source": [
    "using PyCall\n",
    "using DataFrames\n",
    "using Printf\n",
    "\n",
    "rootdir = \"/home/stephane/Science/ALMA/ArrayConfig/GASS\"\n",
    "\n",
    "push!(LOAD_PATH,\"$rootdir/master/src\")\n",
    "using GASS\n",
    "using Printf\n",
    "\n",
    "import PyPlot\n",
    "import Random\n",
    "\n",
    "@pyimport astropy.coordinates as coord\n",
    "@pyimport astropy.modeling.models as am\n",
    "@pyimport astropy.modeling.fitting as mf\n",
    "\n",
    "@pyimport numpy as np\n",
    "\n",
    "\n",
    "## directory\n",
    "datadir = \"$rootdir/master/data\"\n",
    "wdir    = \"$rootdir/products\"\n",
    "plotdir = \"$rootdir/products/test\"\n",
    "\n",
    "cd(wdir)"
   ]
  },
  {
   "cell_type": "code",
   "execution_count": 17,
   "metadata": {},
   "outputs": [],
   "source": [
    "mutable struct _population\n",
    "    age::Int32                 ## age\n",
    "    subarr::Array{Array{Int,1},2}     ## {Population,Subindices}\n",
    "    fitness::Array{Float64,2}  ## fitness of each subarray\n",
    "    score::Array{Float64,1}    ## global score of each set\n",
    "    # prop::Array{Array{Float64,2},2}     ## beam and mrs for each subarray (to be confirmed)    \n",
    "end"
   ]
  },
  {
   "cell_type": "code",
   "execution_count": 18,
   "metadata": {},
   "outputs": [
    {
     "data": {
      "text/plain": [
       "_fitness_subarray (generic function with 1 method)"
      ]
     },
     "execution_count": 18,
     "metadata": {},
     "output_type": "execute_result"
    }
   ],
   "source": [
    "## fitness function for a subarray\n",
    "## cfg: GASS parameters\n",
    "## subarrid: subarray id (int)\n",
    "## subind: subarray indices in the main Arr.\n",
    "##\n",
    "function _fitness_subarray(cfg, subarrid, subind)\n",
    "    subarr = cfg.arr[subind,:]\n",
    "    \n",
    "    bl= calc_baselines(subarr)\n",
    "    uv= calc_uv(bl, cfg.obs.Source_Hour_Angle ,  cfg.obs.Source_Declination)\n",
    "    h , dr=  calc_dirtybeam(uv , 255, 127, robust=0.5)\n",
    "    b= fit_beam(h , dr)\n",
    "    mrs= calc_mrs(uv)\n",
    "    \n",
    "    #@printf(\"## subarray fitness \\n\")\n",
    "    #@printf(\"## beam:\")\n",
    "    #println(b)\n",
    "    #@printf(\"## MRS: %3.3f \\n\", mrs)\n",
    "    \n",
    "    res= 0\n",
    "    res += cfg.wei.Weight_Spatial_Resolution[subarrid]*abs(b.ar-cfg.sub.Spatial_Resolution[subarrid])\n",
    "    res += cfg.wei.Weight_Elongation[subarrid]*abs(b.e-cfg.sub.Elongation[subarrid])*sign(b.e-\n",
    "        cfg.sub.Elongation[subarrid])\n",
    "    res += cfg.wei.Weight_Sidelobe_Levels[subarrid]*abs(b.sidelobe-\n",
    "        cfg.sub.Sidelobe_Level[subarrid])*sign(b.sidelobe-cfg.sub.Sidelobe_Level[subarrid])\n",
    "    res += cfg.wei.Weight_Maximum_Recoverable_Scale[subarrid]*abs(mrs-\n",
    "        cfg.sub.Maximum_Recoverable_Scale[subarrid])*sign(cfg.sub.Maximum_Recoverable_Scale[subarrid]-mrs)\n",
    "    \n",
    "    return(res)\n",
    "end"
   ]
  },
  {
   "cell_type": "code",
   "execution_count": 19,
   "metadata": {},
   "outputs": [
    {
     "data": {
      "text/plain": [
       "_create_population (generic function with 1 method)"
      ]
     },
     "execution_count": 19,
     "metadata": {},
     "output_type": "execute_result"
    }
   ],
   "source": [
    "## Creation pf a population\n",
    "## \n",
    "\n",
    "function _create_population(cfg)\n",
    "    \n",
    "    pop= Array{Array{Int,1},2}(undef,cfg.ga.Population_Size,  cfg.obs.Subarray_Number)\n",
    "    fitness= Array{Float64,2}(undef,cfg.ga.Population_Size,  cfg.obs.Subarray_Number)\n",
    "    score=  Array{Float64,1}(undef,cfg.ga.Population_Size)\n",
    "    \n",
    "    subind= collect(1:cfg.obs.Antenna_Number)\n",
    "    \n",
    "    for i in 1:cfg.ga.Population_Size\n",
    "        Random.shuffle!(subind)\n",
    "        for j in 1:cfg.obs.Subarray_Number\n",
    "            pop[i,j]= subind[cfg.sub.Subrange[j]]\n",
    "            fitness[i,j]= _fitness_subarray(cfg, j, pop[i,j])\n",
    "            println(i,\" \",j,\" \",fitness[i,j])\n",
    "        end\n",
    "        score[i]= -sum(cfg.wei.Weight_Subarray[:] .* fitness[i,:])\n",
    "        println(score[i])\n",
    "    end\n",
    "    \n",
    "    _pop= _population(0, pop, fitness, score)\n",
    "    \n",
    "    return(_pop)\n",
    "end"
   ]
  },
  {
   "cell_type": "code",
   "execution_count": null,
   "metadata": {},
   "outputs": [],
   "source": [
    "## get best parents\n",
    "##\n",
    "\n",
    "function get_elitism()"
   ]
  },
  {
   "cell_type": "code",
   "execution_count": 20,
   "metadata": {},
   "outputs": [
    {
     "name": "stdout",
     "output_type": "stream",
     "text": [
      "## Input Parameters for GASS \n",
      "### Configuration file: ../master/data/O-3.cfg \n",
      "### Obs. Latitude: -23.026 \n",
      "### Source Declination: -50.0 \n",
      "### HA: 0.0 \n",
      "### Antenna number: 50 \n",
      "### Subarray number: 4 \n",
      "##\n",
      "## Subarray Parameters\n",
      "### Pads per subarray: [30, 10, 7, 3]\n",
      "### Name: [\"Sub_1\", \" Sub_2 \", \" Sub_3 \", \" Sub_4\"]\n",
      "### AR: [2.3, 3.0, 3.5, 3.5]\n",
      "### MRS: [20.0, 20.0, 10.0, 10.0]\n",
      "### elongation: [1.2, 1.3, 2.0, 3.0]\n",
      "### sidelobe: [10.0, 20.0, 60.0, 60.0]\n",
      "##\n",
      "## GA parameters\n",
      "### Iterations: 100 \n",
      "### Population size: 10 \n",
      "### Mutation rate: 0.050 \n",
      "### Tournament size: 5 \n",
      "### Elitism: 5 \n",
      "##\n",
      "## Weights\n",
      "### Subarray weights: [0.25, 0.25, 0.25, 0.25]\n",
      "### AR weights: [0.25, 0.25, 0.25, 0.25]\n",
      "### MRS weights: [0.25, 0.25, 0.25, 0.25]\n",
      "### elongation weights: [0.25, 0.25, 0.25, 0.25]\n",
      "### sidelobe weights: [0.25, 0.25, 0.25, 0.25]\n",
      "##\n",
      "##\n",
      "## Create population...\n",
      "1 1 -2.8051851773080823\n",
      "1 2 0.7039539226121061\n",
      "1 3 -15.658596634649843\n",
      "1 4 -11.370570151187483\n",
      "7.282599510133325\n",
      "2 1 2.4716972809935527\n",
      "2 2 -1.4711238040305656\n",
      "2 3 -12.696747100139735\n",
      "2 4 6.515622443951292\n",
      "1.2951377948063638\n",
      "3 1 2.332699318576475\n",
      "3 2 -0.378478463448257\n",
      "3 3 -36.25828051350905\n",
      "3 4 -12.9654062210416\n",
      "11.817366469855607\n",
      "4 1 2.6408642500099972\n",
      "4 2 -0.2710185311201445\n",
      "4 3 -11.382577906015966\n",
      "4 4 5.942632596772774\n",
      "0.7675248975883349\n",
      "5 1 2.3217801964686315\n",
      "5 2 -4.469515539872672\n",
      "5 3 -16.297373152909817\n",
      "5 4 115710.5231993955\n",
      "-28923.019522724797\n",
      "6 1 -2.3051513726098904\n",
      "6 2 -0.5999673173655298\n",
      "6 3 -10.122214370292676\n",
      "6 4 9.872712467897827\n",
      "0.7886551480925674\n",
      "7 1 1.066095270271312\n",
      "7 2 1.2880951818301742\n",
      "7 3 -14.763304783496082\n",
      "7 4 -13.101816229243425\n",
      "6.377732640159506\n",
      "8 1 2.7042000264648287\n",
      "8 2 0.29794917023490397\n",
      "8 3 -13.136287042788531\n",
      "8 4 11.778077387111907\n",
      "-0.41098488525577714\n",
      "9 1 -0.2860591905450811\n",
      "9 2 0.41312588309357645\n",
      "9 3 -11.83466643088379\n",
      "9 4 10.362488701142755\n",
      "0.3362777592981345\n",
      "10 1 1.217104267279661\n",
      "10 2 0.28028712609978035\n",
      "10 3 -3.837058555793963\n",
      "10 4 28.83471362638753\n",
      "-6.623761615993252\n",
      "Array{Array{Int64,1},2}\n",
      "Array{Float64,2}\n",
      "Array{Float64,1}\n",
      "_population(0, Array{Int64,1}[[17, 23, 15, 47, 49, 42, 4, 7, 10, 6, 16, 44, 45, 46, 13, 40, 30, 31, 43, 19, 38, 22, 8, 5, 26, 12, 50, 3, 24, 2] [33, 18, 35, 48, 34, 14, 21, 11, 9, 41] [37, 39, 28, 27, 1, 32, 29] [36, 20, 25]; [27, 8, 14, 50, 30, 12, 41, 28, 40, 10, 24, 7, 31, 49, 13, 16, 38, 6, 42, 22, 19, 32, 33, 47, 9, 48, 11, 25, 29, 18] [3, 20, 26, 46, 15, 1, 39, 44, 34, 5] [21, 37, 17, 36, 4, 2, 23] [43, 45, 35]; [20, 24, 40, 12, 6, 10, 43, 36, 16, 30, 26, 33, 41, 19, 28, 21, 2, 9, 37, 17, 32, 49, 13, 4, 42, 3, 44, 50, 22, 8] [29, 11, 47, 48, 35, 39, 46, 14, 45, 7] [27, 5, 1, 15, 31, 34, 38] [23, 18, 25]; [24, 40, 31, 34, 2, 33, 5, 7, 16, 13, 8, 17, 4, 39, 47, 10, 30, 6, 27, 25, 43, 3, 26, 37, 20, 38, 15, 19, 46, 29] [42, 45, 44, 32, 14, 50, 9, 1, 23, 28] [49, 35, 18, 12, 41, 22, 21] [48, 11, 36]; [49, 39, 20, 50, 24, 18, 42, 43, 12, 23, 38, 37, 8, 40, 21, 11, 47, 31, 45, 35, 25, 32, 1, 19, 41, 16, 14, 9, 34, 46] [33, 28, 30, 4, 13, 3, 7, 6, 44, 48] [17, 15, 2, 22, 29, 10, 26] [36, 5, 27]; [19, 20, 48, 40, 22, 27, 26, 32, 8, 31, 7, 16, 41, 36, 15, 46, 18, 30, 35, 2, 13, 3, 21, 38, 4, 9, 28, 10, 12, 49] [29, 24, 6, 25, 47, 39, 14, 50, 37, 5] [34, 11, 23, 43, 1, 44, 45] [17, 42, 33]; [6, 39, 19, 2, 22, 44, 32, 20, 41, 8, 5, 10, 14, 48, 26, 43, 25, 47, 49, 50, 11, 37, 9, 24, 30, 29, 7, 21, 36, 33] [46, 16, 23, 38, 3, 13, 17, 28, 40, 4] [1, 18, 31, 42, 12, 45, 27] [15, 35, 34]; [35, 19, 25, 10, 46, 4, 3, 8, 42, 26, 31, 21, 12, 13, 34, 15, 6, 40, 39, 48, 41, 2, 7, 32, 29, 50, 22, 45, 24, 43] [11, 47, 20, 23, 30, 37, 1, 16, 28, 17] [9, 27, 38, 5, 18, 44, 14] [36, 33, 49]; [37, 19, 21, 13, 46, 3, 29, 24, 31, 47, 39, 27, 38, 15, 30, 35, 17, 11, 44, 25, 26, 4, 42, 2, 32, 16, 33, 6, 23, 50] [45, 40, 1, 5, 49, 22, 48, 43, 12, 28] [41, 8, 9, 14, 10, 18, 34] [36, 7, 20]; [31, 17, 11, 28, 23, 10, 32, 27, 14, 33, 47, 29, 18, 42, 40, 15, 2, 36, 30, 50, 38, 3, 26, 21, 7, 1, 35, 13, 44, 9] [6, 8, 46, 49, 16, 22, 24, 25, 12, 45] [41, 37, 5, 43, 39, 48, 34] [19, 4, 20]], [-2.80519 0.703954 -15.6586 -11.3706; 2.4717 -1.47112 -12.6967 6.51562; 2.3327 -0.378478 -36.2583 -12.9654; 2.64086 -0.271019 -11.3826 5.94263; 2.32178 -4.46952 -16.2974 1.15711e5; -2.30515 -0.599967 -10.1222 9.87271; 1.0661 1.2881 -14.7633 -13.1018; 2.7042 0.297949 -13.1363 11.7781; -0.286059 0.413126 -11.8347 10.3625; 1.2171 0.280287 -3.83706 28.8347], [7.2826, 1.29514, 11.8174, 0.767525, -28923.0, 0.788655, 6.37773, -0.410985, 0.336278, -6.62376])\n"
     ]
    }
   ],
   "source": [
    "macro main(inpfile)\n",
    "    cfg = read_cfg(inpfile , verbose=true)\n",
    "    \n",
    "    println(\"##\")\n",
    "    println(\"## Create population...\")\n",
    "    p0= _create_population(cfg)\n",
    "    \n",
    "    ## PLOT ####\n",
    "    #PyPlot.imshow(h)\n",
    "    #PyPlot.colorbar()\n",
    "    #PyPlot.show()\n",
    "    \n",
    "end\n",
    "\n",
    "@main(\"../master/data/GA_Inputs_O-3.txt.julia\")"
   ]
  }
 ],
 "metadata": {
  "kernelspec": {
   "display_name": "Julia 1.1.0",
   "language": "julia",
   "name": "julia-1.1"
  },
  "language_info": {
   "file_extension": ".jl",
   "mimetype": "application/julia",
   "name": "julia",
   "version": "1.1.0"
  }
 },
 "nbformat": 4,
 "nbformat_minor": 2
}
