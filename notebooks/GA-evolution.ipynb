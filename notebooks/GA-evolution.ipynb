{
 "cells": [
  {
   "cell_type": "markdown",
   "metadata": {},
   "source": [
    "### GASS evolution\n",
    "\n",
    "nb to test the evolution functions "
   ]
  },
  {
   "cell_type": "code",
   "execution_count": 1,
   "metadata": {},
   "outputs": [],
   "source": [
    "using PyCall\n",
    "using DataFrames\n",
    "using Printf\n",
    "\n",
    "rootdir = \"/home/stephane/Science/ALMA/ArrayConfig/GASS\"\n",
    "\n",
    "push!(LOAD_PATH,\"$rootdir/master/src\")\n",
    "using GASS\n",
    "using Printf\n",
    "\n",
    "import PyPlot\n",
    "import Random\n",
    "\n",
    "@pyimport astropy.coordinates as coord\n",
    "@pyimport astropy.modeling.models as am\n",
    "@pyimport astropy.modeling.fitting as mf\n",
    "\n",
    "@pyimport numpy as np\n",
    "\n",
    "\n",
    "## directory\n",
    "datadir = \"$rootdir/master/data\"\n",
    "wdir    = \"$rootdir/products\"\n",
    "plotdir = \"$rootdir/products/test\"\n",
    "\n",
    "cd(wdir)"
   ]
  },
  {
   "cell_type": "code",
   "execution_count": 2,
   "metadata": {},
   "outputs": [],
   "source": [
    "mutable struct _population\n",
    "    age::Int32                 ## age\n",
    "    subarr::Array{Array{Int,1},2}     ## {Population,Subindices}\n",
    "    fitness::Array{Array{Float64,1},2}  ## fitness of each subarray\n",
    "    score::Array{Float64,1}    ## global score of each set\n",
    "    prop::Array{Array{Float64,2},2}     ## beam and mrs for each subarray (to be confirmed)    \n",
    "end"
   ]
  },
  {
   "cell_type": "code",
   "execution_count": 3,
   "metadata": {},
   "outputs": [
    {
     "data": {
      "text/plain": [
       "_fitness_subarray (generic function with 1 method)"
      ]
     },
     "execution_count": 3,
     "metadata": {},
     "output_type": "execute_result"
    }
   ],
   "source": [
    "## fitness function for a subarray\n",
    "## cfg: GASS parameters\n",
    "## subarrid: subarray id (int)\n",
    "## subind: subarray indices in the main Arr.\n",
    "##\n",
    "function _fitness_subarray(cfg, subarrid, subind)\n",
    "    subarr = cfg.arr[subind,:]\n",
    "    \n",
    "    bl= calc_baselines(subarr)\n",
    "    uv= calc_uv(bl, cfg.obs.Source_Hour_Angle ,  cfg.obs.Source_Declination)\n",
    "    h , dr=  calc_dirtybeam(uv , 255, 127, robust=0.5)\n",
    "    b= fit_beam(h , dr)\n",
    "    mrs= calc_mrs(uv)\n",
    "    \n",
    "    #@printf(\"## subarray fitness \\n\")\n",
    "    #@printf(\"## beam:\")\n",
    "    #println(b)\n",
    "    #@printf(\"## MRS: %3.3f\", mrs)\n",
    "    \n",
    "    res= 0\n",
    "    res += cfg.wei.Weight_Spatial_Resolution[subarrid]*abs(b.ar-cfg.sub.Spatial_Resolution[subarrid])\n",
    "    res += cfg.wei.Weight_Elongation[subarrid]*abs(b.e-cfg.sub.Elongation[subarrid])\n",
    "    \n",
    "    return(res)\n",
    "end"
   ]
  },
  {
   "cell_type": "code",
   "execution_count": 4,
   "metadata": {},
   "outputs": [
    {
     "data": {
      "text/plain": [
       "_create_population (generic function with 1 method)"
      ]
     },
     "execution_count": 4,
     "metadata": {},
     "output_type": "execute_result"
    }
   ],
   "source": [
    "## Creation pf a population\n",
    "## \n",
    "\n",
    "function _create_population(cfg)\n",
    "    \n",
    "    pop= Array{Array{Int,1},2}(undef,cfg.ga.Population_Size,  cfg.obs.Subarray_Number)\n",
    "    fitness= Array{Float64,2}(undef,cfg.ga.Population_Size,  cfg.obs.Subarray_Number)\n",
    "    \n",
    "    subind= collect(1:cfg.obs.Antenna_Number)\n",
    "    \n",
    "    for i in 1:cfg.ga.Population_Size\n",
    "        Random.shuffle!(subind)\n",
    "        for j in 1:cfg.obs.Subarray_Number\n",
    "            pop[i,j]= subind[cfg.sub.Subrange[j]]\n",
    "            fitness[i,j]= _fitness_subarray(cfg, j, pop[i,j])\n",
    "            println(i,\" \",j,\" \",fitness[i,j])\n",
    "        end  \n",
    "    end\n",
    "    \n",
    "end"
   ]
  },
  {
   "cell_type": "code",
   "execution_count": 5,
   "metadata": {},
   "outputs": [
    {
     "name": "stdout",
     "output_type": "stream",
     "text": [
      "## Input Parameters for GASS \n",
      "### Configuration file: ../master/data/O-3.cfg \n",
      "### Obs. Latitude: -23.026 \n",
      "### Source Declination: -50.0 \n",
      "### HA: 0.0 \n",
      "### Antenna number: 50 \n",
      "### Subarray number: 4 \n",
      "##\n",
      "## Subarray Parameters\n",
      "### Pads per subarray: [30, 10, 7, 3]\n",
      "### Name: [\"Sub_1\", \" Sub_2 \", \" Sub_3 \", \" Sub_4\"]\n",
      "### AR: [2.3, 3.0, 3.5, 3.5]\n",
      "### MRS: [20.0, 20.0, 10.0, 10.0]\n",
      "### elongation: [1.2, 1.3, 2.0, 3.0]\n",
      "### sidelobe: [10.0, 20.0, 60.0, 60.0]\n",
      "##\n",
      "## GA parameters\n",
      "### Iterations: 100 \n",
      "### Population size: 15 \n",
      "### Mutation rate: 0.050 \n",
      "### Tournament size: 5 \n",
      "### Elitism: 5 \n",
      "##\n",
      "subarrayParameters([30, 10, 7, 3], [\"Sub_1\", \" Sub_2 \", \" Sub_3 \", \" Sub_4\"], UnitRange{Int64}[1:30, 31:40, 41:47, 48:50], [2.3, 3.0, 3.5, 3.5], [20.0, 20.0, 10.0, 10.0], [1.2, 1.3, 2.0, 3.0], [10.0, 20.0, 60.0, 60.0])\n",
      "GA(100, 15, false, -0.05, 0.05, 5, 5)\n",
      "##\n",
      "## Create population...\n",
      "1 1 0.4674742454253212\n",
      "1 2 0.425\n",
      "1 3 0.375\n",
      "1 4 0.8009374909305391\n",
      "2 1 0.46873005597153866\n",
      "2 2 0.425\n",
      "2 3 0.375\n",
      "2 4 0.8007107853814097\n",
      "3 1 0.4507417713884348\n",
      "3 2 0.425\n",
      "3 3 0.4120879274883098\n",
      "3 4 2.899844059786819\n",
      "4 1 0.3489607332486589\n",
      "4 2 0.43616770151870393\n",
      "4 3 0.3771779238074413\n",
      "4 4 4.7268403056140516\n",
      "5 1 0.4065970570614384\n",
      "5 2 0.425\n",
      "5 3 0.4811601163207564\n",
      "5 4 5.135310150683846\n",
      "6 1 0.42280750129701034\n",
      "6 2 0.425\n",
      "6 3 0.49259107660761026\n",
      "6 4 2.810488266595402\n",
      "7 1 0.4478320213249954\n",
      "7 2 0.425\n",
      "7 3 0.375\n",
      "7 4 4.29505700444916\n",
      "8 1 0.457627310327917\n",
      "8 2 0.425\n",
      "8 3 0.375\n",
      "8 4 5.785198711025549\n",
      "9 1 0.43671487675608495\n",
      "9 2 0.8978473689147555\n",
      "9 3 0.375\n",
      "9 4 0.533381314214866\n",
      "10 1 0.504043659489606\n",
      "10 2 0.425\n",
      "10 3 0.6728897605175748\n",
      "10 4 3.0188912782898\n",
      "11 1 0.45145370852294603\n",
      "11 2 0.425\n",
      "11 3 0.375\n",
      "11 4 1.0218909054322767\n",
      "12 1 0.3761739475825204\n",
      "12 2 0.425\n",
      "12 3 0.375\n",
      "12 4 3.527285659397129\n",
      "13 1 0.37615509768532035\n",
      "13 2 0.425\n",
      "13 3 0.42760765834499526\n",
      "13 4 2.7945245354238484\n",
      "14 1 0.39133222592468636\n",
      "14 2 0.6009958016864718\n",
      "14 3 0.375\n",
      "14 4 1.4200821404607105\n",
      "15 1 0.40137091920205853\n",
      "15 2 0.425\n",
      "15 3 0.5380463965070617\n",
      "15 4 3.6855541488247754\n"
     ]
    }
   ],
   "source": [
    "macro main(inpfile)\n",
    "    cfg = read_cfg(inpfile , verbose=true)\n",
    "    println(cfg.sub)\n",
    "    println(cfg.ga)  \n",
    "    \n",
    "    println(\"##\")\n",
    "    println(\"## Create population...\")\n",
    "    _create_population(cfg)\n",
    "    \n",
    "    ## PLOT ####\n",
    "    #PyPlot.imshow(h)\n",
    "    #PyPlot.colorbar()\n",
    "    #PyPlot.show()\n",
    "    \n",
    "end\n",
    "\n",
    "@main(\"../master/data/GA_Inputs_O-3.txt.julia\")"
   ]
  }
 ],
 "metadata": {
  "kernelspec": {
   "display_name": "Julia 1.1.0",
   "language": "julia",
   "name": "julia-1.1"
  },
  "language_info": {
   "file_extension": ".jl",
   "mimetype": "application/julia",
   "name": "julia",
   "version": "1.1.0"
  }
 },
 "nbformat": 4,
 "nbformat_minor": 2
}
