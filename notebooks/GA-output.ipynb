{
 "cells": [
  {
   "cell_type": "markdown",
   "metadata": {},
   "source": [
    "## GA-output\n",
    "\n",
    "Nb to test the output files and params of  the GASS"
   ]
  },
  {
   "cell_type": "code",
   "execution_count": null,
   "metadata": {},
   "outputs": [],
   "source": [
    "using PyCall\n",
    "using DataFrames\n",
    "\n",
    "rootdir = \"/home/stephane/Science/ALMA/ArrayConfig/GASS\"\n",
    "#rootdir = \"/home/stephane/alma/ArrayConfig/GASS\"\n",
    "\n",
    "push!(LOAD_PATH,\"$rootdir/master/src\")\n",
    "using GASS\n",
    "using Printf\n",
    "\n",
    "import PyPlot\n",
    "import Random\n",
    "import JLD\n",
    "\n",
    "np= pyimport(\"numpy\")\n",
    "\n",
    "\n",
    "## directory\n",
    "datadir = \"$rootdir/master/data\"\n",
    "wdir    = \"$rootdir/products\"\n",
    "plotdir = \"$rootdir/products/test\"\n",
    "\n",
    "cd(wdir)"
   ]
  },
  {
   "cell_type": "code",
   "execution_count": null,
   "metadata": {},
   "outputs": [],
   "source": [
    "macro main(inpfile)\n",
    "    cfg = read_cfg(inpfile)\n",
    "    \n",
    "    res= gass_optimization(cfg)\n",
    "    \n",
    "    return(res)\n",
    "end\n",
    "\n",
    "res= @main(\"../master/data/GA_Parameters_O-3.txt.julia\")"
   ]
  },
  {
   "cell_type": "code",
   "execution_count": null,
   "metadata": {},
   "outputs": [],
   "source": [
    "println(res[1].age)\n",
    "println(res[1].fitness)\n",
    "println(res[5].score)\n",
    "\n",
    "JLD.save(\"test.jld\", \"gass\", res)"
   ]
  },
  {
   "cell_type": "code",
   "execution_count": null,
   "metadata": {},
   "outputs": [],
   "source": [
    "a = JLD.load(\"test.jld\")\n",
    "a[\"gass\"][5].subarr[5,2]"
   ]
  },
  {
   "cell_type": "code",
   "execution_count": null,
   "metadata": {},
   "outputs": [],
   "source": [
    "### save array in CASA format..\n",
    "###\n",
    "function _save_CASAarr(fileprefix::String, cfg::cfg, bestsub)\n",
    "    println(\"Saving results\")\n",
    "    println(cfg.arr)\n",
    "    println(cfg.sub)\n",
    "    #println(p.subarr)\n",
    "    #println(p.score)\n",
    "    #println(p.fitness)\n",
    "    \n",
    "    headerCasa= \"# observatory=ALMA\\n# coordsys=LOC (local tangent plane)\\n# x y z diam pad#\\n\"\n",
    "    \n",
    "    for i in 1:length(bestsub)\n",
    "        arrStr= string(headerCasa)\n",
    "        subname= cfg.sub.Subarray_Name[i]\n",
    "        # println(cfg.arr.X[bestsub[i]])\n",
    "        println(length(bestsub[i]))\n",
    "        for j in 1:length(bestsub[i])\n",
    "            arrStr *= @sprintf(\"%f %f %f %2.1f %s \\n\",cfg.arr.X[bestsub[i][j]], cfg.arr.Y[bestsub[i][j]] , \n",
    "                cfg.arr.Z[bestsub[i][j]] , cfg.arr.diam[bestsub[i][j]] , cfg.arr.name[bestsub[i][j]])\n",
    "        end\n",
    "        println(arrStr)\n",
    "        filename= fileprefix*subname*\".cfg\"\n",
    "        println(fileprefix)\n",
    "        println(subname)\n",
    "        println(filename)\n",
    "        f= open(filename, \"w\")\n",
    "        print(f,arrStr)\n",
    "        close(f)\n",
    "    end\n",
    "end\n",
    "\n",
    "## sort population wrt. score\n",
    "##\n",
    "function _sort_population(p::population)\n",
    "    println(\"Sorting..\")\n",
    "    s= sortperm(p.score, rev=true)\n",
    "    println(s)\n",
    "    psorted= population(p.age, p.subarr[s,:], p.fitness[s,:], p.score[s], p.param[s,:])\n",
    "    println(psorted.fitness)\n",
    "    return(psorted)\n",
    "end"
   ]
  },
  {
   "cell_type": "code",
   "execution_count": null,
   "metadata": {},
   "outputs": [],
   "source": [
    "inpfile= \"../master/data/GA_Inputs_O-3.txt.julia\"\n",
    "a= read_cfg(inpfile , verbose=true)\n",
    "println(typeof(res[1]))\n",
    "\n",
    "\n",
    "psort= _sort_population(res[5])\n",
    "## psort.subarr[1,:] is the first best solution...\n",
    "#println(psort.subarr[1,:])\n",
    "_save_CASAarr(\"toto-\",a, psort.subarr[1,:])\n"
   ]
  },
  {
   "cell_type": "code",
   "execution_count": null,
   "metadata": {},
   "outputs": [],
   "source": [
    "## full run with JLD output ..\n",
    "##\n",
    "function _full_run(fileprefix::String, cfg::cfg, jld= false)\n",
    "    println(fileprefix)\n",
    "    res= gass_optimization(cfg)\n",
    "\n",
    "    lastPopulation= cfg.ga.Number_Iterations\n",
    "    psort= _sort_population(res[lastPopulation])\n",
    "    _save_CASAarr(fileprefix, cfg, psort.subarr[1,:])\n",
    "    \n",
    "    if jld\n",
    "       JLD.save(fileprefix*\".jld\", \"evol\", res)\n",
    "       println(\"## $fileprefix.jld written..\")\n",
    "    end\n",
    "    \n",
    "    return(res)\n",
    "end"
   ]
  },
  {
   "cell_type": "code",
   "execution_count": null,
   "metadata": {},
   "outputs": [],
   "source": [
    "inpfile= \"../master/data/GA_Parameters_O-3.txt.julia\"\n",
    "cfg2 = read_cfg(inpfile)\n",
    "t= @time _full_run(\"toto_\" , cfg2 , true)"
   ]
  }
 ],
 "metadata": {
  "kernelspec": {
   "display_name": "Julia 1.1.0",
   "language": "julia",
   "name": "julia-1.1"
  },
  "language_info": {
   "file_extension": ".jl",
   "mimetype": "application/julia",
   "name": "julia",
   "version": "1.1.0"
  }
 },
 "nbformat": 4,
 "nbformat_minor": 2
}
