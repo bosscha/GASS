{
 "cells": [
  {
   "cell_type": "markdown",
   "metadata": {},
   "source": [
    "### GA analysis 1\n",
    "Nb to analytze the GA results"
   ]
  },
  {
   "cell_type": "code",
   "execution_count": 70,
   "metadata": {},
   "outputs": [],
   "source": [
    "using PyCall\n",
    "using DataFrames\n",
    "using Statistics\n",
    "using Seaborn\n",
    "\n",
    "rootdir = \"/home/stephane/Science/ALMA/ArrayConfig/GASS\"\n",
    "#rootdir = \"/home/stephane/alma/ArrayConfig/GASS\"\n",
    "\n",
    "push!(LOAD_PATH,\"$rootdir/master/src\")\n",
    "using GASS\n",
    "using Printf\n",
    "\n",
    "\n",
    "import Random\n",
    "import JLD\n",
    "\n",
    "np= pyimport(\"numpy\")\n",
    "\n",
    "## directory\n",
    "datadir = \"$rootdir/master/data\"\n",
    "wdir    = \"$rootdir/products\"\n",
    "plotdir = \"$rootdir/products/test\"\n",
    "\n",
    "cd(wdir)"
   ]
  },
  {
   "cell_type": "code",
   "execution_count": 71,
   "metadata": {},
   "outputs": [
    {
     "ename": "KeyError",
     "evalue": "KeyError: key \"evol\" not found",
     "output_type": "error",
     "traceback": [
      "KeyError: key \"evol\" not found",
      "",
      "Stacktrace:",
      " [1] getindex(::Dict{String,Any}, ::String) at ./dict.jl:478",
      " [2] top-level scope at In[71]:5"
     ]
    }
   ],
   "source": [
    "filename= \"test_.jld\"\n",
    "dat= JLD.load(filename)\n",
    "niter= length(dat[\"gass\"])\n",
    "popsize= size(dat[\"gass\"][1].score)[1]\n",
    "\n",
    "println(dat[\"evol\"][1].fitness)"
   ]
  },
  {
   "cell_type": "code",
   "execution_count": 72,
   "metadata": {},
   "outputs": [
    {
     "data": {
      "image/png": "[encoded data removed]",
      "text/plain": [
       "Figure(PyObject <Figure size 1000x800 with 1 Axes>)"
      ]
     },
     "metadata": {},
     "output_type": "display_data"
    }
   ],
   "source": [
    "sc= zeros(niter)\n",
    "time= zeros(niter)\n",
    "sc_err= zeros(niter)\n",
    "\n",
    "for i in 1:niter\n",
    "    time[i]= i\n",
    "    sc[i]= mean(dat[\"gass\"][i].score[1])\n",
    "    sc_err[i]= std(dat[\"gass\"][i].score)\n",
    "end\n",
    "\n",
    "\n",
    "fig = figure(figsize=(10,8))\n",
    "\n",
    "ax = subplot(221)\n",
    "grid(\"on\") \n",
    "plot(time, sc, \".r\", markersize = 1)\n",
    "errorbar(time, sc  ,yerr=  sc_err ./ 2 , fmt = \".r\" , capsize = 2 ,elinewidth=0.5)\n",
    "ax.set_ylim([-15.0, -5.0])\n",
    "xlabel(\"Iteration\")\n",
    "ylabel(\"Score\")\n",
    "\n",
    "show()"
   ]
  }
 ],
 "metadata": {
  "kernelspec": {
   "display_name": "Julia 1.1.0",
   "language": "julia",
   "name": "julia-1.1"
  },
  "language_info": {
   "file_extension": ".jl",
   "mimetype": "application/julia",
   "name": "julia",
   "version": "1.1.0"
  }
 },
 "nbformat": 4,
 "nbformat_minor": 2
}
