{
 "cells": [
  {
   "cell_type": "markdown",
   "metadata": {},
   "source": [
    "### GA analysis 1\n",
    "Nb to analytze the GA results"
   ]
  },
  {
   "cell_type": "code",
   "execution_count": 4,
   "metadata": {},
   "outputs": [],
   "source": [
    "using PyCall\n",
    "using DataFrames\n",
    "using Statistics\n",
    "using Seaborn\n",
    "\n",
    "rootdir = \"/home/stephane/Science/ALMA/ArrayConfig/GASS\"\n",
    "#rootdir = \"/home/stephane/alma/ArrayConfig/GASS\"\n",
    "\n",
    "push!(LOAD_PATH,\"$rootdir/master/src\")\n",
    "using GASS\n",
    "using Printf\n",
    "\n",
    "\n",
    "import Random\n",
    "import JLD\n",
    "\n",
    "np= pyimport(\"numpy\")\n",
    "\n",
    "## directory\n",
    "datadir = \"$rootdir/master/data\"\n",
    "wdir    = \"$rootdir/products\"\n",
    "plotdir = \"$rootdir/products/test\"\n",
    "\n",
    "cd(wdir)"
   ]
  },
  {
   "cell_type": "code",
   "execution_count": 5,
   "metadata": {},
   "outputs": [
    {
     "name": "stdout",
     "output_type": "stream",
     "text": [
      "[1.62008 4.68576 0.127518 0.231143; 1.70523 5.03992 0.215687 0.24584; 1.19129 4.68576 0.12475 0.121157; 1.56602 4.68576 -0.223478 0.24584; 1.44137 4.68576 0.145307 0.24584; 1.44999 7.10713 0.239972 0.24584; 1.31433 4.86222 0.230023 0.350318; 1.01966 5.10314 0.239972 0.24584; 1.72773 4.20169 -0.594401 0.231143; 1.41044 5.41317 0.117204 0.220549]\n"
     ]
    }
   ],
   "source": [
    "filename= \"test_.jld\"\n",
    "dat= JLD.load(filename)\n",
    "niter= length(dat[\"gass\"])\n",
    "popsize= size(dat[\"gass\"][1].score)[1]\n",
    "\n",
    "println(dat[\"gass\"][1].fitness)"
   ]
  },
  {
   "cell_type": "code",
   "execution_count": 8,
   "metadata": {},
   "outputs": [
    {
     "data": {
      "image/png": "[encoded data removed]",
      "text/plain": [
       "Figure(PyObject <Figure size 1000x800 with 1 Axes>)"
      ]
     },
     "metadata": {},
     "output_type": "display_data"
    }
   ],
   "source": [
    "sc= zeros(niter)\n",
    "time= zeros(niter)\n",
    "sc_err= zeros(niter)\n",
    "\n",
    "for i in 1:niter\n",
    "    time[i]= i\n",
    "    sc[i]= mean(dat[\"gass\"][i].score[1])\n",
    "    sc_err[i]= std(dat[\"gass\"][i].score)\n",
    "end\n",
    "\n",
    "\n",
    "fig = figure(figsize=(10,8))\n",
    "\n",
    "ax = subplot(221)\n",
    "grid(\"on\") \n",
    "plot(time, sc, \".r\", markersize = 1)\n",
    "errorbar(time, sc  ,yerr=  sc_err ./ 2 , fmt = \".r\" , capsize = 2 ,elinewidth=0.5)\n",
    "ax.set_ylim([-5.0, 1.0])\n",
    "xlabel(\"Iteration\")\n",
    "ylabel(\"Score\")\n",
    "\n",
    "show()"
   ]
  }
 ],
 "metadata": {
  "kernelspec": {
   "display_name": "Julia 1.1.0",
   "language": "julia",
   "name": "julia-1.1"
  },
  "language_info": {
   "file_extension": ".jl",
   "mimetype": "application/julia",
   "name": "julia",
   "version": "1.1.0"
  }
 },
 "nbformat": 4,
 "nbformat_minor": 2
}
